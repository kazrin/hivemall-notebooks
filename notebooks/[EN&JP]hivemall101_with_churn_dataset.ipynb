{
  "nbformat": 4,
  "nbformat_minor": 0,
  "metadata": {
    "colab": {
      "name": "[EN&JP]hivemall101_with_churn_dataset",
      "version": "0.3.2",
      "provenance": [],
      "collapsed_sections": [],
      "toc_visible": true,
      "include_colab_link": true
    },
    "kernelspec": {
      "name": "python3",
      "display_name": "Python 3"
    }
  },
  "cells": [
    {
      "cell_type": "markdown",
      "metadata": {
        "id": "view-in-github",
        "colab_type": "text"
      },
      "source": [
        "<a href=\"https://colab.research.google.com/github/td-yoshimura/hivemall-notebooks/blob/master/notebooks/%5BEN%26JP%5Dhivemall101_with_churn_dataset.ipynb\" target=\"_parent\"><img src=\"https://colab.research.google.com/assets/colab-badge.svg\" alt=\"Open In Colab\"/></a>"
      ]
    },
    {
      "metadata": {
        "id": "_7LEvE-nesLH",
        "colab_type": "text"
      },
      "cell_type": "markdown",
      "source": [
        "# Summary / 概要"
      ]
    },
    {
      "metadata": {
        "id": "JgWl2cgtexDl",
        "colab_type": "text"
      },
      "cell_type": "markdown",
      "source": [
        "By this notebook, you can upload churn datasets into your Treasure Data account briefly.  \n",
        "Please refer [this article](https://aws.amazon.com/blogs/machine-learning/predicting-customer-churn-with-amazon-machine-learning/)  \n",
        "Beforehand, you only have to \n",
        "- prepare UserName and Password\n",
        "- prepare the TD API key\n",
        "- create database  \n",
        "In addition, this notebook shows how to run a machine learning task with churn dataset.\n",
        "\n",
        "<br>\n",
        "\n",
        "[Churnデータセット](https://aws.amazon.com/blogs/machine-learning/predicting-customer-churn-with-amazon-machine-learning/) をTreasure Data環境にアップロードして、解約者の予測を行います。\n",
        "事前に必要なものは、\n",
        "- Treasure Dataのユーザ名とパスワード\n",
        "- Treasure DataのAPIキー\n",
        "- Databaseの作成  \n",
        "のみです。\n"
      ]
    },
    {
      "metadata": {
        "id": "MJ59nrCSe0HP",
        "colab_type": "code",
        "colab": {}
      },
      "cell_type": "code",
      "source": [
        "%env TD_API_KEY = YOUR_TD_API_KEY\n",
        "%env DATABASE = YOUR_DATABASE"
      ],
      "execution_count": 0,
      "outputs": []
    },
    {
      "metadata": {
        "id": "SHZ2zmPhe6P-",
        "colab_type": "text"
      },
      "cell_type": "markdown",
      "source": [
        "# SetUp / セットアップ"
      ]
    },
    {
      "metadata": {
        "id": "FgStvjhSfoga",
        "colab_type": "text"
      },
      "cell_type": "markdown",
      "source": [
        "<font color=\"red\"><b>You will be asked to input UserName and Password of Treasure Data. Please fill them.</b></font>\n",
        "<br>\n",
        "<font color=\"red\"><b>以下のセルを実行するとTreasure Dataのユーザ名とパスワードの入力を求められるので入力してください。</b></font>"
      ]
    },
    {
      "metadata": {
        "id": "PAIFj7KFfrXz",
        "colab_type": "code",
        "colab": {}
      },
      "cell_type": "code",
      "source": [
        "!curl -L https://toolbelt.treasuredata.com/sh/install-ubuntu-trusty-td-agent2.sh | sh\n",
        "!pip install pandas-td\n",
        "!td account -f"
      ],
      "execution_count": 0,
      "outputs": []
    },
    {
      "metadata": {
        "id": "QTebFLMYopae",
        "colab_type": "code",
        "colab": {}
      },
      "cell_type": "code",
      "source": [
        "import os\n",
        "td_api_key = os.environ['TD_API_KEY']\n",
        "database = os.environ['DATABASE']\n",
        "table = 'churn_dataset'\n",
        "\n",
        "import numpy as np\n",
        "import pandas as pd\n",
        "from sklearn.datasets import fetch_20newsgroups\n",
        "import seaborn as sns\n",
        "\n",
        "import pandas_td as td\n",
        "con = td.connect(apikey=td_api_key)\n",
        "\n",
        "%matplotlib inline\n",
        "%load_ext pandas_td.ipython\n",
        "%td_use $database\n",
        "\n",
        "import pandas as pd\n",
        "import matplotlib.pyplot as plt\n",
        "pd.options.display.max_columns = 30\n",
        "\n",
        "presto = td.create_engine('presto:{}'.format(database), con=con)\n",
        "hive = td.create_engine('hive:{}'.format(database), con=con)"
      ],
      "execution_count": 0,
      "outputs": []
    },
    {
      "metadata": {
        "id": "OKWaeToaftT5",
        "colab_type": "text"
      },
      "cell_type": "markdown",
      "source": [
        "# Data Preparation / データの準備"
      ]
    },
    {
      "metadata": {
        "id": "1viBlI5Hse8w",
        "colab_type": "text"
      },
      "cell_type": "markdown",
      "source": [
        "A cell below will create a table on your Treasure Data account.  \n",
        "This cell takes a little long time (5min.)\n",
        "\n",
        "<br>\n",
        "\n",
        "以下のセルを実行すると利用しているTreasure Data環境にテーブルが作成されます。  \n",
        "５分程度時間がかかります。"
      ]
    },
    {
      "metadata": {
        "id": "N28zuzFYf_JA",
        "colab_type": "code",
        "colab": {}
      },
      "cell_type": "code",
      "source": [
        "!wget http://dataminingconsultant.com/DKD2e_data_sets.zip\n",
        "!unzip -o DKD2e_data_sets.zip\n",
        "!chmod 777 Data\\ sets/churn.txt\n",
        "!td table:delete -f ${DATABASE} churn_dataset; td table:create ${DATABASE} churn_dataset\n",
        "!td import:auto \\\n",
        "  --format csv \\\n",
        "  --columns state,account_length,area_code,phone,intl_plan,vmail_plan,vmail_message,day_mins,day_calls,day_charge,eve_mins,eve_calls,eve_charge,night_mins,night_calls,night_charge,intl_mins,intl_calls,intl_charge,cust_serv_calls,is_churn \\\n",
        "  --column-types string,int,string,string,string,string,int,double,int,double,double,int,double,double,int,double,double,int,double,int,string \\\n",
        "  --auto-create ${DATABASE}.churn_dataset \\\n",
        "  --time-value 1545896745 \\\n",
        "  ./Data\\ sets/churn.txt"
      ],
      "execution_count": 0,
      "outputs": []
    },
    {
      "metadata": {
        "id": "4foF-cY6dPU_",
        "colab_type": "text"
      },
      "cell_type": "markdown",
      "source": [
        "Check the table.  \n",
        "テーブルを見てみましょう。"
      ]
    },
    {
      "metadata": {
        "id": "ijaNO6VJoj3y",
        "colab_type": "code",
        "colab": {}
      },
      "cell_type": "code",
      "source": [
        "%%td_presto\n",
        "select\n",
        "  is_churn,state,account_length,area_code,phone,intl_plan,vmail_plan,vmail_message,day_mins,day_calls,day_charge,eve_mins,eve_calls,eve_charge,night_mins,night_calls,night_charge,intl_mins,intl_calls,intl_charge,cust_serv_calls\n",
        "from\n",
        "  churn_dataset\n",
        "limit 2"
      ],
      "execution_count": 0,
      "outputs": []
    },
    {
      "metadata": {
        "id": "vij-hlAuok88",
        "colab_type": "text"
      },
      "cell_type": "markdown",
      "source": [
        "各カラムの詳細です。  \n",
        "https://aws.amazon.com/blogs/machine-learning/predicting-customer-churn-with-amazon-machine-learning/\n",
        "\n",
        "**Columns**\n",
        "- state: the US state in which the customer resides, indicated by a two-letter abbreviation; for example, OH or NJ\n",
        "- account_length: the number of days that this account has been active\n",
        "- area_code: the three-digit area code of the corresponding customer’s phone number\n",
        "- phone: the remaining seven-digit phone number\n",
        "- intl_plan: whether the customer has an international calling plan: yes/no\n",
        "- vmail_plan: whether the customer has a voice mail feature: yes/no\n",
        "- vmail_message: presumably the average number of voice mail messages per month\n",
        "- day_mins: the total number of calling minutes used during the day\n",
        "- day_calls: the total number of calls placed during the day\n",
        "- day_charge: the billed cost of daytime calls\n",
        "- eve_mins, eve_calls, eve_charge: the billed cost for calls placed during the evening\n",
        "- night_mins, night_calls, night_charge: the billed cost for calls placed during nighttime\n",
        "- intl_mins, intl_calls, intl_charge: the billed cost for international calls\n",
        "- cust_serv_calls: the number of calls placed to Customer Service\n",
        "- is_churn: whether the customer left the service: true/false"
      ]
    },
    {
      "metadata": {
        "id": "TDN9JqcZqSUN",
        "colab_type": "text"
      },
      "cell_type": "markdown",
      "source": [
        "# EDA (Explore Data Analysis)\n",
        "Before running machine learning tasks, you should understand your data correctly.  \n",
        "Descriptive statistics and visualization are important for this.\n",
        "\n",
        "<br>\n",
        "\n",
        "機械学習の処理を行う前に、データを正しく把握することが重要です。  \n",
        "そのために記述統計量の確認や可視化を行います。"
      ]
    },
    {
      "metadata": {
        "id": "Qxu4b0rsd1dA",
        "colab_type": "text"
      },
      "cell_type": "markdown",
      "source": [
        "## Data Size"
      ]
    },
    {
      "metadata": {
        "id": "7bowJOyGeUxR",
        "colab_type": "code",
        "colab": {}
      },
      "cell_type": "code",
      "source": [
        "%%td_presto\n",
        "select\n",
        "  count(*)\n",
        "from\n",
        "  churn_dataset"
      ],
      "execution_count": 0,
      "outputs": []
    },
    {
      "metadata": {
        "id": "gfH53cO93l3Y",
        "colab_type": "text"
      },
      "cell_type": "markdown",
      "source": [
        "## Check if null value exists"
      ]
    },
    {
      "metadata": {
        "id": "ugpRr3TQ3rUL",
        "colab_type": "code",
        "colab": {}
      },
      "cell_type": "code",
      "source": [
        "%%td_presto\n",
        "select\n",
        "  count(is_churn) as is_churn,\n",
        "  count(state) as state,\n",
        "  count(account_length) as account_length,\n",
        "  count(area_code) as area_code,\n",
        "  count(phone) as phone,\n",
        "  count(intl_plan) as intl_plan,\n",
        "  count(vmail_plan) as vmail_plan,\n",
        "  count(vmail_message) as vmail_message,\n",
        "  count(day_mins) as day_mins,\n",
        "  count(day_calls) as day_calls,\n",
        "  count(day_charge) as day_charge,\n",
        "  count(eve_mins) as eve_mins,\n",
        "  count(eve_calls) as eve_calls,\n",
        "  count(eve_charge) as eve_charge,\n",
        "  count(night_mins) as night_mins,\n",
        "  count(night_calls) as night_calls,\n",
        "  count(night_charge) as night_charge,\n",
        "  count(intl_mins) as intl_mins,\n",
        "  count(intl_calls) as intl_calls,\n",
        "  count(intl_charge) as intl_charge,\n",
        "  count(cust_serv_calls) as cust_serv_calls\n",
        "from\n",
        "  churn_dataset"
      ],
      "execution_count": 0,
      "outputs": []
    },
    {
      "metadata": {
        "id": "wWXWCVQI4A-0",
        "colab_type": "text"
      },
      "cell_type": "markdown",
      "source": [
        "Null value is not found.  \n",
        "Nullは含まれていませんでした。"
      ]
    },
    {
      "metadata": {
        "id": "0X_y5Dv4eYw4",
        "colab_type": "text"
      },
      "cell_type": "markdown",
      "source": [
        "## Target Variable"
      ]
    },
    {
      "metadata": {
        "id": "oloJgwJGeb5J",
        "colab_type": "code",
        "colab": {}
      },
      "cell_type": "code",
      "source": [
        "%%td_presto\n",
        "select\n",
        "  is_churn\n",
        "  ,count(*) as n\n",
        "from\n",
        "  churn_dataset\n",
        "group by\n",
        "  1"
      ],
      "execution_count": 0,
      "outputs": []
    },
    {
      "metadata": {
        "id": "9GrGu8ykehj2",
        "colab_type": "text"
      },
      "cell_type": "markdown",
      "source": [
        "## state(string)"
      ]
    },
    {
      "metadata": {
        "id": "uNhVQ1Gfux9U",
        "colab_type": "code",
        "colab": {}
      },
      "cell_type": "code",
      "source": [
        "td.read_td_query('''\n",
        "select\n",
        "  state\n",
        "  ,count(*) as n\n",
        "from\n",
        "  churn_dataset\n",
        "group by\n",
        "  1\n",
        "order by\n",
        "  2 desc\n",
        "''', engine=presto, index_col='state').plot.bar(figsize=(15,5))"
      ],
      "execution_count": 0,
      "outputs": []
    },
    {
      "metadata": {
        "id": "i-U9H4vdfBqa",
        "colab_type": "text"
      },
      "cell_type": "markdown",
      "source": [
        "## account_length (int)"
      ]
    },
    {
      "metadata": {
        "id": "RbtDC_cZgGTV",
        "colab_type": "code",
        "colab": {}
      },
      "cell_type": "code",
      "source": [
        "%%td_presto\n",
        "select\n",
        "  avg(account_length) as average\n",
        "  ,min(account_length) as min\n",
        "  ,approx_percentile(account_length, 0.25) as pct_25th\n",
        "  ,approx_percentile(account_length, 0.50) as pct_50th\n",
        "  ,approx_percentile(account_length, 0.75) as pct_75th\n",
        "  ,max(account_length) as max\n",
        "from\n",
        "  churn_dataset"
      ],
      "execution_count": 0,
      "outputs": []
    },
    {
      "metadata": {
        "id": "HP4JQwhtfW2a",
        "colab_type": "code",
        "colab": {}
      },
      "cell_type": "code",
      "source": [
        "td.read_td_query('''\n",
        "  select\n",
        "    account_length\n",
        "  from\n",
        "    churn_dataset\n",
        "''', engine=presto).hist(bins=20)"
      ],
      "execution_count": 0,
      "outputs": []
    },
    {
      "metadata": {
        "id": "gH0wVVpofzNt",
        "colab_type": "text"
      },
      "cell_type": "markdown",
      "source": [
        "## area_code (string)"
      ]
    },
    {
      "metadata": {
        "id": "0DEL0bMqg9PE",
        "colab_type": "code",
        "colab": {}
      },
      "cell_type": "code",
      "source": [
        "%%td_presto\n",
        "select\n",
        "  area_code\n",
        "  ,count(*) as n\n",
        "from\n",
        "  churn_dataset\n",
        "group by\n",
        "  1\n",
        "order by\n",
        "  2 desc"
      ],
      "execution_count": 0,
      "outputs": []
    },
    {
      "metadata": {
        "id": "m9YqEnvwhD4A",
        "colab_type": "text"
      },
      "cell_type": "markdown",
      "source": [
        "## phone(string)\n",
        "This column is unique for each row. So, this cannot be used for machine learning.  \n",
        "このカラムは各行に一意の値が割り振られているので、機械学習の説明変数としては使うことができません。"
      ]
    },
    {
      "metadata": {
        "id": "vXUCUBlchO2F",
        "colab_type": "code",
        "colab": {}
      },
      "cell_type": "code",
      "source": [
        "%%td_presto\n",
        "select\n",
        "  count(phone) as n\n",
        "  ,count(distinct phone) as n_unique\n",
        "from\n",
        "  churn_dataset"
      ],
      "execution_count": 0,
      "outputs": []
    },
    {
      "metadata": {
        "id": "vWgCrC0ehP60",
        "colab_type": "text"
      },
      "cell_type": "markdown",
      "source": [
        "## intl_plan(string)"
      ]
    },
    {
      "metadata": {
        "id": "9P4e0CxOh89h",
        "colab_type": "code",
        "colab": {}
      },
      "cell_type": "code",
      "source": [
        "%%td_presto\n",
        "select\n",
        "  intl_plan\n",
        "  ,count(*) as n\n",
        "from\n",
        "  churn_dataset\n",
        "group by\n",
        "  1\n",
        "order by\n",
        "  2 desc"
      ],
      "execution_count": 0,
      "outputs": []
    },
    {
      "metadata": {
        "id": "5hORl6W9iE42",
        "colab_type": "text"
      },
      "cell_type": "markdown",
      "source": [
        "## vmail_plan(string)"
      ]
    },
    {
      "metadata": {
        "id": "o-gtjYxniJpd",
        "colab_type": "code",
        "colab": {}
      },
      "cell_type": "code",
      "source": [
        "%%td_presto\n",
        "select\n",
        "  vmail_plan\n",
        "  ,count(*) as n\n",
        "from\n",
        "  churn_dataset\n",
        "group by\n",
        "  1\n",
        "order by\n",
        "  2 desc"
      ],
      "execution_count": 0,
      "outputs": []
    },
    {
      "metadata": {
        "id": "LqbshrUoiLtt",
        "colab_type": "text"
      },
      "cell_type": "markdown",
      "source": [
        "## vmail_message(int)"
      ]
    },
    {
      "metadata": {
        "id": "XKQKGPpyiQjA",
        "colab_type": "code",
        "colab": {}
      },
      "cell_type": "code",
      "source": [
        "td.read_td_query('''\n",
        "select\n",
        "  vmail_message\n",
        "from\n",
        "  churn_dataset\n",
        "''', engine=presto).hist(bins=20)"
      ],
      "execution_count": 0,
      "outputs": []
    },
    {
      "metadata": {
        "id": "FoX-RMagjJ1N",
        "colab_type": "text"
      },
      "cell_type": "markdown",
      "source": [
        "## day_mins(double)"
      ]
    },
    {
      "metadata": {
        "id": "RUpt2PmPjNji",
        "colab_type": "code",
        "colab": {}
      },
      "cell_type": "code",
      "source": [
        "td.read_td_query('''\n",
        "select\n",
        "  day_mins\n",
        "from\n",
        "  churn_dataset\n",
        "''', engine=presto).hist(bins=20)"
      ],
      "execution_count": 0,
      "outputs": []
    },
    {
      "metadata": {
        "id": "N3es0N2PjQtD",
        "colab_type": "text"
      },
      "cell_type": "markdown",
      "source": [
        "## day_calls(int)"
      ]
    },
    {
      "metadata": {
        "id": "i54g7pGajWDA",
        "colab_type": "code",
        "colab": {}
      },
      "cell_type": "code",
      "source": [
        "td.read_td_query('''\n",
        "select\n",
        "  day_calls\n",
        "from\n",
        "  churn_dataset\n",
        "''', engine=presto).hist(bins=20)"
      ],
      "execution_count": 0,
      "outputs": []
    },
    {
      "metadata": {
        "id": "1IDxm_O-jZqo",
        "colab_type": "text"
      },
      "cell_type": "markdown",
      "source": [
        "## day_charge(double)"
      ]
    },
    {
      "metadata": {
        "id": "qMlE2BEgjcTz",
        "colab_type": "code",
        "colab": {}
      },
      "cell_type": "code",
      "source": [
        "td.read_td_query('''\n",
        "select\n",
        "  day_charge\n",
        "from\n",
        "  churn_dataset\n",
        "''', engine=presto).hist(bins=20)"
      ],
      "execution_count": 0,
      "outputs": []
    },
    {
      "metadata": {
        "id": "67glGGWpjlqs",
        "colab_type": "text"
      },
      "cell_type": "markdown",
      "source": [
        "## eve_mins(double)"
      ]
    },
    {
      "metadata": {
        "id": "DNzIPt29jpa2",
        "colab_type": "code",
        "colab": {}
      },
      "cell_type": "code",
      "source": [
        "td.read_td_query('''\n",
        "select\n",
        "  eve_mins\n",
        "from\n",
        "  churn_dataset\n",
        "''', engine=presto).hist(bins=20)"
      ],
      "execution_count": 0,
      "outputs": []
    },
    {
      "metadata": {
        "id": "6qO-4xY3jtDF",
        "colab_type": "text"
      },
      "cell_type": "markdown",
      "source": [
        "## eve_calls(int)"
      ]
    },
    {
      "metadata": {
        "id": "Stp1O8IHjxI6",
        "colab_type": "code",
        "colab": {}
      },
      "cell_type": "code",
      "source": [
        "td.read_td_query('''\n",
        "select\n",
        "  eve_calls\n",
        "from\n",
        "  churn_dataset\n",
        "''', engine=presto).hist(bins=20)"
      ],
      "execution_count": 0,
      "outputs": []
    },
    {
      "metadata": {
        "id": "PZvhz3-Vj4XA",
        "colab_type": "text"
      },
      "cell_type": "markdown",
      "source": [
        "## eve_charge(double)"
      ]
    },
    {
      "metadata": {
        "id": "51t8kDERj62X",
        "colab_type": "code",
        "colab": {}
      },
      "cell_type": "code",
      "source": [
        "td.read_td_query('''\n",
        "select\n",
        "  eve_charge\n",
        "from\n",
        "  churn_dataset\n",
        "''', engine=presto).hist(bins=20)"
      ],
      "execution_count": 0,
      "outputs": []
    },
    {
      "metadata": {
        "id": "5Vdj4SDqkESe",
        "colab_type": "text"
      },
      "cell_type": "markdown",
      "source": [
        "## night_mins(double)"
      ]
    },
    {
      "metadata": {
        "id": "YMJLkIgQkGES",
        "colab_type": "code",
        "colab": {}
      },
      "cell_type": "code",
      "source": [
        "td.read_td_query('''\n",
        "select\n",
        "  night_mins\n",
        "from\n",
        "  churn_dataset\n",
        "''', engine=presto).hist(bins=20)"
      ],
      "execution_count": 0,
      "outputs": []
    },
    {
      "metadata": {
        "id": "f_VZYbWtkJUC",
        "colab_type": "text"
      },
      "cell_type": "markdown",
      "source": [
        "## night_calls(int)\n"
      ]
    },
    {
      "metadata": {
        "id": "KcWsCNQOkMAH",
        "colab_type": "code",
        "colab": {}
      },
      "cell_type": "code",
      "source": [
        "td.read_td_query('''\n",
        "select\n",
        "  night_calls\n",
        "from\n",
        "  churn_dataset\n",
        "''', engine=presto).hist(bins=20)"
      ],
      "execution_count": 0,
      "outputs": []
    },
    {
      "metadata": {
        "id": "pE_RTNDKkN1S",
        "colab_type": "text"
      },
      "cell_type": "markdown",
      "source": [
        "## night_charge(double)"
      ]
    },
    {
      "metadata": {
        "id": "QspbGBf5kR-I",
        "colab_type": "code",
        "colab": {}
      },
      "cell_type": "code",
      "source": [
        "td.read_td_query('''\n",
        "select\n",
        "  night_charge\n",
        "from\n",
        "  churn_dataset\n",
        "''', engine=presto).hist(bins=20)"
      ],
      "execution_count": 0,
      "outputs": []
    },
    {
      "metadata": {
        "id": "DEqU2PPnkWCL",
        "colab_type": "text"
      },
      "cell_type": "markdown",
      "source": [
        "## intl_mins(double)"
      ]
    },
    {
      "metadata": {
        "id": "1qF0M_14kY6C",
        "colab_type": "code",
        "colab": {}
      },
      "cell_type": "code",
      "source": [
        "td.read_td_query('''\n",
        "select\n",
        "  intl_mins\n",
        "from\n",
        "  churn_dataset\n",
        "''', engine=presto).hist(bins=20)"
      ],
      "execution_count": 0,
      "outputs": []
    },
    {
      "metadata": {
        "id": "WsyM5vjwkiDD",
        "colab_type": "text"
      },
      "cell_type": "markdown",
      "source": [
        "## intl_calls(int)\n"
      ]
    },
    {
      "metadata": {
        "id": "ZmkIpUvfklH5",
        "colab_type": "code",
        "colab": {}
      },
      "cell_type": "code",
      "source": [
        "td.read_td_query('''\n",
        "select\n",
        "  intl_calls\n",
        "from\n",
        "  churn_dataset\n",
        "''', engine=presto).hist(bins=20)"
      ],
      "execution_count": 0,
      "outputs": []
    },
    {
      "metadata": {
        "id": "6VL60L1Wkn9H",
        "colab_type": "text"
      },
      "cell_type": "markdown",
      "source": [
        "## intl_charge (double)"
      ]
    },
    {
      "metadata": {
        "id": "kfk_2UwOksUB",
        "colab_type": "code",
        "colab": {}
      },
      "cell_type": "code",
      "source": [
        "td.read_td_query('''\n",
        "select\n",
        "  intl_charge\n",
        "from\n",
        "  churn_dataset\n",
        "''', engine=presto).hist(bins=20)"
      ],
      "execution_count": 0,
      "outputs": []
    },
    {
      "metadata": {
        "id": "AO2S6LfSkvFW",
        "colab_type": "text"
      },
      "cell_type": "markdown",
      "source": [
        "## cust_serv_calls"
      ]
    },
    {
      "metadata": {
        "id": "52y8bU2AibHh",
        "colab_type": "code",
        "colab": {}
      },
      "cell_type": "code",
      "source": [
        "td.read_td_query('''\n",
        "select\n",
        "  cust_serv_calls\n",
        "  ,count(*) as n\n",
        "from\n",
        "  churn_dataset\n",
        "group by\n",
        "  1\n",
        "''', engine=presto, index_col='cust_serv_calls').sort_index().plot.bar()"
      ],
      "execution_count": 0,
      "outputs": []
    },
    {
      "metadata": {
        "id": "Cmdma_s0mvCa",
        "colab_type": "text"
      },
      "cell_type": "markdown",
      "source": [
        "## Correlations / 相関\n",
        "With python library, you can visuazlie the relashionship between variables.\n",
        "<br>\n",
        "Pythonを利用して、変数間の相関を可視化します。"
      ]
    },
    {
      "metadata": {
        "id": "0vmDk_fimx9Q",
        "colab_type": "code",
        "colab": {}
      },
      "cell_type": "code",
      "source": [
        "df = td.read_td_query('''\n",
        "  select\n",
        "    case when is_churn like 'True.' then 1 else 0 end as is_churn\n",
        "    ,state,account_length,area_code,intl_plan,vmail_plan,vmail_message,day_mins,day_calls,day_charge,eve_mins,eve_calls,eve_charge,night_mins,night_calls,night_charge,intl_mins,intl_calls,intl_charge,cust_serv_calls\n",
        "  from\n",
        "    churn_dataset    \n",
        "''', engine=presto)"
      ],
      "execution_count": 0,
      "outputs": []
    },
    {
      "metadata": {
        "id": "5oKSfw6irAQl",
        "colab_type": "text"
      },
      "cell_type": "markdown",
      "source": [
        "### Scatter plot / 散布図"
      ]
    },
    {
      "metadata": {
        "id": "DTeOMOV9nCXz",
        "colab_type": "code",
        "colab": {}
      },
      "cell_type": "code",
      "source": [
        "pd.plotting.scatter_matrix(df, figsize=(20,15))\n",
        "plt.show()"
      ],
      "execution_count": 0,
      "outputs": []
    },
    {
      "metadata": {
        "id": "CEqJzaJ-rC78",
        "colab_type": "text"
      },
      "cell_type": "markdown",
      "source": [
        "### Correlatiion coefficient matrix / 相関行列"
      ]
    },
    {
      "metadata": {
        "id": "MyFvyvMco1G6",
        "colab_type": "code",
        "colab": {}
      },
      "cell_type": "code",
      "source": [
        "fig, ax = plt.subplots(figsize=(10,5))\n",
        "sns.heatmap(df.corr(), annot=True, ax=ax, vmin=-0.1, vmax=0.1)\n",
        "plt.show()"
      ],
      "execution_count": 0,
      "outputs": []
    },
    {
      "metadata": {
        "id": "PTSO_ZmBrNuS",
        "colab_type": "text"
      },
      "cell_type": "markdown",
      "source": [
        "The correlation coefficients of pairs (day_mins, day_charge) , (eve_mins, eve_charge), (intl_mins, intl_charge) equals `1.0`.  \n",
        "You should remove one of elements from feature variables because of [multicollinearity](https://en.wikipedia.org/wiki/Multicollinearity).\n",
        "\n",
        "<br>\n",
        "\n",
        "(day_mins, day_charge) , (eve_mins, eve_charge), (intl_mins, intl_charge) の３つのペアは相関係数が `1.0` となっています。  \n",
        "[多重共線性](https://en.wikipedia.org/wiki/Multicollinearity) のため、各ペアのいずれかの変数は説明変数から除外します。"
      ]
    },
    {
      "metadata": {
        "id": "5vkat596mXkg",
        "colab_type": "text"
      },
      "cell_type": "markdown",
      "source": [
        "# Run a machine learning task / 機械学習"
      ]
    },
    {
      "metadata": {
        "id": "2m4vEf9MLyp1",
        "colab_type": "text"
      },
      "cell_type": "markdown",
      "source": [
        "## WIthout rescaling / リスケールしないパターン\n",
        "At first, let's build a model not having features rescaling.    \n",
        "Rescaling means to have features from 0 to 1.\n",
        "\n",
        "まずはじめに、説明変数をリスケールせずにモデルを構築します。  \n",
        "リスケールとは変数を 0 ~ 1に収めるように変換することを指します。"
      ]
    },
    {
      "metadata": {
        "id": "dT7zVBtXma6y",
        "colab_type": "text"
      },
      "cell_type": "markdown",
      "source": [
        "### Preprocess / 前処理"
      ]
    },
    {
      "metadata": {
        "id": "_IiWpL4Pmp36",
        "colab_type": "text"
      },
      "cell_type": "markdown",
      "source": [
        "- Data is splitted into training data and test data. \n",
        "- String columns are expanded to binary columns.\n",
        "- Remove unnecessary columns in consideration of [EDA](https://colab.research.google.com/drive/1k062r8-jXhlnU_vjbHCI-Z_yGxt96iE2#scrollTo=CEqJzaJ-rC78)\n",
        "\n",
        "<br>\n",
        "\n",
        "- データを学習データと検証データに分けます\n",
        "- 文字列のカラムはバイナリのカラムに展開します。\n",
        "- 不要なカラムは除きます。"
      ]
    },
    {
      "metadata": {
        "id": "IwIcbTb2sxsJ",
        "colab_type": "code",
        "colab": {}
      },
      "cell_type": "code",
      "source": [
        "!td table:delete -f $DATABASE churn_preprocessed_without_rescale; td table:create $DATABASE churn_preprocessed_without_rescale"
      ],
      "execution_count": 0,
      "outputs": []
    },
    {
      "metadata": {
        "id": "sgXw4iTytJ8p",
        "colab_type": "code",
        "colab": {}
      },
      "cell_type": "code",
      "source": [
        "%%td_hive\n",
        "insert overwrite table churn_preprocessed_without_rescale\n",
        "select\n",
        "  -- add user_id\n",
        "  row_number() over() as userid\n",
        "\n",
        "  -- Convert the target variable into binary.\n",
        "  ,case when is_churn like 'True.' then 1 else 0 end as is_churn\n",
        "  \n",
        "  -- Splits into training data and test data\n",
        "  ,case when rand() < 0.8 then 'train' else 'test' end as class\n",
        "\n",
        "  -- Categorical features\n",
        "  ,categorical_features(\n",
        "    array('state','area_code','intl_plan','vmail_plan'),\n",
        "    state,area_code,intl_plan,vmail_plan\n",
        "  ) as q_features\n",
        "\n",
        "  -- Quantitative features\n",
        "  ,quantitative_features(\n",
        "    array('account_length','vmail_massage','day_calls','eve_calls','night_calls','intl_calls','cust_serv_calls','day_mins','eve_mins','night_mins','intl_mins'),\n",
        "    account_length,vmail_message,day_calls,eve_calls,night_calls,intl_calls,cust_serv_calls,day_mins,eve_mins,night_mins,intl_mins\n",
        "  ) as c_features\n",
        "  \n",
        "  -- Concat categorical features adn quantitative ones. Also, `add_bias` is needed for polynomial models.\n",
        "  ,add_bias(\n",
        "    array_concat(\n",
        "\n",
        "      -- same as 'Categorical features'\n",
        "      categorical_features(\n",
        "        array('state','area_code','intl_plan','vmail_plan'),\n",
        "        state,area_code,intl_plan,vmail_plan\n",
        "      )\n",
        "      -- same as 'Qategorical features'\n",
        "      ,quantitative_features(\n",
        "        array('account_length','vmail_massage','day_calls','eve_calls','night_calls','intl_calls','cust_serv_calls','day_mins','eve_mins','night_mins','intl_mins'),\n",
        "        account_length,vmail_message,day_calls,eve_calls,night_calls,intl_calls,cust_serv_calls,day_mins,eve_mins,night_mins,intl_mins\n",
        "      )\n",
        "    )\n",
        "  ) as features\n",
        "from\n",
        "  churn_dataset"
      ],
      "execution_count": 0,
      "outputs": []
    },
    {
      "metadata": {
        "id": "c5g7tgMZCYGT",
        "colab_type": "text"
      },
      "cell_type": "markdown",
      "source": [
        "Check the created table.  \n",
        "作成したテーブルを確認しましょう。"
      ]
    },
    {
      "metadata": {
        "id": "olH2EV5L473t",
        "colab_type": "code",
        "colab": {}
      },
      "cell_type": "code",
      "source": [
        "%%td_presto\n",
        "select\n",
        "  *\n",
        "from\n",
        "  churn_preprocessed_without_rescale\n",
        "limit 2"
      ],
      "execution_count": 0,
      "outputs": []
    },
    {
      "metadata": {
        "id": "URR01cCZ8WD0",
        "colab_type": "text"
      },
      "cell_type": "markdown",
      "source": [
        "### Build a logistic regression model / ロジスティック回帰モデルの構築"
      ]
    },
    {
      "metadata": {
        "id": "a5edAAEC8lD7",
        "colab_type": "code",
        "colab": {}
      },
      "cell_type": "code",
      "source": [
        "!td table:delete -f $DATABASE churn_logloss_model_without_rescale; td table:create $DATABASE churn_logloss_model_without_rescale"
      ],
      "execution_count": 0,
      "outputs": []
    },
    {
      "metadata": {
        "id": "tIYwnZA8-Eb5",
        "colab_type": "code",
        "colab": {}
      },
      "cell_type": "code",
      "source": [
        "%%td_hive\n",
        "insert overwrite table churn_logloss_model_without_rescale\n",
        "select\n",
        "  train_classifier(\n",
        "    features,\n",
        "    is_churn,\n",
        "    '-loss_function logloss -optimizer SGD -regularization l1'\n",
        "  ) as (feature, weight)\n",
        "from\n",
        "  churn_preprocessed_without_rescale\n",
        "where\n",
        "  class like 'train'"
      ],
      "execution_count": 0,
      "outputs": []
    },
    {
      "metadata": {
        "id": "J1m7RrF6C59j",
        "colab_type": "text"
      },
      "cell_type": "markdown",
      "source": [
        "Check the positive features.  \n",
        "プラスに効いている変数を確認しましょう。"
      ]
    },
    {
      "metadata": {
        "id": "V6k8bU3oBEe-",
        "colab_type": "code",
        "colab": {}
      },
      "cell_type": "code",
      "source": [
        "%%td_presto\n",
        "select\n",
        "  *\n",
        "from\n",
        "  churn_logloss_model_without_rescale\n",
        "order by\n",
        "  weight desc\n",
        "limit 5"
      ],
      "execution_count": 0,
      "outputs": []
    },
    {
      "metadata": {
        "id": "BrGYGHdHC_nV",
        "colab_type": "text"
      },
      "cell_type": "markdown",
      "source": [
        "Check the negative features.  \n",
        "マイナスに効いている変数を確認しましょう。"
      ]
    },
    {
      "metadata": {
        "id": "0CXWQVKhDGUw",
        "colab_type": "code",
        "colab": {}
      },
      "cell_type": "code",
      "source": [
        "%%td_presto\n",
        "select\n",
        "  *\n",
        "from\n",
        "  churn_logloss_model_without_rescale\n",
        "order by\n",
        "  weight asc\n",
        "limit 5"
      ],
      "execution_count": 0,
      "outputs": []
    },
    {
      "metadata": {
        "id": "LcBzsBmpBity",
        "colab_type": "text"
      },
      "cell_type": "markdown",
      "source": [
        "### Prediction  / 予測"
      ]
    },
    {
      "metadata": {
        "id": "_MCm5BgHFg6F",
        "colab_type": "code",
        "colab": {}
      },
      "cell_type": "code",
      "source": [
        "!td table:delete -f $DATABASE churn_prediction_without_rescale; td table:create $DATABASE churn_prediction_without_rescale"
      ],
      "execution_count": 0,
      "outputs": []
    },
    {
      "metadata": {
        "id": "kI8gQpFWHNWj",
        "colab_type": "code",
        "colab": {}
      },
      "cell_type": "code",
      "source": [
        "%%td_hive\n",
        "with parsed as (\n",
        "  select\n",
        "    userid\n",
        "    ,is_churn\n",
        "    ,class\n",
        "    ,extract_feature(feature) as feature\n",
        "    ,extract_weight(feature) as value\n",
        "  from\n",
        "    churn_preprocessed_without_rescale\n",
        "  lateral view\n",
        "    explode(features) t as feature\n",
        ")\n",
        "\n",
        "insert overwrite table churn_prediction_without_rescale\n",
        "select\n",
        "  userid\n",
        "  ,is_churn \n",
        "  ,class\n",
        "  ,sigmoid(sum(value * weight)) as prob\n",
        "from\n",
        "  parsed\n",
        "  inner join\n",
        "  churn_logloss_model_without_rescale model\n",
        "  on\n",
        "    parsed.feature = model.feature\n",
        "group by\n",
        "  1,2,3"
      ],
      "execution_count": 0,
      "outputs": []
    },
    {
      "metadata": {
        "id": "iWaqk4_GXelP",
        "colab_type": "text"
      },
      "cell_type": "markdown",
      "source": [
        "### Evaluation / 評価"
      ]
    },
    {
      "metadata": {
        "id": "8ifX_hZWU4yZ",
        "colab_type": "text"
      },
      "cell_type": "markdown",
      "source": [
        "Here, we use ROC' auc (= area under curve) as a indication of accuracy.  \n",
        "[ROC](https://en.wikipedia.org/wiki/Receiver_operating_characteristic) is a chart below.  \n",
        "\n",
        "The bigger auc is, the better accuracy is.  \n",
        "\n",
        "<br>\n",
        "\n",
        "ここでは[ROC](https://en.wikipedia.org/wiki/Receiver_operating_characteristic)のAUCを使って評価します。  \n",
        "AUCが大きければ大きいほど精度が良いことを表します。"
      ]
    },
    {
      "metadata": {
        "id": "rDIPuihrXp_J",
        "colab_type": "code",
        "colab": {}
      },
      "cell_type": "code",
      "source": [
        "#@title Default title text { display-mode: \"code\" }\n",
        "from sklearn import metrics\n",
        "\n",
        "# Training data\n",
        "df = td.read_td_query('''\n",
        "  select\n",
        "    *\n",
        "  from\n",
        "    churn_prediction_without_rescale\n",
        "  where\n",
        "    class like 'train'\n",
        "''', engine=presto)\n",
        "\n",
        "fig, ax = plt.subplots()\n",
        "fpr, tpr, thresholds = metrics.roc_curve(df['is_churn'], df['prob'])\n",
        "train_auc = metrics.auc(fpr, tpr)\n",
        "ax.plot(fpr, tpr)\n",
        "\n",
        "# Test data\n",
        "df = td.read_td_query('''\n",
        "  select\n",
        "    *\n",
        "  from\n",
        "    churn_prediction_without_rescale\n",
        "  where\n",
        "    class like 'test'\n",
        "''', engine=presto)\n",
        "\n",
        "fpr, tpr, thresholds = metrics.roc_curve(df['is_churn'], df['prob'])\n",
        "test_auc = metrics.auc(fpr, tpr)\n",
        "ax.plot(fpr, tpr)\n",
        "\n",
        "print(\"Train auc : {:.4f}\\nTest auc : {:.4f}\".format(train_auc, test_auc))\n",
        "plt.show()"
      ],
      "execution_count": 0,
      "outputs": []
    },
    {
      "metadata": {
        "id": "3cdi8C6aEPN9",
        "colab_type": "text"
      },
      "cell_type": "markdown",
      "source": [
        "### Discussion / 考察"
      ]
    },
    {
      "metadata": {
        "id": "1TWJRjpKMNj6",
        "colab_type": "text"
      },
      "cell_type": "markdown",
      "source": [
        "ROC indicates the model do not work well. It may be caused by not having features rescaled.  \n",
        "Let's re-generate a mode with rescaled feature variables.\n",
        "\n",
        "<br>\n",
        "\n",
        "上のROCのAUCを見る限り、うまく学習できていないようです。  \n",
        "これは説明変数をリスケールしていないことに起因します。リスケールしたモデルを構築してみましょう。"
      ]
    },
    {
      "metadata": {
        "id": "pimOyJ50MXkg",
        "colab_type": "text"
      },
      "cell_type": "markdown",
      "source": [
        "## With rescaling"
      ]
    },
    {
      "metadata": {
        "id": "6aQzwFiNMo5S",
        "colab_type": "text"
      },
      "cell_type": "markdown",
      "source": [
        "### Preprocess / 前処理"
      ]
    },
    {
      "metadata": {
        "id": "Ch37VtzAMzI3",
        "colab_type": "code",
        "colab": {}
      },
      "cell_type": "code",
      "source": [
        "!td table:delete -f $DATABASE churn_preprocessed_with_rescale; td table:create $DATABASE churn_preprocessed_with_rescale"
      ],
      "execution_count": 0,
      "outputs": []
    },
    {
      "metadata": {
        "id": "ALtgbostQvpI",
        "colab_type": "text"
      },
      "cell_type": "markdown",
      "source": [
        "#### Calculate the minimum and maximum of each columns / 各カラムの最小値・最大値を計算する"
      ]
    },
    {
      "metadata": {
        "id": "L8dCVwLwNEos",
        "colab_type": "code",
        "colab": {}
      },
      "cell_type": "code",
      "source": [
        "%%td_presto\n",
        "select 'account_length' as column, min(account_length) as min, max(account_length) as max from churn_dataset\n",
        "union all\n",
        "select 'vmail_message' as column, min(vmail_message) as min, max(vmail_message) as max from churn_dataset\n",
        "union all\n",
        "select 'day_calls' as column, min(day_calls) as min, max(day_calls) as max from churn_dataset\n",
        "union all\n",
        "select 'eve_calls' as column, min(eve_calls) as min, max(eve_calls) as max from churn_dataset\n",
        "union all\n",
        "select 'night_calls' as column, min(night_calls) as min, max(night_calls) as max from churn_dataset\n",
        "union all\n",
        "select 'intl_calls' as column, min(intl_calls) as min, max(intl_calls) as max from churn_dataset\n",
        "union all\n",
        "select 'cust_serv_calls' as column, min(cust_serv_calls) as min, max(cust_serv_calls) as max from churn_dataset\n",
        "union all\n",
        "select 'day_mins' as column, min(day_mins) as min, max(day_mins) as max from churn_dataset\n",
        "union all\n",
        "select 'eve_mins' as column, min(eve_mins) as min, max(eve_mins) as max from churn_dataset\n",
        "union all\n",
        "select 'night_mins' as column, min(night_mins) as min, max(night_mins) as max from churn_dataset\n",
        "union all\n",
        "select 'intl_mins' as column, min(intl_mins) as min, max(intl_mins) as max from churn_dataset"
      ],
      "execution_count": 0,
      "outputs": []
    },
    {
      "metadata": {
        "id": "0_TYR0bCQ8Xg",
        "colab_type": "text"
      },
      "cell_type": "markdown",
      "source": [
        "#### Rescale with results above / リスケールする"
      ]
    },
    {
      "metadata": {
        "id": "CABD3k3EMsSo",
        "colab_type": "code",
        "colab": {}
      },
      "cell_type": "code",
      "source": [
        "%%td_hive\n",
        "with rescaled as (\n",
        "  select\n",
        "    is_churn,\n",
        "    state,area_code,intl_plan,vmail_plan,    \n",
        "\n",
        "    rescale(vmail_message, 0, 51) as vmail_message,\n",
        "    rescale(intl_calls, 0, 20) as intl_calls,\n",
        "    rescale(cust_serv_calls, 0, 9) as cust_serv_calls,\n",
        "    rescale(eve_calls, 0, 170) as eve_calls,\n",
        "    rescale(account_length, 1, 243) as account_length,\n",
        "    rescale(night_calls, 33, 175) as night_calls,\n",
        "    rescale(day_mins, 0, 350.8) as day_mins,\n",
        "    rescale(day_calls, 0, 165) as day_calls,\n",
        "    rescale(eve_mins, 0, 363.7) as eve_mins,\n",
        "    rescale(intl_mins, 0, 20) as intl_mins,\n",
        "    rescale(night_mins, 23.2, 395) as night_mins\n",
        "\n",
        "  from\n",
        "    churn_dataset\n",
        ")\n",
        "\n",
        "insert overwrite table churn_preprocessed_with_rescale\n",
        "select\n",
        "  -- add user_id\n",
        "  row_number() over() as userid\n",
        "\n",
        "  -- Convert the target variable into binary.\n",
        "  ,case when is_churn like 'True.' then 1 else 0 end as is_churn\n",
        "  \n",
        "  -- Splits into training data and test data\n",
        "  ,case when rand() < 0.8 then 'train' else 'test' end as class\n",
        "  \n",
        "  -- Concat categorical features adn quantitative ones. Also, `add_bias` is needed for polynomial models.\n",
        "  ,add_bias(\n",
        "    array_concat(\n",
        "\n",
        "      -- same as 'Categorical features'\n",
        "      categorical_features(\n",
        "        array('state','area_code','intl_plan','vmail_plan'),\n",
        "        state,area_code,intl_plan,vmail_plan\n",
        "      )\n",
        "      -- same as 'Qategorical features'\n",
        "      ,quantitative_features(\n",
        "        array('account_length','vmail_massage','day_calls','eve_calls','night_calls','intl_calls','cust_serv_calls','day_mins','eve_mins','night_mins','intl_mins'),\n",
        "        account_length,vmail_message,day_calls,eve_calls,night_calls,intl_calls,cust_serv_calls,day_mins,eve_mins,night_mins,intl_mins\n",
        "      )\n",
        "    )\n",
        "  ) as features\n",
        "from\n",
        "  rescaled"
      ],
      "execution_count": 0,
      "outputs": []
    },
    {
      "metadata": {
        "id": "GfnUwTLtQqXA",
        "colab_type": "text"
      },
      "cell_type": "markdown",
      "source": [
        "### Build a model, again / モデル再構築"
      ]
    },
    {
      "metadata": {
        "id": "PPhV1OdbRNy3",
        "colab_type": "code",
        "colab": {}
      },
      "cell_type": "code",
      "source": [
        "!td table:delete -f $DATABASE churn_logloss_model_rescale; td table:create $DATABASE churn_logloss_model_rescale"
      ],
      "execution_count": 0,
      "outputs": []
    },
    {
      "metadata": {
        "id": "r4_E3OY2RLRD",
        "colab_type": "code",
        "colab": {}
      },
      "cell_type": "code",
      "source": [
        "%%td_hive\n",
        "insert overwrite table churn_logloss_model_rescale\n",
        "select\n",
        "  train_classifier(\n",
        "    features,\n",
        "    is_churn,\n",
        "    '-loss_function logloss -optimizer SGD -regularization l1'\n",
        "  ) as (feature, weight)\n",
        "from\n",
        "  churn_preprocessed_with_rescale\n",
        "where\n",
        "  class like 'train'"
      ],
      "execution_count": 0,
      "outputs": []
    },
    {
      "metadata": {
        "id": "zZu6hpfXRUh0",
        "colab_type": "text"
      },
      "cell_type": "markdown",
      "source": [
        "### Prediction / 予測"
      ]
    },
    {
      "metadata": {
        "id": "5Rv3bGRhRi0v",
        "colab_type": "code",
        "colab": {}
      },
      "cell_type": "code",
      "source": [
        "!td table:delete -f $DATABASE churn_prediction_with_rescale; td table:create $DATABASE churn_prediction_with_rescale"
      ],
      "execution_count": 0,
      "outputs": []
    },
    {
      "metadata": {
        "id": "XBi0g12ZRfup",
        "colab_type": "code",
        "colab": {}
      },
      "cell_type": "code",
      "source": [
        "%%td_hive\n",
        "with parsed as (\n",
        "  select\n",
        "    userid\n",
        "    ,is_churn\n",
        "    ,class\n",
        "    ,extract_feature(feature) as feature\n",
        "    ,extract_weight(feature) as value\n",
        "  from\n",
        "    churn_preprocessed_with_rescale\n",
        "  lateral view\n",
        "    explode(features) t as feature\n",
        ")\n",
        "\n",
        "insert overwrite table churn_prediction_with_rescale \n",
        "select\n",
        "  userid\n",
        "  ,is_churn \n",
        "  ,class\n",
        "  ,sigmoid(sum(value * weight)) as prob\n",
        "from\n",
        "  parsed\n",
        "  inner join\n",
        "  churn_logloss_model_rescale model\n",
        "  on\n",
        "    parsed.feature = model.feature\n",
        "group by\n",
        "  1,2,3"
      ],
      "execution_count": 0,
      "outputs": []
    },
    {
      "metadata": {
        "id": "WXMwJZ-ETxRm",
        "colab_type": "text"
      },
      "cell_type": "markdown",
      "source": [
        "### Evaluation / 評価"
      ]
    },
    {
      "metadata": {
        "id": "r30q520XSDqR",
        "colab_type": "code",
        "colab": {}
      },
      "cell_type": "code",
      "source": [
        "from sklearn import metrics\n",
        "\n",
        "# Training data\n",
        "df = td.read_td_query('''\n",
        "  select\n",
        "    *\n",
        "  from\n",
        "    churn_prediction_with_rescale\n",
        "  where\n",
        "    class like 'train'\n",
        "''', engine=presto)\n",
        "\n",
        "fig, ax = plt.subplots()\n",
        "fpr, tpr, thresholds = metrics.roc_curve(df['is_churn'], df['prob'])\n",
        "train_auc = metrics.auc(fpr, tpr)\n",
        "ax.plot(fpr, tpr)\n",
        "\n",
        "# Test data\n",
        "df = td.read_td_query('''\n",
        "  select\n",
        "    *\n",
        "  from\n",
        "    churn_prediction_with_rescale\n",
        "  where\n",
        "    class like 'test'\n",
        "''', engine=presto)\n",
        "\n",
        "fpr, tpr, thresholds = metrics.roc_curve(df['is_churn'], df['prob'])\n",
        "test_auc = metrics.auc(fpr, tpr)\n",
        "ax.plot(fpr, tpr)\n",
        "\n",
        "print(\"Train auc : {:.4f}\\nTest auc : {:.4f}\".format(train_auc, test_auc))\n",
        "plt.show()"
      ],
      "execution_count": 0,
      "outputs": []
    },
    {
      "metadata": {
        "id": "g2joUTnGYnYb",
        "colab_type": "text"
      },
      "cell_type": "markdown",
      "source": [
        "### Discussion / 考察"
      ]
    },
    {
      "metadata": {
        "id": "YfD-EL5UYo1x",
        "colab_type": "text"
      },
      "cell_type": "markdown",
      "source": [
        "Having features rescaled, the accuracy got better.\n",
        "\n",
        "In order to improve the accuracy, \n",
        "- add/remove features.\n",
        "- aggregate existing features.\n",
        "- have the number of target classes balanced.\n",
        "- try other models rather than logistic regression.\n",
        "- and so on.\n",
        "\n",
        "<br>\n",
        "\n",
        "リスケールすることで精度を向上できた。  \n",
        "\n",
        "さらに精度を上げるためには以下が考えられる。\n",
        "- 説明変数の追加/削除\n",
        "- 変数の集約\n",
        "- 正例/負例の数を等しくする\n",
        "- ロジスティック回帰以外のモデルを試す"
      ]
    },
    {
      "metadata": {
        "id": "m7HFvlaQoOgx",
        "colab_type": "text"
      },
      "cell_type": "markdown",
      "source": [
        "# Appendix"
      ]
    },
    {
      "metadata": {
        "id": "euSOSuwwoQYo",
        "colab_type": "text"
      },
      "cell_type": "markdown",
      "source": [
        "## AUC of ROC"
      ]
    },
    {
      "metadata": {
        "id": "J3v1JGE1pBcU",
        "colab_type": "text"
      },
      "cell_type": "markdown",
      "source": [
        "AUC of ROC is one of accuracy indications of binary classification tasks.\n",
        "\n",
        "When probabilities are randomized, the auc of ROC is around 0.50   \n",
        "and the ROC is nealy  `y = x`.\n",
        "The better machine learning model works, the bigger AUC of ROC gets.  \n",
        "The maximum value is 1.0.\n",
        "\n",
        "<br>\n",
        "\n",
        "ROCのAUCは二値分類の精度指標のひとつです。  \n",
        "推定した値が乱数であれば、AUCの値は約0.5になり、ROCのグラフは `y = x` に近くなります。  \n",
        "(AUC = Area Under Curve はグラフより下の部分の面積を指します。)  \n",
        "精度の良いモデルであればあるほど、AUCは大きくなります。\n",
        "最大値は1.0です。"
      ]
    },
    {
      "metadata": {
        "id": "pRQY1m9soTmX",
        "colab_type": "code",
        "cellView": "code",
        "colab": {}
      },
      "cell_type": "code",
      "source": [
        "df = td.read_td_query('''\n",
        "  select\n",
        "    case when is_churn like 'True.' then 1 else 0 end as is_churn\n",
        "    ,rand() as prob\n",
        "  from\n",
        "    churn_dataset\n",
        "''', engine=presto)\n",
        "\n",
        "# Plot ROC\n",
        "fpr, tpr, thresholds = metrics.roc_curve(df['is_churn'] == 1, df['prob'])\n",
        "print('ROC of AUC : {:.4f}'.format(metrics.auc(fpr, tpr)))\n",
        "plt.plot(fpr, tpr)\n",
        "plt.show()"
      ],
      "execution_count": 0,
      "outputs": []
    }
  ]
}