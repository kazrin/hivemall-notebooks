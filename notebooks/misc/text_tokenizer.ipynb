{
  "nbformat": 4,
  "nbformat_minor": 0,
  "metadata": {
    "colab": {
      "name": "text_tokenizer.ipynb",
      "version": "0.3.2",
      "provenance": [],
      "include_colab_link": true
    },
    "kernelspec": {
      "name": "python3",
      "display_name": "Python 3"
    }
  },
  "cells": [
    {
      "cell_type": "markdown",
      "metadata": {
        "id": "view-in-github",
        "colab_type": "text"
      },
      "source": [
        "<a href=\"https://colab.research.google.com/github/td-yoshimura/hivemall-notebooks/blob/master/notebooks/misc/text_tokenizer.ipynb\" target=\"_parent\"><img src=\"https://colab.research.google.com/assets/colab-badge.svg\" alt=\"Open In Colab\"/></a>"
      ]
    },
    {
      "metadata": {
        "id": "b_MmuB27ENTm",
        "colab_type": "text"
      },
      "cell_type": "markdown",
      "source": [
        "# Summary\n",
        "In this notebook, there are some samples for text tokenizing functions in Hivemall."
      ]
    },
    {
      "metadata": {
        "id": "y9XL6TA5zCM2",
        "colab_type": "code",
        "colab": {}
      },
      "cell_type": "code",
      "source": [
        "%env TD_API_KEY = YOUR TD API KEY\n",
        "%env DATABASE = YOUR DATABASE NAME"
      ],
      "execution_count": 0,
      "outputs": []
    },
    {
      "metadata": {
        "id": "af2HA2QyEJsY",
        "colab_type": "text"
      },
      "cell_type": "markdown",
      "source": [
        "<font color=\"red\"><b>You will be asked to input UserName and Password of Treasure Data. Please fill them.</b></font>"
      ]
    },
    {
      "metadata": {
        "id": "yIpiuTURzMmg",
        "colab_type": "code",
        "colab": {}
      },
      "cell_type": "code",
      "source": [
        "!curl -L https://toolbelt.treasuredata.com/sh/install-ubuntu-trusty-td-agent2.sh | sh\n",
        "!td account -f\n",
        "!pip install pandas-td"
      ],
      "execution_count": 0,
      "outputs": []
    },
    {
      "metadata": {
        "id": "ufp4qLgqzNuW",
        "colab_type": "code",
        "colab": {}
      },
      "cell_type": "code",
      "source": [
        "import os\n",
        "td_api_key = os.environ['TD_API_KEY']\n",
        "database = os.environ['DATABASE']\n",
        "table = 'churn_dataset'\n",
        "\n",
        "import numpy as np\n",
        "import pandas as pd\n",
        "\n",
        "import pandas_td as td\n",
        "con = td.connect(apikey=td_api_key)\n",
        "\n",
        "%load_ext pandas_td.ipython\n",
        "%td_use $database\n",
        "\n",
        "presto = td.create_engine('presto:{}'.format(database), con=con)\n",
        "hive = td.create_engine('hive:{}'.format(database), con=con)"
      ],
      "execution_count": 0,
      "outputs": []
    },
    {
      "metadata": {
        "id": "uhE0Ir5XzqWV",
        "colab_type": "text"
      },
      "cell_type": "markdown",
      "source": [
        "# Japanes Text"
      ]
    },
    {
      "metadata": {
        "id": "_43abg2U2c2g",
        "colab_type": "text"
      },
      "cell_type": "markdown",
      "source": [
        "tokenize_ja and tokenize_ja_neologd's arguments are below,\n",
        "- 1st argument: text\n",
        "- 2nd argument: segmentation modes ()normal/search/extended) http://www.atilika.org/\n",
        "- 3rd argument: stop words\n",
        "- 4th argument: stop tags https://qiita.com/miz21358/items/75fd28075ed8cfe2c937"
      ]
    },
    {
      "metadata": {
        "id": "uf84wuGrz1EC",
        "colab_type": "code",
        "outputId": "4647d095-05eb-47a8-c0ee-c3f9ee6ab4c6",
        "colab": {
          "base_uri": "https://localhost:8080/",
          "height": 173
        }
      },
      "cell_type": "code",
      "source": [
        "%%td_hive\n",
        "select\n",
        "  *\n",
        "from (\n",
        "  select 1 as index, tokenize_ja_neologd(\"kuromojiを使った分かち書きのテストです。😀\", \"normal\")\n",
        "  union all\n",
        "  select 2 as index, tokenize_ja_neologd(\"kuromojiを使った分かち書きのテストです。😀\", \"normal\", array(\"kuromoji\"))\n",
        "  union all  \n",
        "  select 3 as index, tokenize_ja_neologd(\"kuromojiを使った分かち書きのテストです。😀\", \"normal\", null, array(\"名詞-一般\"))\n",
        "  union all\n",
        "  select 4 as index, tokenize_ja_neologd(\"kuromojiを使った分かち書きのテストです。😀\", \"normal\", array(\"kuromoji\"), array(\"名詞-一般\"))\n",
        ") t\n",
        "order by index"
      ],
      "execution_count": 0,
      "outputs": [
        {
          "output_type": "execute_result",
          "data": {
            "text/html": [
              "<div>\n",
              "<style scoped>\n",
              "    .dataframe tbody tr th:only-of-type {\n",
              "        vertical-align: middle;\n",
              "    }\n",
              "\n",
              "    .dataframe tbody tr th {\n",
              "        vertical-align: top;\n",
              "    }\n",
              "\n",
              "    .dataframe thead th {\n",
              "        text-align: right;\n",
              "    }\n",
              "</style>\n",
              "<table border=\"1\" class=\"dataframe\">\n",
              "  <thead>\n",
              "    <tr style=\"text-align: right;\">\n",
              "      <th></th>\n",
              "      <th>index</th>\n",
              "      <th>_c1</th>\n",
              "    </tr>\n",
              "  </thead>\n",
              "  <tbody>\n",
              "    <tr>\n",
              "      <th>0</th>\n",
              "      <td>1</td>\n",
              "      <td>[kuromoji, 使う, 分かち書き, テスト, 笑顔]</td>\n",
              "    </tr>\n",
              "    <tr>\n",
              "      <th>1</th>\n",
              "      <td>2</td>\n",
              "      <td>[使う, 分かち書き, テスト, 笑顔]</td>\n",
              "    </tr>\n",
              "    <tr>\n",
              "      <th>2</th>\n",
              "      <td>3</td>\n",
              "      <td>[使う, テスト]</td>\n",
              "    </tr>\n",
              "    <tr>\n",
              "      <th>3</th>\n",
              "      <td>4</td>\n",
              "      <td>[を, 使う, た, の, テスト, です]</td>\n",
              "    </tr>\n",
              "  </tbody>\n",
              "</table>\n",
              "</div>"
            ],
            "text/plain": [
              "   index                             _c1\n",
              "0      1  [kuromoji, 使う, 分かち書き, テスト, 笑顔]\n",
              "1      2            [使う, 分かち書き, テスト, 笑顔]\n",
              "2      3                       [使う, テスト]\n",
              "3      4          [を, 使う, た, の, テスト, です]"
            ]
          },
          "metadata": {
            "tags": []
          },
          "execution_count": 4
        }
      ]
    },
    {
      "metadata": {
        "id": "_AlDTHa18Zhz",
        "colab_type": "text"
      },
      "cell_type": "markdown",
      "source": [
        "## The diffrence between `tokenize_ja` and `tokenize_ja_neologd`\n",
        "`tokenize_ja_neologd` has a newer version's dictionary."
      ]
    },
    {
      "metadata": {
        "id": "_4wt99ks3OGv",
        "colab_type": "code",
        "outputId": "3fb3c3cb-0495-47d1-b22b-dec363a64b70",
        "colab": {
          "base_uri": "https://localhost:8080/",
          "height": 111
        }
      },
      "cell_type": "code",
      "source": [
        "%%td_hive\n",
        "select 'tokenize_ja' as f, tokenize_ja(\"中居正広のミになる図書館。\") as result\n",
        "union all\n",
        "select 'tokenize_ja_neologd' as f, tokenize_ja_neologd(\"中居正広のミになる図書館。\") as result"
      ],
      "execution_count": 0,
      "outputs": [
        {
          "output_type": "execute_result",
          "data": {
            "text/html": [
              "<div>\n",
              "<style scoped>\n",
              "    .dataframe tbody tr th:only-of-type {\n",
              "        vertical-align: middle;\n",
              "    }\n",
              "\n",
              "    .dataframe tbody tr th {\n",
              "        vertical-align: top;\n",
              "    }\n",
              "\n",
              "    .dataframe thead th {\n",
              "        text-align: right;\n",
              "    }\n",
              "</style>\n",
              "<table border=\"1\" class=\"dataframe\">\n",
              "  <thead>\n",
              "    <tr style=\"text-align: right;\">\n",
              "      <th></th>\n",
              "      <th>f</th>\n",
              "      <th>result</th>\n",
              "    </tr>\n",
              "  </thead>\n",
              "  <tbody>\n",
              "    <tr>\n",
              "      <th>0</th>\n",
              "      <td>tokenize_ja</td>\n",
              "      <td>[中居, 正広, ミ, 図書館]</td>\n",
              "    </tr>\n",
              "    <tr>\n",
              "      <th>1</th>\n",
              "      <td>tokenize_ja_neologd</td>\n",
              "      <td>[中居正広の身になる図書館]</td>\n",
              "    </tr>\n",
              "  </tbody>\n",
              "</table>\n",
              "</div>"
            ],
            "text/plain": [
              "                     f            result\n",
              "0          tokenize_ja  [中居, 正広, ミ, 図書館]\n",
              "1  tokenize_ja_neologd    [中居正広の身になる図書館]"
            ]
          },
          "metadata": {
            "tags": []
          },
          "execution_count": 5
        }
      ]
    },
    {
      "metadata": {
        "id": "Z3fiwQdL-auc",
        "colab_type": "text"
      },
      "cell_type": "markdown",
      "source": [
        "# English Text"
      ]
    },
    {
      "metadata": {
        "id": "5xWdke-0-cNS",
        "colab_type": "code",
        "outputId": "f82c0807-5b68-4fb9-fd60-48d4a75f7d14",
        "colab": {
          "base_uri": "https://localhost:8080/",
          "height": 142
        }
      },
      "cell_type": "code",
      "source": [
        "%%td_hive\n",
        "select\n",
        "  *\n",
        "from (\n",
        "  select 1 as index, tokenize(\"I am studying Hivemall because it's a lot of fun\", true)\n",
        "  union all\n",
        "  select 2 as index, tokenize(\"I am studying Hivemall because it's a lot of fun\", false)\n",
        "  union all\n",
        "  select 3 as index, tokenize(\"I am studying Hivemall because it's a lot of fun\") -- default value of the second argument is false\n",
        ") t\n",
        "order by index"
      ],
      "execution_count": 0,
      "outputs": [
        {
          "output_type": "execute_result",
          "data": {
            "text/html": [
              "<div>\n",
              "<style scoped>\n",
              "    .dataframe tbody tr th:only-of-type {\n",
              "        vertical-align: middle;\n",
              "    }\n",
              "\n",
              "    .dataframe tbody tr th {\n",
              "        vertical-align: top;\n",
              "    }\n",
              "\n",
              "    .dataframe thead th {\n",
              "        text-align: right;\n",
              "    }\n",
              "</style>\n",
              "<table border=\"1\" class=\"dataframe\">\n",
              "  <thead>\n",
              "    <tr style=\"text-align: right;\">\n",
              "      <th></th>\n",
              "      <th>index</th>\n",
              "      <th>_c1</th>\n",
              "    </tr>\n",
              "  </thead>\n",
              "  <tbody>\n",
              "    <tr>\n",
              "      <th>0</th>\n",
              "      <td>1</td>\n",
              "      <td>[i, am, studying, hivemall, because, it, s, a,...</td>\n",
              "    </tr>\n",
              "    <tr>\n",
              "      <th>1</th>\n",
              "      <td>2</td>\n",
              "      <td>[I, am, studying, Hivemall, because, it, s, a,...</td>\n",
              "    </tr>\n",
              "    <tr>\n",
              "      <th>2</th>\n",
              "      <td>3</td>\n",
              "      <td>[I, am, studying, Hivemall, because, it, s, a,...</td>\n",
              "    </tr>\n",
              "  </tbody>\n",
              "</table>\n",
              "</div>"
            ],
            "text/plain": [
              "   index                                                _c1\n",
              "0      1  [i, am, studying, hivemall, because, it, s, a,...\n",
              "1      2  [I, am, studying, Hivemall, because, it, s, a,...\n",
              "2      3  [I, am, studying, Hivemall, because, it, s, a,..."
            ]
          },
          "metadata": {
            "tags": []
          },
          "execution_count": 6
        }
      ]
    },
    {
      "metadata": {
        "id": "SMoU1gO2Efud",
        "colab_type": "text"
      },
      "cell_type": "markdown",
      "source": [
        "# Chinese Text"
      ]
    },
    {
      "metadata": {
        "id": "Psc6YMDfEhIS",
        "colab_type": "code",
        "outputId": "8ace5d81-4d6b-46e0-fec6-e1ff29a9699c",
        "colab": {
          "base_uri": "https://localhost:8080/",
          "height": 80
        }
      },
      "cell_type": "code",
      "source": [
        "%%td_hive\n",
        "select \n",
        "  tokenize_cn(\"Smartcn为Apache2.0协议的开源中文分词系统，Java语言编写，修改的中科院计算所ICTCLAS分词系统。\")"
      ],
      "execution_count": 0,
      "outputs": [
        {
          "output_type": "execute_result",
          "data": {
            "text/html": [
              "<div>\n",
              "<style scoped>\n",
              "    .dataframe tbody tr th:only-of-type {\n",
              "        vertical-align: middle;\n",
              "    }\n",
              "\n",
              "    .dataframe tbody tr th {\n",
              "        vertical-align: top;\n",
              "    }\n",
              "\n",
              "    .dataframe thead th {\n",
              "        text-align: right;\n",
              "    }\n",
              "</style>\n",
              "<table border=\"1\" class=\"dataframe\">\n",
              "  <thead>\n",
              "    <tr style=\"text-align: right;\">\n",
              "      <th></th>\n",
              "      <th>_c0</th>\n",
              "    </tr>\n",
              "  </thead>\n",
              "  <tbody>\n",
              "    <tr>\n",
              "      <th>0</th>\n",
              "      <td>[smartcn, 为, apach, 2, 0, 协议, 的, 开源, 中文, 分词, 系...</td>\n",
              "    </tr>\n",
              "  </tbody>\n",
              "</table>\n",
              "</div>"
            ],
            "text/plain": [
              "                                                 _c0\n",
              "0  [smartcn, 为, apach, 2, 0, 协议, 的, 开源, 中文, 分词, 系..."
            ]
          },
          "metadata": {
            "tags": []
          },
          "execution_count": 8
        }
      ]
    }
  ]
}