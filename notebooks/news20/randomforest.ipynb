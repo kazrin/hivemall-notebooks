{
  "nbformat": 4,
  "nbformat_minor": 0,
  "metadata": {
    "colab": {
      "name": "[New]hivemall101_with_news20.ipynb",
      "version": "0.3.2",
      "provenance": [],
      "collapsed_sections": [],
      "include_colab_link": true
    },
    "kernelspec": {
      "name": "python3",
      "display_name": "Python 3"
    }
  },
  "cells": [
    {
      "cell_type": "markdown",
      "metadata": {
        "id": "view-in-github",
        "colab_type": "text"
      },
      "source": [
        "<a href=\"https://colab.research.google.com/github/td-yoshimura/hivemall-notebooks/blob/master/notebooks/news20/randomforest.ipynb\" target=\"_parent\"><img src=\"https://colab.research.google.com/assets/colab-badge.svg\" alt=\"Open In Colab\"/></a>"
      ]
    },
    {
      "metadata": {
        "id": "H5ZxIYLiAOx_",
        "colab_type": "text"
      },
      "cell_type": "markdown",
      "source": [
        "# Summary\n",
        "This notebook shows how to classify articles with Random Forest in Hivemall using 20news dataset."
      ]
    },
    {
      "metadata": {
        "id": "X7ryfJU1g0os",
        "colab_type": "text"
      },
      "cell_type": "markdown",
      "source": [
        "# SetUp"
      ]
    },
    {
      "metadata": {
        "id": "TiFacn4vs2D2",
        "colab_type": "text"
      },
      "cell_type": "markdown",
      "source": [
        "Executing a following cell, you are asked to input some information."
      ]
    },
    {
      "metadata": {
        "id": "huiddEnjF5Ta",
        "colab_type": "code",
        "outputId": "d34c6095-8602-494a-cc9e-06bc545e53ab",
        "colab": {
          "base_uri": "https://localhost:8080/",
          "height": 102
        }
      },
      "cell_type": "code",
      "source": [
        "from getpass import getpass\n",
        "td_api_key = getpass('Enter TD API KEY here ')\n",
        "database   = input('Enter YOUR DATABASE to create tables here ')\n",
        "assert database, \"Error: Input YOUR DATABASE\"\n",
        "endpoint   = input('Enter YOUR ENDPOINT to create tables here (default: \"api.treasuredata.com\") \\nref : https://support.treasuredata.com/hc/en-us/articles/360001474288-Sites-and-Endpoints ')\n",
        "endpoint = 'https://' + endpoint if not endpoint.startswith('https://') else endpoint\n",
        "use_spark  = input('If enable to use spark, enter \"true\" (default: false) ').lower()\n",
        "use_spark  = use_spark == 'true'\n",
        "table = 'news20'"
      ],
      "execution_count": 75,
      "outputs": [
        {
          "output_type": "stream",
          "text": [
            "Enter TD API KEY here ··········\n",
            "Enter YOUR DATABASE to create tables here temp_db\n",
            "Enter YOUR ENDPOINT to create tables here (default: \"api.treasuredata.com\") \n",
            "ref : https://support.treasuredata.com/hc/en-us/articles/360001474288-Sites-and-Endpoints api.ybi.idcfcloud.net\n",
            "If enable to use spark, enter \"true\" (default: false) \n"
          ],
          "name": "stdout"
        }
      ]
    },
    {
      "metadata": {
        "id": "nr-uNr8Fa9yk",
        "colab_type": "code",
        "colab": {}
      },
      "cell_type": "code",
      "source": [
        "%%capture\n",
        "!pip install td-client\n",
        "!pip install pandas-td\n",
        "!pip install -q git+https://github.com/takuti/pytd@master#egg=treasure-data[spark]\n",
        "\n",
        "import numpy as np\n",
        "import pandas as pd\n",
        "import pandas_td as td\n",
        "import matplotlib.pyplot as plt\n",
        "import seaborn as sns\n",
        "import pytd\n",
        "import tdclient\n",
        "pd.options.display.max_columns = 30\n",
        "\n",
        "%matplotlib inline\n",
        "con = td.connect(apikey=td_api_key, endpoint=endpoint)\n",
        "c = tdclient.Client(apikey=td_api_key, endpoint=endpoint)\n",
        "presto = td.create_engine('presto:{}'.format(database), con=con)\n",
        "hive = td.create_engine('hive:{}'.format(database), con=con)"
      ],
      "execution_count": 0,
      "outputs": []
    },
    {
      "metadata": {
        "id": "JR4pLLbjM9fN",
        "colab_type": "text"
      },
      "cell_type": "markdown",
      "source": [
        "# Data Preparation"
      ]
    },
    {
      "metadata": {
        "id": "EdXGlZnFAoRl",
        "colab_type": "text"
      },
      "cell_type": "markdown",
      "source": [
        "## Fetch data\n",
        "It's done by using scikit-learn."
      ]
    },
    {
      "metadata": {
        "id": "wZjlEf8gbBcR",
        "colab_type": "code",
        "colab": {}
      },
      "cell_type": "code",
      "source": [
        "import time\n",
        "from sklearn.datasets import fetch_20newsgroups\n",
        "data = fetch_20newsgroups(subset='all')\n",
        "targets = [data['target_names'][idx] for idx in data['target']]\n",
        "df = pd.DataFrame({'target':targets, 'text':data['data']})\n",
        "df['article_id'] = df.index"
      ],
      "execution_count": 0,
      "outputs": []
    },
    {
      "metadata": {
        "id": "ctTVorkf_k_m",
        "colab_type": "text"
      },
      "cell_type": "markdown",
      "source": [
        "## Create a table on Treasure Data"
      ]
    },
    {
      "metadata": {
        "id": "uFSEtZlpW9Zx",
        "colab_type": "code",
        "colab": {}
      },
      "cell_type": "code",
      "source": [
        "if use_spark:\n",
        "  client = pytd.Client(database=database, apikey=td_api_key)\n",
        "  client.load_table_from_dataframe(df.reset_index(), '{}.{}'.format(database, table), if_exists='overwrite')\n",
        "else:\n",
        "  if table in [table.name for table in c.tables(database)]:\n",
        "    c.delete_table(database, table)\n",
        "  td.to_td(df, '{}.{}'.format(database, table), con)"
      ],
      "execution_count": 0,
      "outputs": []
    },
    {
      "metadata": {
        "id": "Z_SWvBS3CBx8",
        "colab_type": "text"
      },
      "cell_type": "markdown",
      "source": [
        "# EDA (Explore data analysis)\n",
        "Before executing machine learning tasks, you should understand your data correctly.  \n",
        "Descriptive statistics and visualization are important for this."
      ]
    },
    {
      "metadata": {
        "id": "653K_81wDfpD",
        "colab_type": "text"
      },
      "cell_type": "markdown",
      "source": [
        "## Data Sample"
      ]
    },
    {
      "metadata": {
        "id": "P-xqiuTNDhLG",
        "colab_type": "code",
        "outputId": "0255ca69-163e-49da-d9c5-533388db2db1",
        "colab": {
          "base_uri": "https://localhost:8080/",
          "height": 111
        }
      },
      "cell_type": "code",
      "source": [
        "td.read_td_query('''\n",
        "select\n",
        "  *\n",
        "from\n",
        "  news20\n",
        "limit 2''', engine=presto)"
      ],
      "execution_count": 42,
      "outputs": [
        {
          "output_type": "execute_result",
          "data": {
            "text/html": [
              "<div>\n",
              "<style scoped>\n",
              "    .dataframe tbody tr th:only-of-type {\n",
              "        vertical-align: middle;\n",
              "    }\n",
              "\n",
              "    .dataframe tbody tr th {\n",
              "        vertical-align: top;\n",
              "    }\n",
              "\n",
              "    .dataframe thead th {\n",
              "        text-align: right;\n",
              "    }\n",
              "</style>\n",
              "<table border=\"1\" class=\"dataframe\">\n",
              "  <thead>\n",
              "    <tr style=\"text-align: right;\">\n",
              "      <th></th>\n",
              "      <th>index</th>\n",
              "      <th>article_id</th>\n",
              "      <th>text</th>\n",
              "      <th>target</th>\n",
              "      <th>time</th>\n",
              "    </tr>\n",
              "  </thead>\n",
              "  <tbody>\n",
              "    <tr>\n",
              "      <th>0</th>\n",
              "      <td>0</td>\n",
              "      <td>0</td>\n",
              "      <td>From: Mamatha Devineni Ratnam &lt;mr47+@andrew.cm...</td>\n",
              "      <td>rec.sport.hockey</td>\n",
              "      <td>1550575994</td>\n",
              "    </tr>\n",
              "    <tr>\n",
              "      <th>1</th>\n",
              "      <td>1</td>\n",
              "      <td>1</td>\n",
              "      <td>From: mblawson@midway.ecn.uoknor.edu (Matthew ...</td>\n",
              "      <td>comp.sys.ibm.pc.hardware</td>\n",
              "      <td>1550575994</td>\n",
              "    </tr>\n",
              "  </tbody>\n",
              "</table>\n",
              "</div>"
            ],
            "text/plain": [
              "   index  article_id                                               text  \\\n",
              "0      0           0  From: Mamatha Devineni Ratnam <mr47+@andrew.cm...   \n",
              "1      1           1  From: mblawson@midway.ecn.uoknor.edu (Matthew ...   \n",
              "\n",
              "                     target        time  \n",
              "0          rec.sport.hockey  1550575994  \n",
              "1  comp.sys.ibm.pc.hardware  1550575994  "
            ]
          },
          "metadata": {
            "tags": []
          },
          "execution_count": 42
        }
      ]
    },
    {
      "metadata": {
        "id": "sp4EWkATEIUH",
        "colab_type": "text"
      },
      "cell_type": "markdown",
      "source": [
        "## Data size"
      ]
    },
    {
      "metadata": {
        "id": "k2TxtnIEEMDj",
        "colab_type": "code",
        "outputId": "40166074-3e6b-4cbc-f022-8c6beb2b1061",
        "colab": {
          "base_uri": "https://localhost:8080/",
          "height": 80
        }
      },
      "cell_type": "code",
      "source": [
        "td.read_td_query('''\n",
        "select \n",
        "  count(*) as n_article\n",
        "  ,count(distinct target) as n_class \n",
        "from \n",
        "  news20\n",
        "''', engine=presto)"
      ],
      "execution_count": 44,
      "outputs": [
        {
          "output_type": "execute_result",
          "data": {
            "text/html": [
              "<div>\n",
              "<style scoped>\n",
              "    .dataframe tbody tr th:only-of-type {\n",
              "        vertical-align: middle;\n",
              "    }\n",
              "\n",
              "    .dataframe tbody tr th {\n",
              "        vertical-align: top;\n",
              "    }\n",
              "\n",
              "    .dataframe thead th {\n",
              "        text-align: right;\n",
              "    }\n",
              "</style>\n",
              "<table border=\"1\" class=\"dataframe\">\n",
              "  <thead>\n",
              "    <tr style=\"text-align: right;\">\n",
              "      <th></th>\n",
              "      <th>n_article</th>\n",
              "      <th>n_class</th>\n",
              "    </tr>\n",
              "  </thead>\n",
              "  <tbody>\n",
              "    <tr>\n",
              "      <th>0</th>\n",
              "      <td>18846</td>\n",
              "      <td>20</td>\n",
              "    </tr>\n",
              "  </tbody>\n",
              "</table>\n",
              "</div>"
            ],
            "text/plain": [
              "   n_article  n_class\n",
              "0      18846       20"
            ]
          },
          "metadata": {
            "tags": []
          },
          "execution_count": 44
        }
      ]
    },
    {
      "metadata": {
        "id": "kJeiH5iyCtMY",
        "colab_type": "text"
      },
      "cell_type": "markdown",
      "source": [
        "## Target"
      ]
    },
    {
      "metadata": {
        "id": "Gr9b6YWwCq7w",
        "colab_type": "code",
        "outputId": "8d16c8e7-070b-4ef4-9222-0342d4fc6868",
        "colab": {
          "base_uri": "https://localhost:8080/",
          "height": 405
        }
      },
      "cell_type": "code",
      "source": [
        "td.read_td_query('''\n",
        "  select\n",
        "    target\n",
        "    ,count(*) as n\n",
        "  from\n",
        "    news20\n",
        "  group by\n",
        "    1\n",
        "  order by\n",
        "    target\n",
        "'''.format(table=table), engine=presto, index_col='target')['n'].plot.bar()"
      ],
      "execution_count": 45,
      "outputs": [
        {
          "output_type": "execute_result",
          "data": {
            "text/plain": [
              "<matplotlib.axes._subplots.AxesSubplot at 0x7f9299c9d390>"
            ]
          },
          "metadata": {
            "tags": []
          },
          "execution_count": 45
        },
        {
          "output_type": "display_data",
          "data": {
            "image/png": "[encoded data removed]",
            "text/plain": [
              "<Figure size 432x288 with 1 Axes>"
            ]
          },
          "metadata": {
            "tags": []
          }
        }
      ]
    },
    {
      "metadata": {
        "id": "nglY9KEqE_8Z",
        "colab_type": "text"
      },
      "cell_type": "markdown",
      "source": [
        "## The number of word for each article"
      ]
    },
    {
      "metadata": {
        "id": "RkRe5SSoFGAy",
        "colab_type": "text"
      },
      "cell_type": "markdown",
      "source": [
        "### Preprocess\n",
        "`tokenize` function splits a text into words.  \n",
        "https://hivemall.incubator.apache.org/userguide/misc/tokenizer.html"
      ]
    },
    {
      "metadata": {
        "id": "TaxWXPA0KPlh",
        "colab_type": "code",
        "outputId": "2d9163b5-6247-4ab7-c42d-b2edad0aa94d",
        "colab": {
          "base_uri": "https://localhost:8080/",
          "height": 204
        }
      },
      "cell_type": "code",
      "source": [
        "td.read_td_query('''\n",
        "select\n",
        "  target\n",
        "  ,text\n",
        "  ,tokenize(text, true) as tokenized\n",
        "  ,size(tokenize(text, true)) as n_word\n",
        "from\n",
        "  news20\n",
        "limit 5\n",
        "''', engine=hive)"
      ],
      "execution_count": 46,
      "outputs": [
        {
          "output_type": "execute_result",
          "data": {
            "text/html": [
              "<div>\n",
              "<style scoped>\n",
              "    .dataframe tbody tr th:only-of-type {\n",
              "        vertical-align: middle;\n",
              "    }\n",
              "\n",
              "    .dataframe tbody tr th {\n",
              "        vertical-align: top;\n",
              "    }\n",
              "\n",
              "    .dataframe thead th {\n",
              "        text-align: right;\n",
              "    }\n",
              "</style>\n",
              "<table border=\"1\" class=\"dataframe\">\n",
              "  <thead>\n",
              "    <tr style=\"text-align: right;\">\n",
              "      <th></th>\n",
              "      <th>target</th>\n",
              "      <th>text</th>\n",
              "      <th>tokenized</th>\n",
              "      <th>n_word</th>\n",
              "    </tr>\n",
              "  </thead>\n",
              "  <tbody>\n",
              "    <tr>\n",
              "      <th>0</th>\n",
              "      <td>rec.sport.hockey</td>\n",
              "      <td>From: Mamatha Devineni Ratnam &lt;mr47+@andrew.cm...</td>\n",
              "      <td>[from, mamatha, devineni, ratnam, mr47+@andrew...</td>\n",
              "      <td>162</td>\n",
              "    </tr>\n",
              "    <tr>\n",
              "      <th>1</th>\n",
              "      <td>comp.sys.ibm.pc.hardware</td>\n",
              "      <td>From: mblawson@midway.ecn.uoknor.edu (Matthew ...</td>\n",
              "      <td>[from, mblawson@midway, ecn, uoknor, edu, matt...</td>\n",
              "      <td>144</td>\n",
              "    </tr>\n",
              "    <tr>\n",
              "      <th>2</th>\n",
              "      <td>talk.politics.mideast</td>\n",
              "      <td>From: hilmi-er@dsv.su.se (Hilmi Eren)\\nSubject...</td>\n",
              "      <td>[from, hilmi-er@dsv, su, se, hilmi, eren, subj...</td>\n",
              "      <td>616</td>\n",
              "    </tr>\n",
              "    <tr>\n",
              "      <th>3</th>\n",
              "      <td>comp.sys.ibm.pc.hardware</td>\n",
              "      <td>From: guyd@austin.ibm.com (Guy Dawson)\\nSubjec...</td>\n",
              "      <td>[from, guyd@austin, ibm, com, guy, dawson, sub...</td>\n",
              "      <td>527</td>\n",
              "    </tr>\n",
              "    <tr>\n",
              "      <th>4</th>\n",
              "      <td>comp.sys.mac.hardware</td>\n",
              "      <td>From: Alexander Samuel McDiarmid &lt;am2o+@andrew...</td>\n",
              "      <td>[from, alexander, samuel, mcdiarmid, am2o+@and...</td>\n",
              "      <td>157</td>\n",
              "    </tr>\n",
              "  </tbody>\n",
              "</table>\n",
              "</div>"
            ],
            "text/plain": [
              "                     target  \\\n",
              "0          rec.sport.hockey   \n",
              "1  comp.sys.ibm.pc.hardware   \n",
              "2     talk.politics.mideast   \n",
              "3  comp.sys.ibm.pc.hardware   \n",
              "4     comp.sys.mac.hardware   \n",
              "\n",
              "                                                text  \\\n",
              "0  From: Mamatha Devineni Ratnam <mr47+@andrew.cm...   \n",
              "1  From: mblawson@midway.ecn.uoknor.edu (Matthew ...   \n",
              "2  From: hilmi-er@dsv.su.se (Hilmi Eren)\\nSubject...   \n",
              "3  From: guyd@austin.ibm.com (Guy Dawson)\\nSubjec...   \n",
              "4  From: Alexander Samuel McDiarmid <am2o+@andrew...   \n",
              "\n",
              "                                           tokenized  n_word  \n",
              "0  [from, mamatha, devineni, ratnam, mr47+@andrew...     162  \n",
              "1  [from, mblawson@midway, ecn, uoknor, edu, matt...     144  \n",
              "2  [from, hilmi-er@dsv, su, se, hilmi, eren, subj...     616  \n",
              "3  [from, guyd@austin, ibm, com, guy, dawson, sub...     527  \n",
              "4  [from, alexander, samuel, mcdiarmid, am2o+@and...     157  "
            ]
          },
          "metadata": {
            "tags": []
          },
          "execution_count": 46
        }
      ]
    },
    {
      "metadata": {
        "id": "IAl2fNlSTp8A",
        "colab_type": "text"
      },
      "cell_type": "markdown",
      "source": [
        "### View data"
      ]
    },
    {
      "metadata": {
        "id": "m8_DlKJ0Lc8N",
        "colab_type": "code",
        "outputId": "530a407c-393c-4adf-c0e9-7866bf394536",
        "colab": {
          "base_uri": "https://localhost:8080/",
          "height": 297
        }
      },
      "cell_type": "code",
      "source": [
        "td.read_td_query('''\n",
        "  select\n",
        "    size(tokenize(text, true)) as n_word\n",
        "  from\n",
        "    news20\n",
        "''', engine=hive).describe()"
      ],
      "execution_count": 47,
      "outputs": [
        {
          "output_type": "execute_result",
          "data": {
            "text/html": [
              "<div>\n",
              "<style scoped>\n",
              "    .dataframe tbody tr th:only-of-type {\n",
              "        vertical-align: middle;\n",
              "    }\n",
              "\n",
              "    .dataframe tbody tr th {\n",
              "        vertical-align: top;\n",
              "    }\n",
              "\n",
              "    .dataframe thead th {\n",
              "        text-align: right;\n",
              "    }\n",
              "</style>\n",
              "<table border=\"1\" class=\"dataframe\">\n",
              "  <thead>\n",
              "    <tr style=\"text-align: right;\">\n",
              "      <th></th>\n",
              "      <th>n_word</th>\n",
              "    </tr>\n",
              "  </thead>\n",
              "  <tbody>\n",
              "    <tr>\n",
              "      <th>count</th>\n",
              "      <td>18846.000000</td>\n",
              "    </tr>\n",
              "    <tr>\n",
              "      <th>mean</th>\n",
              "      <td>310.510665</td>\n",
              "    </tr>\n",
              "    <tr>\n",
              "      <th>std</th>\n",
              "      <td>690.912549</td>\n",
              "    </tr>\n",
              "    <tr>\n",
              "      <th>min</th>\n",
              "      <td>15.000000</td>\n",
              "    </tr>\n",
              "    <tr>\n",
              "      <th>25%</th>\n",
              "      <td>117.000000</td>\n",
              "    </tr>\n",
              "    <tr>\n",
              "      <th>50%</th>\n",
              "      <td>187.000000</td>\n",
              "    </tr>\n",
              "    <tr>\n",
              "      <th>75%</th>\n",
              "      <td>307.000000</td>\n",
              "    </tr>\n",
              "    <tr>\n",
              "      <th>max</th>\n",
              "      <td>31621.000000</td>\n",
              "    </tr>\n",
              "  </tbody>\n",
              "</table>\n",
              "</div>"
            ],
            "text/plain": [
              "             n_word\n",
              "count  18846.000000\n",
              "mean     310.510665\n",
              "std      690.912549\n",
              "min       15.000000\n",
              "25%      117.000000\n",
              "50%      187.000000\n",
              "75%      307.000000\n",
              "max    31621.000000"
            ]
          },
          "metadata": {
            "tags": []
          },
          "execution_count": 47
        }
      ]
    },
    {
      "metadata": {
        "id": "-NzGjoULL5Hi",
        "colab_type": "code",
        "outputId": "3b542073-c2e3-4221-a5af-e04855a105b4",
        "colab": {
          "base_uri": "https://localhost:8080/",
          "height": 314
        }
      },
      "cell_type": "code",
      "source": [
        "td.read_td_query('''\n",
        "  select\n",
        "    size(tokenize(text, true)) as n_word\n",
        "  from\n",
        "    news20\n",
        "''', engine=hive).hist(range=(0,500), bins=50)"
      ],
      "execution_count": 48,
      "outputs": [
        {
          "output_type": "execute_result",
          "data": {
            "text/plain": [
              "array([[<matplotlib.axes._subplots.AxesSubplot object at 0x7f9296cf2048>]],\n",
              "      dtype=object)"
            ]
          },
          "metadata": {
            "tags": []
          },
          "execution_count": 48
        },
        {
          "output_type": "display_data",
          "data": {
            "image/png": "[encoded data removed]",
            "text/plain": [
              "<Figure size 432x288 with 1 Axes>"
            ]
          },
          "metadata": {
            "tags": []
          }
        }
      ]
    },
    {
      "metadata": {
        "id": "uHx7bcsnL8k8",
        "colab_type": "code",
        "colab": {}
      },
      "cell_type": "code",
      "source": [
        "data = td.read_td_query('''\n",
        "  select\n",
        "    target\n",
        "    ,avg(size(tokenize(text, true))) as average\n",
        "    ,variance(size(tokenize(text, true))) as variance\n",
        "  from\n",
        "    news20\n",
        "  group by\n",
        "    1\n",
        "  order by\n",
        "    1\n",
        "''', engine=hive, index_col='target')"
      ],
      "execution_count": 0,
      "outputs": []
    },
    {
      "metadata": {
        "id": "TRA5ud7bOfUw",
        "colab_type": "code",
        "outputId": "b105ac39-8f3b-4ff9-c471-4f8f90602667",
        "colab": {
          "base_uri": "https://localhost:8080/",
          "height": 405
        }
      },
      "cell_type": "code",
      "source": [
        "data['average'].plot.bar()"
      ],
      "execution_count": 50,
      "outputs": [
        {
          "output_type": "execute_result",
          "data": {
            "text/plain": [
              "<matplotlib.axes._subplots.AxesSubplot at 0x7f9296dc6f60>"
            ]
          },
          "metadata": {
            "tags": []
          },
          "execution_count": 50
        },
        {
          "output_type": "display_data",
          "data": {
            "image/png": "[encoded data removed]",
            "text/plain": [
              "<Figure size 432x288 with 1 Axes>"
            ]
          },
          "metadata": {
            "tags": []
          }
        }
      ]
    },
    {
      "metadata": {
        "id": "IdtJODMyaleN",
        "colab_type": "text"
      },
      "cell_type": "markdown",
      "source": [
        "# Run machine learning task"
      ]
    },
    {
      "metadata": {
        "id": "_ansLQKXgO1k",
        "colab_type": "text"
      },
      "cell_type": "markdown",
      "source": [
        "## Tokenize text"
      ]
    },
    {
      "metadata": {
        "id": "SA8l4sncckSQ",
        "colab_type": "code",
        "colab": {}
      },
      "cell_type": "code",
      "source": [
        "if 'news20_text_parsed' in [table.name for table in c.tables(database)]:\n",
        "  c.delete_table(database, 'news20_text_parsed')\n",
        "c.create_log_table(database, 'news20_text_parsed')"
      ],
      "execution_count": 0,
      "outputs": []
    },
    {
      "metadata": {
        "id": "bPKlEyR60D8l",
        "colab_type": "text"
      },
      "cell_type": "markdown",
      "source": [
        "This query will take a long time (about 20 min)"
      ]
    },
    {
      "metadata": {
        "id": "0UJSu09ic7MA",
        "colab_type": "code",
        "colab": {
          "base_uri": "https://localhost:8080/",
          "height": 136
        },
        "outputId": "76b05ca6-c880-437f-e930-2ae73dba17e0"
      },
      "cell_type": "code",
      "source": [
        "td.read_td_query('''\n",
        "insert into table news20_text_parsed\n",
        "select\n",
        "  article_id\n",
        "  ,target\n",
        "  ,text\n",
        "  ,word\n",
        "  ,count(*) as n\n",
        "from\n",
        "  news20  \n",
        "lateral view\n",
        "  explode(tokenize(text, true)) t as word\n",
        "group by\n",
        "  1,2,3,4\n",
        "''', engine=hive)"
      ],
      "execution_count": 53,
      "outputs": [
        {
          "output_type": "display_data",
          "data": {
            "text/html": [
              "<div style=\"border-style: dashed; border-width: 1px;\">\n",
              "<div style=\"color: #888;\"># issued at 2019-02-19T12:02:06Z</div>URL: <a href=\"https://console.ybi.idcfcloud.net/jobs/57476886\" target=\"_blank\">https://console.ybi.idcfcloud.net/jobs/57476886</a><br>\n",
              "Result size: 20 bytes<br>\n",
              "Download: 20 / 20 bytes (100.00%)<br>\n",
              "<div style=\"color: #888;\"># downloaded at 2019-02-19T12:47:15Z</div></div>\n"
            ],
            "text/plain": [
              "<IPython.core.display.HTML object>"
            ]
          },
          "metadata": {
            "tags": []
          }
        },
        {
          "output_type": "execute_result",
          "data": {
            "text/html": [
              "<div>\n",
              "<style scoped>\n",
              "    .dataframe tbody tr th:only-of-type {\n",
              "        vertical-align: middle;\n",
              "    }\n",
              "\n",
              "    .dataframe tbody tr th {\n",
              "        vertical-align: top;\n",
              "    }\n",
              "\n",
              "    .dataframe thead th {\n",
              "        text-align: right;\n",
              "    }\n",
              "</style>\n",
              "<table border=\"1\" class=\"dataframe\">\n",
              "  <thead>\n",
              "    <tr style=\"text-align: right;\">\n",
              "      <th></th>\n",
              "      <th>article_id</th>\n",
              "      <th>target</th>\n",
              "      <th>text</th>\n",
              "      <th>word</th>\n",
              "      <th>n</th>\n",
              "    </tr>\n",
              "  </thead>\n",
              "  <tbody>\n",
              "  </tbody>\n",
              "</table>\n",
              "</div>"
            ],
            "text/plain": [
              "Empty DataFrame\n",
              "Columns: [article_id, target, text, word, n]\n",
              "Index: []"
            ]
          },
          "metadata": {
            "tags": []
          },
          "execution_count": 53
        }
      ]
    },
    {
      "metadata": {
        "id": "bih-TGgQLPTp",
        "colab_type": "text"
      },
      "cell_type": "markdown",
      "source": [
        "Check the created table."
      ]
    },
    {
      "metadata": {
        "id": "QIzf73kSnunq",
        "colab_type": "code",
        "outputId": "c6d10336-c2e0-4c5e-90c0-774ecfeb0e78",
        "colab": {
          "base_uri": "https://localhost:8080/",
          "height": 204
        }
      },
      "cell_type": "code",
      "source": [
        "td.read_td_query('''\n",
        "select\n",
        "  *\n",
        "from\n",
        "  news20_text_parsed\n",
        "order by\n",
        "  n desc\n",
        "limit 5\n",
        "''', engine=presto)"
      ],
      "execution_count": 58,
      "outputs": [
        {
          "output_type": "execute_result",
          "data": {
            "text/html": [
              "<div>\n",
              "<style scoped>\n",
              "    .dataframe tbody tr th:only-of-type {\n",
              "        vertical-align: middle;\n",
              "    }\n",
              "\n",
              "    .dataframe tbody tr th {\n",
              "        vertical-align: top;\n",
              "    }\n",
              "\n",
              "    .dataframe thead th {\n",
              "        text-align: right;\n",
              "    }\n",
              "</style>\n",
              "<table border=\"1\" class=\"dataframe\">\n",
              "  <thead>\n",
              "    <tr style=\"text-align: right;\">\n",
              "      <th></th>\n",
              "      <th>article_id</th>\n",
              "      <th>target</th>\n",
              "      <th>text</th>\n",
              "      <th>word</th>\n",
              "      <th>n</th>\n",
              "      <th>time</th>\n",
              "    </tr>\n",
              "  </thead>\n",
              "  <tbody>\n",
              "    <tr>\n",
              "      <th>0</th>\n",
              "      <td>12042</td>\n",
              "      <td>comp.os.ms-windows.misc</td>\n",
              "      <td>Subject: roman.bmp 12/14 \\nFrom: pwiseman@salm...</td>\n",
              "      <td>ax</td>\n",
              "      <td>11142</td>\n",
              "      <td>1550577727</td>\n",
              "    </tr>\n",
              "    <tr>\n",
              "      <th>1</th>\n",
              "      <td>7829</td>\n",
              "      <td>comp.os.ms-windows.misc</td>\n",
              "      <td>Subject: roman.bmp 13/14\\nFrom: pwiseman@salmo...</td>\n",
              "      <td>ax</td>\n",
              "      <td>9632</td>\n",
              "      <td>1550577727</td>\n",
              "    </tr>\n",
              "    <tr>\n",
              "      <th>2</th>\n",
              "      <td>5017</td>\n",
              "      <td>comp.os.ms-windows.misc</td>\n",
              "      <td>Subject: roman.bmp 11/14 \\nFrom: pwiseman@salm...</td>\n",
              "      <td>ax</td>\n",
              "      <td>9152</td>\n",
              "      <td>1550577727</td>\n",
              "    </tr>\n",
              "    <tr>\n",
              "      <th>3</th>\n",
              "      <td>8452</td>\n",
              "      <td>comp.os.ms-windows.misc</td>\n",
              "      <td>Subject: roman.bmp 07/14\\nFrom: pwiseman@salmo...</td>\n",
              "      <td>ax</td>\n",
              "      <td>7636</td>\n",
              "      <td>1550577727</td>\n",
              "    </tr>\n",
              "    <tr>\n",
              "      <th>4</th>\n",
              "      <td>9443</td>\n",
              "      <td>comp.os.ms-windows.misc</td>\n",
              "      <td>Subject: roman.bmp 08/14\\nFrom: pwiseman@salmo...</td>\n",
              "      <td>ax</td>\n",
              "      <td>5971</td>\n",
              "      <td>1550577727</td>\n",
              "    </tr>\n",
              "  </tbody>\n",
              "</table>\n",
              "</div>"
            ],
            "text/plain": [
              "   article_id                   target  \\\n",
              "0       12042  comp.os.ms-windows.misc   \n",
              "1        7829  comp.os.ms-windows.misc   \n",
              "2        5017  comp.os.ms-windows.misc   \n",
              "3        8452  comp.os.ms-windows.misc   \n",
              "4        9443  comp.os.ms-windows.misc   \n",
              "\n",
              "                                                text word      n        time  \n",
              "0  Subject: roman.bmp 12/14 \\nFrom: pwiseman@salm...   ax  11142  1550577727  \n",
              "1  Subject: roman.bmp 13/14\\nFrom: pwiseman@salmo...   ax   9632  1550577727  \n",
              "2  Subject: roman.bmp 11/14 \\nFrom: pwiseman@salm...   ax   9152  1550577727  \n",
              "3  Subject: roman.bmp 07/14\\nFrom: pwiseman@salmo...   ax   7636  1550577727  \n",
              "4  Subject: roman.bmp 08/14\\nFrom: pwiseman@salmo...   ax   5971  1550577727  "
            ]
          },
          "metadata": {
            "tags": []
          },
          "execution_count": 58
        }
      ]
    },
    {
      "metadata": {
        "id": "-NKhX6MMnyY6",
        "colab_type": "text"
      },
      "cell_type": "markdown",
      "source": [
        "## Add weight with td-idf\n",
        "You can use `n` as weight of each word, but there is a better way.  \n",
        "TD-IDF is a value representing the importance of word in each texts.  \n",
        "[Wikipedia of tf-idf in English](https://en.wikipedia.org/wiki/Tf%E2%80%93idf)  \n",
        "[Wikipedia of tf-idf in Japanese](https://ja.wikipedia.org/wiki/Tf-idf)\n"
      ]
    },
    {
      "metadata": {
        "id": "GQwGdwWLrXh_",
        "colab_type": "code",
        "colab": {
          "base_uri": "https://localhost:8080/",
          "height": 34
        },
        "outputId": "137a131f-e8a3-4845-aa78-5c72f94b8b67"
      },
      "cell_type": "code",
      "source": [
        "if 'news20_tfidf_added' in [table.name for table in c.tables(database)]:\n",
        "  c.delete_table(database, 'news20_tfidf_added')\n",
        "c.create_log_table(database, 'news20_tfidf_added')"
      ],
      "execution_count": 56,
      "outputs": [
        {
          "output_type": "execute_result",
          "data": {
            "text/plain": [
              "True"
            ]
          },
          "metadata": {
            "tags": []
          },
          "execution_count": 56
        }
      ]
    },
    {
      "metadata": {
        "id": "HOKzFBJX0MyW",
        "colab_type": "text"
      },
      "cell_type": "markdown",
      "source": [
        "This query will take a long time (about 20 min)"
      ]
    },
    {
      "metadata": {
        "id": "VU-tTUgKoRhl",
        "colab_type": "code",
        "outputId": "0da39d72-d20f-4551-864a-9684064de2dc",
        "colab": {
          "base_uri": "https://localhost:8080/",
          "height": 80
        }
      },
      "cell_type": "code",
      "source": [
        "td.read_td_query('''\n",
        "insert into news20_tfidf_added \n",
        "with tf as (\n",
        "  select\n",
        "    article_id\n",
        "    ,word\n",
        "    ,cast(count(*) as double) / sum(count(*)) over(partition by article_id) as tf\n",
        "  from\n",
        "    news20_text_parsed\n",
        "  group by\n",
        "    1,2\n",
        ")\n",
        "\n",
        ",df as (\n",
        "  select\n",
        "    word\n",
        "    ,cast(count(distinct article_id) as double) / (select count(distinct article_id) from news20_text_parsed) as df\n",
        "  from\n",
        "    news20_text_parsed\n",
        "  group by\n",
        "    1\n",
        ")\n",
        "\n",
        "select\n",
        "  t.article_id\n",
        "  ,t.target\n",
        "  ,t.text\n",
        "  ,replace(t.word, ':|#', '') as word -- remove \":\" and \"#\"\n",
        "  ,t.n\n",
        "  ,tf.tf * ln(power(df.df, -1)) as tfidf\n",
        "from\n",
        "  news20_text_parsed t\n",
        "  inner join\n",
        "  tf\n",
        "  on\n",
        "    t.article_id = tf.article_id\n",
        "    and\n",
        "    t.word = tf.word\n",
        "  inner join\n",
        "  df\n",
        "  on\n",
        "    t.word = df.word\n",
        "''', engine=presto)"
      ],
      "execution_count": 57,
      "outputs": [
        {
          "output_type": "execute_result",
          "data": {
            "text/html": [
              "<div>\n",
              "<style scoped>\n",
              "    .dataframe tbody tr th:only-of-type {\n",
              "        vertical-align: middle;\n",
              "    }\n",
              "\n",
              "    .dataframe tbody tr th {\n",
              "        vertical-align: top;\n",
              "    }\n",
              "\n",
              "    .dataframe thead th {\n",
              "        text-align: right;\n",
              "    }\n",
              "</style>\n",
              "<table border=\"1\" class=\"dataframe\">\n",
              "  <thead>\n",
              "    <tr style=\"text-align: right;\">\n",
              "      <th></th>\n",
              "      <th>rows</th>\n",
              "    </tr>\n",
              "  </thead>\n",
              "  <tbody>\n",
              "    <tr>\n",
              "      <th>0</th>\n",
              "      <td>3094185</td>\n",
              "    </tr>\n",
              "  </tbody>\n",
              "</table>\n",
              "</div>"
            ],
            "text/plain": [
              "      rows\n",
              "0  3094185"
            ]
          },
          "metadata": {
            "tags": []
          },
          "execution_count": 57
        }
      ]
    },
    {
      "metadata": {
        "id": "d8fXyCTULVyf",
        "colab_type": "text"
      },
      "cell_type": "markdown",
      "source": [
        "Check the created table."
      ]
    },
    {
      "metadata": {
        "id": "cGmZGRPh4jNX",
        "colab_type": "code",
        "outputId": "28ba880c-f481-4a76-8a34-5496b8060735",
        "colab": {
          "base_uri": "https://localhost:8080/",
          "height": 204
        }
      },
      "cell_type": "code",
      "source": [
        "td.read_td_query('''\n",
        "select\n",
        "  *\n",
        "from\n",
        "  news20_tfidf_added\n",
        "order by\n",
        "  tfidf desc\n",
        "limit 5\n",
        "''', engine=presto)"
      ],
      "execution_count": 59,
      "outputs": [
        {
          "output_type": "execute_result",
          "data": {
            "text/html": [
              "<div>\n",
              "<style scoped>\n",
              "    .dataframe tbody tr th:only-of-type {\n",
              "        vertical-align: middle;\n",
              "    }\n",
              "\n",
              "    .dataframe tbody tr th {\n",
              "        vertical-align: top;\n",
              "    }\n",
              "\n",
              "    .dataframe thead th {\n",
              "        text-align: right;\n",
              "    }\n",
              "</style>\n",
              "<table border=\"1\" class=\"dataframe\">\n",
              "  <thead>\n",
              "    <tr style=\"text-align: right;\">\n",
              "      <th></th>\n",
              "      <th>article_id</th>\n",
              "      <th>target</th>\n",
              "      <th>text</th>\n",
              "      <th>word</th>\n",
              "      <th>n</th>\n",
              "      <th>tfidf</th>\n",
              "      <th>time</th>\n",
              "    </tr>\n",
              "  </thead>\n",
              "  <tbody>\n",
              "    <tr>\n",
              "      <th>0</th>\n",
              "      <td>16653</td>\n",
              "      <td>alt.atheism</td>\n",
              "      <td>From: Edwin Gans\\nSubject: Atheism\\nNntp-Posti...</td>\n",
              "      <td>gans</td>\n",
              "      <td>1</td>\n",
              "      <td>0.656270</td>\n",
              "      <td>1550580634</td>\n",
              "    </tr>\n",
              "    <tr>\n",
              "      <th>1</th>\n",
              "      <td>6426</td>\n",
              "      <td>comp.windows.x</td>\n",
              "      <td>From: skji@eve.kaist.ac.KR (Ji SoonKi)\\nSubjec...</td>\n",
              "      <td>skji@eve</td>\n",
              "      <td>2</td>\n",
              "      <td>0.615253</td>\n",
              "      <td>1550580634</td>\n",
              "    </tr>\n",
              "    <tr>\n",
              "      <th>2</th>\n",
              "      <td>6426</td>\n",
              "      <td>comp.windows.x</td>\n",
              "      <td>From: skji@eve.kaist.ac.KR (Ji SoonKi)\\nSubjec...</td>\n",
              "      <td>soonki</td>\n",
              "      <td>1</td>\n",
              "      <td>0.615253</td>\n",
              "      <td>1550580634</td>\n",
              "    </tr>\n",
              "    <tr>\n",
              "      <th>3</th>\n",
              "      <td>10877</td>\n",
              "      <td>comp.graphics</td>\n",
              "      <td>From: hl7204@eehp22 (H L)\\nSubject: Re: Graphi...</td>\n",
              "      <td>hl7204@eehp22</td>\n",
              "      <td>1</td>\n",
              "      <td>0.579062</td>\n",
              "      <td>1550580634</td>\n",
              "    </tr>\n",
              "    <tr>\n",
              "      <th>4</th>\n",
              "      <td>14924</td>\n",
              "      <td>comp.windows.x</td>\n",
              "      <td>From: gtkurdy@access.digex.net (GodTom)\\nSubje...</td>\n",
              "      <td>tommyvision</td>\n",
              "      <td>1</td>\n",
              "      <td>0.579062</td>\n",
              "      <td>1550580634</td>\n",
              "    </tr>\n",
              "  </tbody>\n",
              "</table>\n",
              "</div>"
            ],
            "text/plain": [
              "   article_id          target  \\\n",
              "0       16653     alt.atheism   \n",
              "1        6426  comp.windows.x   \n",
              "2        6426  comp.windows.x   \n",
              "3       10877   comp.graphics   \n",
              "4       14924  comp.windows.x   \n",
              "\n",
              "                                                text           word  n  \\\n",
              "0  From: Edwin Gans\\nSubject: Atheism\\nNntp-Posti...           gans  1   \n",
              "1  From: skji@eve.kaist.ac.KR (Ji SoonKi)\\nSubjec...       skji@eve  2   \n",
              "2  From: skji@eve.kaist.ac.KR (Ji SoonKi)\\nSubjec...         soonki  1   \n",
              "3  From: hl7204@eehp22 (H L)\\nSubject: Re: Graphi...  hl7204@eehp22  1   \n",
              "4  From: gtkurdy@access.digex.net (GodTom)\\nSubje...    tommyvision  1   \n",
              "\n",
              "      tfidf        time  \n",
              "0  0.656270  1550580634  \n",
              "1  0.615253  1550580634  \n",
              "2  0.615253  1550580634  \n",
              "3  0.579062  1550580634  \n",
              "4  0.579062  1550580634  "
            ]
          },
          "metadata": {
            "tags": []
          },
          "execution_count": 59
        }
      ]
    },
    {
      "metadata": {
        "id": "FWvT90Jgswq3",
        "colab_type": "text"
      },
      "cell_type": "markdown",
      "source": [
        "## Aggregate data and split into training data and test data\n",
        "The data is splitted into training data and test data.  \n",
        "Articles whose article_id's ones place in 7 or 8 or 9 are assigned to test data,  \n",
        "others are assigned to training data.  \n",
        "Machine learning model is created by training data, and it's evaluated by test data.\n",
        "\n",
        "Also, data is aggregated so as to 1 record / 1 article."
      ]
    },
    {
      "metadata": {
        "id": "8OBA58Ul0XXQ",
        "colab_type": "code",
        "colab": {
          "base_uri": "https://localhost:8080/",
          "height": 34
        },
        "outputId": "9e9172f4-9b23-4282-d790-097fa25256e3"
      },
      "cell_type": "code",
      "source": [
        "if 'news20_aggregate' in [table.name for table in c.tables(database)]:\n",
        "  c.delete_table(database, 'news20_aggregate')\n",
        "c.create_log_table(database, 'news20_aggregate')"
      ],
      "execution_count": 60,
      "outputs": [
        {
          "output_type": "execute_result",
          "data": {
            "text/plain": [
              "True"
            ]
          },
          "metadata": {
            "tags": []
          },
          "execution_count": 60
        }
      ]
    },
    {
      "metadata": {
        "id": "TFbT4PgQxT7d",
        "colab_type": "code",
        "colab": {
          "base_uri": "https://localhost:8080/",
          "height": 136
        },
        "outputId": "3f99104e-053c-4021-fa0a-e7ba219267c0"
      },
      "cell_type": "code",
      "source": [
        "td.read_td_query('''\n",
        "insert overwrite table news20_aggregate\n",
        "select\n",
        "  article_id\n",
        "  ,target\n",
        "  ,case when article_id % 10 in (7,8,9) then 'test' else 'train' end as class\n",
        "  ,collect_set(feature(word, tfidf)) as word_with_weight\n",
        "  ,sum(n) as n_word\n",
        "from\n",
        "  news20_tfidf_added\n",
        "group by\n",
        "  1,2\n",
        "''', engine=hive)"
      ],
      "execution_count": 61,
      "outputs": [
        {
          "output_type": "display_data",
          "data": {
            "text/html": [
              "<div style=\"border-style: dashed; border-width: 1px;\">\n",
              "<div style=\"color: #888;\"># issued at 2019-02-19T13:04:21Z</div>URL: <a href=\"https://console.ybi.idcfcloud.net/jobs/57480672\" target=\"_blank\">https://console.ybi.idcfcloud.net/jobs/57480672</a><br>\n",
              "Result size: 20 bytes<br>\n",
              "Download: 20 / 20 bytes (100.00%)<br>\n",
              "<div style=\"color: #888;\"># downloaded at 2019-02-19T13:05:14Z</div></div>\n"
            ],
            "text/plain": [
              "<IPython.core.display.HTML object>"
            ]
          },
          "metadata": {
            "tags": []
          }
        },
        {
          "output_type": "execute_result",
          "data": {
            "text/html": [
              "<div>\n",
              "<style scoped>\n",
              "    .dataframe tbody tr th:only-of-type {\n",
              "        vertical-align: middle;\n",
              "    }\n",
              "\n",
              "    .dataframe tbody tr th {\n",
              "        vertical-align: top;\n",
              "    }\n",
              "\n",
              "    .dataframe thead th {\n",
              "        text-align: right;\n",
              "    }\n",
              "</style>\n",
              "<table border=\"1\" class=\"dataframe\">\n",
              "  <thead>\n",
              "    <tr style=\"text-align: right;\">\n",
              "      <th></th>\n",
              "      <th>article_id</th>\n",
              "      <th>target</th>\n",
              "      <th>class</th>\n",
              "      <th>word_with_weight</th>\n",
              "      <th>n_word</th>\n",
              "    </tr>\n",
              "  </thead>\n",
              "  <tbody>\n",
              "  </tbody>\n",
              "</table>\n",
              "</div>"
            ],
            "text/plain": [
              "Empty DataFrame\n",
              "Columns: [article_id, target, class, word_with_weight, n_word]\n",
              "Index: []"
            ]
          },
          "metadata": {
            "tags": []
          },
          "execution_count": 61
        }
      ]
    },
    {
      "metadata": {
        "id": "AQ-r22QWLk8S",
        "colab_type": "text"
      },
      "cell_type": "markdown",
      "source": [
        "Check the created table."
      ]
    },
    {
      "metadata": {
        "id": "cBSlvMFV4cbX",
        "colab_type": "code",
        "outputId": "7a1585c2-eec0-43b2-9297-4e1b0c0f1db3",
        "colab": {
          "base_uri": "https://localhost:8080/",
          "height": 204
        }
      },
      "cell_type": "code",
      "source": [
        "td.read_td_query('''\n",
        "select\n",
        "  *\n",
        "from\n",
        "  news20_aggregate\n",
        "limit 5\n",
        "''', engine=presto)"
      ],
      "execution_count": 62,
      "outputs": [
        {
          "output_type": "execute_result",
          "data": {
            "text/html": [
              "<div>\n",
              "<style scoped>\n",
              "    .dataframe tbody tr th:only-of-type {\n",
              "        vertical-align: middle;\n",
              "    }\n",
              "\n",
              "    .dataframe tbody tr th {\n",
              "        vertical-align: top;\n",
              "    }\n",
              "\n",
              "    .dataframe thead th {\n",
              "        text-align: right;\n",
              "    }\n",
              "</style>\n",
              "<table border=\"1\" class=\"dataframe\">\n",
              "  <thead>\n",
              "    <tr style=\"text-align: right;\">\n",
              "      <th></th>\n",
              "      <th>article_id</th>\n",
              "      <th>target</th>\n",
              "      <th>class</th>\n",
              "      <th>word_with_weight</th>\n",
              "      <th>n_word</th>\n",
              "      <th>time</th>\n",
              "    </tr>\n",
              "  </thead>\n",
              "  <tbody>\n",
              "    <tr>\n",
              "      <th>0</th>\n",
              "      <td>14</td>\n",
              "      <td>alt.atheism</td>\n",
              "      <td>train</td>\n",
              "      <td>[bucaille:0.10293272570415753, learning:0.0620...</td>\n",
              "      <td>111</td>\n",
              "      <td>1550581462</td>\n",
              "    </tr>\n",
              "    <tr>\n",
              "      <th>1</th>\n",
              "      <td>19</td>\n",
              "      <td>rec.motorcycles</td>\n",
              "      <td>test</td>\n",
              "      <td>[lies:0.02242048701027554, anglia:0.0345954438...</td>\n",
              "      <td>360</td>\n",
              "      <td>1550581462</td>\n",
              "    </tr>\n",
              "    <tr>\n",
              "      <th>2</th>\n",
              "      <td>33</td>\n",
              "      <td>rec.sport.baseball</td>\n",
              "      <td>train</td>\n",
              "      <td>[going:0.022690651426093777, was:0.00930888342...</td>\n",
              "      <td>136</td>\n",
              "      <td>1550581462</td>\n",
              "    </tr>\n",
              "    <tr>\n",
              "      <th>3</th>\n",
              "      <td>43</td>\n",
              "      <td>rec.autos</td>\n",
              "      <td>train</td>\n",
              "      <td>[the:0.0010707027994893944, a:0.00207977309413...</td>\n",
              "      <td>88</td>\n",
              "      <td>1550581462</td>\n",
              "    </tr>\n",
              "    <tr>\n",
              "      <th>4</th>\n",
              "      <td>49</td>\n",
              "      <td>comp.os.ms-windows.misc</td>\n",
              "      <td>test</td>\n",
              "      <td>[want:0.026274898057078548, wl-1:0.11436969522...</td>\n",
              "      <td>107</td>\n",
              "      <td>1550581462</td>\n",
              "    </tr>\n",
              "  </tbody>\n",
              "</table>\n",
              "</div>"
            ],
            "text/plain": [
              "   article_id                   target  class  \\\n",
              "0          14              alt.atheism  train   \n",
              "1          19          rec.motorcycles   test   \n",
              "2          33       rec.sport.baseball  train   \n",
              "3          43                rec.autos  train   \n",
              "4          49  comp.os.ms-windows.misc   test   \n",
              "\n",
              "                                    word_with_weight  n_word        time  \n",
              "0  [bucaille:0.10293272570415753, learning:0.0620...     111  1550581462  \n",
              "1  [lies:0.02242048701027554, anglia:0.0345954438...     360  1550581462  \n",
              "2  [going:0.022690651426093777, was:0.00930888342...     136  1550581462  \n",
              "3  [the:0.0010707027994893944, a:0.00207977309413...      88  1550581462  \n",
              "4  [want:0.026274898057078548, wl-1:0.11436969522...     107  1550581462  "
            ]
          },
          "metadata": {
            "tags": []
          },
          "execution_count": 62
        }
      ]
    },
    {
      "metadata": {
        "id": "ead3qFUr4OFh",
        "colab_type": "text"
      },
      "cell_type": "markdown",
      "source": [
        "## Convert data into Hivemall input format"
      ]
    },
    {
      "metadata": {
        "id": "PMRByP5Y33Wt",
        "colab_type": "code",
        "colab": {
          "base_uri": "https://localhost:8080/",
          "height": 34
        },
        "outputId": "2ff264dd-119c-4dcf-ac10-1934a0d0a9a4"
      },
      "cell_type": "code",
      "source": [
        "if 'news20_train_data' in [table.name for table in c.tables(database)]:\n",
        "  c.delete_table(database, 'news20_train_data')\n",
        "c.create_log_table(database, 'news20_train_data')"
      ],
      "execution_count": 63,
      "outputs": [
        {
          "output_type": "execute_result",
          "data": {
            "text/plain": [
              "True"
            ]
          },
          "metadata": {
            "tags": []
          },
          "execution_count": 63
        }
      ]
    },
    {
      "metadata": {
        "id": "FEgVckxa19OZ",
        "colab_type": "code",
        "colab": {
          "base_uri": "https://localhost:8080/",
          "height": 136
        },
        "outputId": "bb860732-9498-4d35-ed34-871dc6f785a5"
      },
      "cell_type": "code",
      "source": [
        "td.read_td_query('''\n",
        "insert overwrite table news20_train_data\n",
        "select\n",
        "  article_id\n",
        "  ,target\n",
        "  ,(dense_rank() over(order by target)) - 1 as target_id\n",
        "  ,class\n",
        "  ,word_with_weight\n",
        "  ,n_word\n",
        "  ,array_concat(feature_hashing(word_with_weight, '-features 1000'), array(feature(1001, n_word))) as sparse_features \n",
        "  ,to_dense_features(array_concat(feature_hashing(word_with_weight, '-features 1000'), array(feature(1001, n_word))), 1001) as dense_features \n",
        "from\n",
        "  news20_aggregate\n",
        "''', engine=hive)"
      ],
      "execution_count": 64,
      "outputs": [
        {
          "output_type": "display_data",
          "data": {
            "text/html": [
              "<div style=\"border-style: dashed; border-width: 1px;\">\n",
              "<div style=\"color: #888;\"># issued at 2019-02-19T13:05:20Z</div>URL: <a href=\"https://console.ybi.idcfcloud.net/jobs/57480787\" target=\"_blank\">https://console.ybi.idcfcloud.net/jobs/57480787</a><br>\n",
              "Result size: 20 bytes<br>\n",
              "Download: 20 / 20 bytes (100.00%)<br>\n",
              "<div style=\"color: #888;\"># downloaded at 2019-02-19T13:07:08Z</div></div>\n"
            ],
            "text/plain": [
              "<IPython.core.display.HTML object>"
            ]
          },
          "metadata": {
            "tags": []
          }
        },
        {
          "output_type": "execute_result",
          "data": {
            "text/html": [
              "<div>\n",
              "<style scoped>\n",
              "    .dataframe tbody tr th:only-of-type {\n",
              "        vertical-align: middle;\n",
              "    }\n",
              "\n",
              "    .dataframe tbody tr th {\n",
              "        vertical-align: top;\n",
              "    }\n",
              "\n",
              "    .dataframe thead th {\n",
              "        text-align: right;\n",
              "    }\n",
              "</style>\n",
              "<table border=\"1\" class=\"dataframe\">\n",
              "  <thead>\n",
              "    <tr style=\"text-align: right;\">\n",
              "      <th></th>\n",
              "      <th>article_id</th>\n",
              "      <th>target</th>\n",
              "      <th>target_id</th>\n",
              "      <th>class</th>\n",
              "      <th>word_with_weight</th>\n",
              "      <th>n_word</th>\n",
              "      <th>sparse_features</th>\n",
              "      <th>dense_features</th>\n",
              "    </tr>\n",
              "  </thead>\n",
              "  <tbody>\n",
              "  </tbody>\n",
              "</table>\n",
              "</div>"
            ],
            "text/plain": [
              "Empty DataFrame\n",
              "Columns: [article_id, target, target_id, class, word_with_weight, n_word, sparse_features, dense_features]\n",
              "Index: []"
            ]
          },
          "metadata": {
            "tags": []
          },
          "execution_count": 64
        }
      ]
    },
    {
      "metadata": {
        "id": "cub4QVV-LnFv",
        "colab_type": "text"
      },
      "cell_type": "markdown",
      "source": [
        "Check the created table."
      ]
    },
    {
      "metadata": {
        "id": "WxMWDwxE38C9",
        "colab_type": "code",
        "outputId": "33772052-7bb9-43c2-b272-5556a7526057",
        "colab": {
          "base_uri": "https://localhost:8080/",
          "height": 289
        }
      },
      "cell_type": "code",
      "source": [
        "td.read_td_query('''\n",
        "select\n",
        "  *\n",
        "from\n",
        "  news20_train_data\n",
        "limit 5\n",
        "''', engine=presto)"
      ],
      "execution_count": 65,
      "outputs": [
        {
          "output_type": "execute_result",
          "data": {
            "text/html": [
              "<div>\n",
              "<style scoped>\n",
              "    .dataframe tbody tr th:only-of-type {\n",
              "        vertical-align: middle;\n",
              "    }\n",
              "\n",
              "    .dataframe tbody tr th {\n",
              "        vertical-align: top;\n",
              "    }\n",
              "\n",
              "    .dataframe thead th {\n",
              "        text-align: right;\n",
              "    }\n",
              "</style>\n",
              "<table border=\"1\" class=\"dataframe\">\n",
              "  <thead>\n",
              "    <tr style=\"text-align: right;\">\n",
              "      <th></th>\n",
              "      <th>article_id</th>\n",
              "      <th>target</th>\n",
              "      <th>target_id</th>\n",
              "      <th>class</th>\n",
              "      <th>word_with_weight</th>\n",
              "      <th>n_word</th>\n",
              "      <th>sparse_features</th>\n",
              "      <th>dense_features</th>\n",
              "      <th>time</th>\n",
              "    </tr>\n",
              "  </thead>\n",
              "  <tbody>\n",
              "    <tr>\n",
              "      <th>0</th>\n",
              "      <td>1527</td>\n",
              "      <td>alt.atheism</td>\n",
              "      <td>0</td>\n",
              "      <td>test</td>\n",
              "      <td>[beauchaine:0.083381754050489, or:0.0095842626...</td>\n",
              "      <td>118</td>\n",
              "      <td>[730:0.083381754050489, 713:0.0095842626845462...</td>\n",
              "      <td>[None, None, None, None, None, None, None, Non...</td>\n",
              "      <td>1550581521</td>\n",
              "    </tr>\n",
              "    <tr>\n",
              "      <th>1</th>\n",
              "      <td>6806</td>\n",
              "      <td>alt.atheism</td>\n",
              "      <td>0</td>\n",
              "      <td>train</td>\n",
              "      <td>[other:0.006673753937417544, this:0.0025036640...</td>\n",
              "      <td>406</td>\n",
              "      <td>[114:0.006673753937417544, 428:0.0025036640735...</td>\n",
              "      <td>[None, None, None, None, 0.012906160205602646,...</td>\n",
              "      <td>1550581521</td>\n",
              "    </tr>\n",
              "    <tr>\n",
              "      <th>2</th>\n",
              "      <td>11735</td>\n",
              "      <td>alt.atheism</td>\n",
              "      <td>0</td>\n",
              "      <td>train</td>\n",
              "      <td>[wear:0.031180229798653078, 32:0.0214561990577...</td>\n",
              "      <td>251</td>\n",
              "      <td>[665:0.031180229798653078, 889:0.0214561990577...</td>\n",
              "      <td>[None, None, None, 0.046873562037944794, 0.031...</td>\n",
              "      <td>1550581521</td>\n",
              "    </tr>\n",
              "    <tr>\n",
              "      <th>3</th>\n",
              "      <td>5886</td>\n",
              "      <td>alt.atheism</td>\n",
              "      <td>0</td>\n",
              "      <td>train</td>\n",
              "      <td>[number:0.00542633075134351, personalities:0.0...</td>\n",
              "      <td>1155</td>\n",
              "      <td>[896:0.00542633075134351, 35:0.015513056016661...</td>\n",
              "      <td>[None, None, None, None, 0.01072043739259243, ...</td>\n",
              "      <td>1550581521</td>\n",
              "    </tr>\n",
              "    <tr>\n",
              "      <th>4</th>\n",
              "      <td>12660</td>\n",
              "      <td>alt.atheism</td>\n",
              "      <td>0</td>\n",
              "      <td>train</td>\n",
              "      <td>[jws:0.07739330690352736, one:0.00868773455973...</td>\n",
              "      <td>179</td>\n",
              "      <td>[637:0.07739330690352736, 34:0.008687734559737...</td>\n",
              "      <td>[None, None, None, None, None, None, None, Non...</td>\n",
              "      <td>1550581521</td>\n",
              "    </tr>\n",
              "  </tbody>\n",
              "</table>\n",
              "</div>"
            ],
            "text/plain": [
              "   article_id       target  target_id  class  \\\n",
              "0        1527  alt.atheism          0   test   \n",
              "1        6806  alt.atheism          0  train   \n",
              "2       11735  alt.atheism          0  train   \n",
              "3        5886  alt.atheism          0  train   \n",
              "4       12660  alt.atheism          0  train   \n",
              "\n",
              "                                    word_with_weight  n_word  \\\n",
              "0  [beauchaine:0.083381754050489, or:0.0095842626...     118   \n",
              "1  [other:0.006673753937417544, this:0.0025036640...     406   \n",
              "2  [wear:0.031180229798653078, 32:0.0214561990577...     251   \n",
              "3  [number:0.00542633075134351, personalities:0.0...    1155   \n",
              "4  [jws:0.07739330690352736, one:0.00868773455973...     179   \n",
              "\n",
              "                                     sparse_features  \\\n",
              "0  [730:0.083381754050489, 713:0.0095842626845462...   \n",
              "1  [114:0.006673753937417544, 428:0.0025036640735...   \n",
              "2  [665:0.031180229798653078, 889:0.0214561990577...   \n",
              "3  [896:0.00542633075134351, 35:0.015513056016661...   \n",
              "4  [637:0.07739330690352736, 34:0.008687734559737...   \n",
              "\n",
              "                                      dense_features        time  \n",
              "0  [None, None, None, None, None, None, None, Non...  1550581521  \n",
              "1  [None, None, None, None, 0.012906160205602646,...  1550581521  \n",
              "2  [None, None, None, 0.046873562037944794, 0.031...  1550581521  \n",
              "3  [None, None, None, None, 0.01072043739259243, ...  1550581521  \n",
              "4  [None, None, None, None, None, None, None, Non...  1550581521  "
            ]
          },
          "metadata": {
            "tags": []
          },
          "execution_count": 65
        }
      ]
    },
    {
      "metadata": {
        "id": "SA_WxCAL5Cv6",
        "colab_type": "text"
      },
      "cell_type": "markdown",
      "source": [
        "## Build a model with Random Forest Classifier\n",
        "[wikipdia of RandomForest in English](https://en.wikipedia.org/wiki/Random_forest)  \n",
        "[wikipdia of RandomForest in Japanese](https://ja.wikipedia.org/wiki/%E3%83%A9%E3%83%B3%E3%83%80%E3%83%A0%E3%83%95%E3%82%A9%E3%83%AC%E3%82%B9%E3%83%88)"
      ]
    },
    {
      "metadata": {
        "id": "419DOVgY6QwE",
        "colab_type": "code",
        "colab": {
          "base_uri": "https://localhost:8080/",
          "height": 34
        },
        "outputId": "cba8c380-169e-4ab7-dbee-38b1cb696e2b"
      },
      "cell_type": "code",
      "source": [
        "if 'news20_randomforest_model' in [table.name for table in c.tables(database)]:\n",
        "  c.delete_table(database, 'news20_randomforest_model')\n",
        "c.create_log_table(database, 'news20_randomforest_model')"
      ],
      "execution_count": 66,
      "outputs": [
        {
          "output_type": "execute_result",
          "data": {
            "text/plain": [
              "True"
            ]
          },
          "metadata": {
            "tags": []
          },
          "execution_count": 66
        }
      ]
    },
    {
      "metadata": {
        "id": "oJCqzEpJ41k8",
        "colab_type": "code",
        "colab": {
          "base_uri": "https://localhost:8080/",
          "height": 136
        },
        "outputId": "54e5d44a-146e-40db-8eca-adcdf9944752"
      },
      "cell_type": "code",
      "source": [
        "td.read_td_query('''\n",
        "insert overwrite table news20_randomforest_model\n",
        "select\n",
        "  train_randomforest_classifier(dense_features, target_id, '-trees 50')\n",
        "  -- train_randomforest_classifier(dense_features, target_id, '-trees 50 -splits 10 -leafs 1 -depth 1000')\n",
        "from\n",
        "  news20_train_data\n",
        "where\n",
        "  class = 'train'\n",
        "''', engine=hive)"
      ],
      "execution_count": 67,
      "outputs": [
        {
          "output_type": "display_data",
          "data": {
            "text/html": [
              "<div style=\"border-style: dashed; border-width: 1px;\">\n",
              "<div style=\"color: #888;\"># issued at 2019-02-19T13:07:16Z</div>URL: <a href=\"https://console.ybi.idcfcloud.net/jobs/57481010\" target=\"_blank\">https://console.ybi.idcfcloud.net/jobs/57481010</a><br>\n",
              "Result size: 20 bytes<br>\n",
              "Download: 20 / 20 bytes (100.00%)<br>\n",
              "<div style=\"color: #888;\"># downloaded at 2019-02-19T13:13:07Z</div></div>\n"
            ],
            "text/plain": [
              "<IPython.core.display.HTML object>"
            ]
          },
          "metadata": {
            "tags": []
          }
        },
        {
          "output_type": "execute_result",
          "data": {
            "text/html": [
              "<div>\n",
              "<style scoped>\n",
              "    .dataframe tbody tr th:only-of-type {\n",
              "        vertical-align: middle;\n",
              "    }\n",
              "\n",
              "    .dataframe tbody tr th {\n",
              "        vertical-align: top;\n",
              "    }\n",
              "\n",
              "    .dataframe thead th {\n",
              "        text-align: right;\n",
              "    }\n",
              "</style>\n",
              "<table border=\"1\" class=\"dataframe\">\n",
              "  <thead>\n",
              "    <tr style=\"text-align: right;\">\n",
              "      <th></th>\n",
              "      <th>model_id</th>\n",
              "      <th>model_weight</th>\n",
              "      <th>model</th>\n",
              "      <th>var_importance</th>\n",
              "      <th>oob_errors</th>\n",
              "      <th>oob_tests</th>\n",
              "    </tr>\n",
              "  </thead>\n",
              "  <tbody>\n",
              "  </tbody>\n",
              "</table>\n",
              "</div>"
            ],
            "text/plain": [
              "Empty DataFrame\n",
              "Columns: [model_id, model_weight, model, var_importance, oob_errors, oob_tests]\n",
              "Index: []"
            ]
          },
          "metadata": {
            "tags": []
          },
          "execution_count": 67
        }
      ]
    },
    {
      "metadata": {
        "id": "swPG69eqLqra",
        "colab_type": "text"
      },
      "cell_type": "markdown",
      "source": [
        "Check the created table."
      ]
    },
    {
      "metadata": {
        "id": "IL7m5nD65wfN",
        "colab_type": "code",
        "outputId": "1c791a96-df8e-4c04-e5ea-f8b482002783",
        "colab": {
          "base_uri": "https://localhost:8080/",
          "height": 289
        }
      },
      "cell_type": "code",
      "source": [
        "td.read_td_query('''\n",
        "select\n",
        "  *\n",
        "from\n",
        "  news20_randomforest_model\n",
        "limit 5\n",
        "''', engine=presto)"
      ],
      "execution_count": 68,
      "outputs": [
        {
          "output_type": "execute_result",
          "data": {
            "text/html": [
              "<div>\n",
              "<style scoped>\n",
              "    .dataframe tbody tr th:only-of-type {\n",
              "        vertical-align: middle;\n",
              "    }\n",
              "\n",
              "    .dataframe tbody tr th {\n",
              "        vertical-align: top;\n",
              "    }\n",
              "\n",
              "    .dataframe thead th {\n",
              "        text-align: right;\n",
              "    }\n",
              "</style>\n",
              "<table border=\"1\" class=\"dataframe\">\n",
              "  <thead>\n",
              "    <tr style=\"text-align: right;\">\n",
              "      <th></th>\n",
              "      <th>model_id</th>\n",
              "      <th>model_weight</th>\n",
              "      <th>model</th>\n",
              "      <th>var_importance</th>\n",
              "      <th>oob_errors</th>\n",
              "      <th>oob_tests</th>\n",
              "      <th>time</th>\n",
              "    </tr>\n",
              "  </thead>\n",
              "  <tbody>\n",
              "    <tr>\n",
              "      <th>0</th>\n",
              "      <td>509c4801-0734-48ce-bcc2-74f9f127f105</td>\n",
              "      <td>0.178484</td>\n",
              "      <td>I?brQFBV8&gt;`}VD0cwDJ]AX%wNH*E-0uBETuSrifGbL2Way...</td>\n",
              "      <td>[0.0, 1.2751702070976305, 1.8544814575334791, ...</td>\n",
              "      <td>0</td>\n",
              "      <td>0</td>\n",
              "      <td>1550581637</td>\n",
              "    </tr>\n",
              "    <tr>\n",
              "      <th>1</th>\n",
              "      <td>91883361-1acd-47db-a6d5-14a9e6c47b8a</td>\n",
              "      <td>0.185193</td>\n",
              "      <td>I?brQF_Z4&gt;pW^%gY:OY!I9Y!m,HI-sJGncLbcYRQ8D#5=:...</td>\n",
              "      <td>[0.0, 0.45620748299319736, 0.8768844020653278,...</td>\n",
              "      <td>0</td>\n",
              "      <td>0</td>\n",
              "      <td>1550581637</td>\n",
              "    </tr>\n",
              "    <tr>\n",
              "      <th>2</th>\n",
              "      <td>5268562e-4546-4c16-b1f9-2fc8694f6bca</td>\n",
              "      <td>0.190731</td>\n",
              "      <td>I?brQF&lt;ZO5gr&gt;%RPzd&gt;H&lt;w:CHB,t)#]XvD{h~4:HIYfGIU...</td>\n",
              "      <td>[0.0, 1.1651868405764512, 0.7777366738042187, ...</td>\n",
              "      <td>0</td>\n",
              "      <td>0</td>\n",
              "      <td>1550581637</td>\n",
              "    </tr>\n",
              "    <tr>\n",
              "      <th>3</th>\n",
              "      <td>347b079a-b0ad-47bb-948a-700b09795c3c</td>\n",
              "      <td>0.170641</td>\n",
              "      <td>I?brQFBV8&gt;`}Ww}9n0D}7SAi|L084U{e_Bad}hMvaM,&amp;g....</td>\n",
              "      <td>[0.0, 0.9369826188038632, 1.6050533499450266, ...</td>\n",
              "      <td>0</td>\n",
              "      <td>0</td>\n",
              "      <td>1550581637</td>\n",
              "    </tr>\n",
              "    <tr>\n",
              "      <th>4</th>\n",
              "      <td>45dbf60f-ca18-40e5-821b-068e25e727c5</td>\n",
              "      <td>0.183361</td>\n",
              "      <td>I?brQF_Z7i*s&gt;%YA2H8F#P!4KK{Lv7bOeEXD5(0YFX6o9z...</td>\n",
              "      <td>[0.0, 0.5841854934601661, 1.3136619972835502, ...</td>\n",
              "      <td>0</td>\n",
              "      <td>0</td>\n",
              "      <td>1550581637</td>\n",
              "    </tr>\n",
              "  </tbody>\n",
              "</table>\n",
              "</div>"
            ],
            "text/plain": [
              "                               model_id  model_weight  \\\n",
              "0  509c4801-0734-48ce-bcc2-74f9f127f105      0.178484   \n",
              "1  91883361-1acd-47db-a6d5-14a9e6c47b8a      0.185193   \n",
              "2  5268562e-4546-4c16-b1f9-2fc8694f6bca      0.190731   \n",
              "3  347b079a-b0ad-47bb-948a-700b09795c3c      0.170641   \n",
              "4  45dbf60f-ca18-40e5-821b-068e25e727c5      0.183361   \n",
              "\n",
              "                                               model  \\\n",
              "0  I?brQFBV8>`}VD0cwDJ]AX%wNH*E-0uBETuSrifGbL2Way...   \n",
              "1  I?brQF_Z4>pW^%gY:OY!I9Y!m,HI-sJGncLbcYRQ8D#5=:...   \n",
              "2  I?brQF<ZO5gr>%RPzd>H<w:CHB,t)#]XvD{h~4:HIYfGIU...   \n",
              "3  I?brQFBV8>`}Ww}9n0D}7SAi|L084U{e_Bad}hMvaM,&g....   \n",
              "4  I?brQF_Z7i*s>%YA2H8F#P!4KK{Lv7bOeEXD5(0YFX6o9z...   \n",
              "\n",
              "                                      var_importance  oob_errors  oob_tests  \\\n",
              "0  [0.0, 1.2751702070976305, 1.8544814575334791, ...           0          0   \n",
              "1  [0.0, 0.45620748299319736, 0.8768844020653278,...           0          0   \n",
              "2  [0.0, 1.1651868405764512, 0.7777366738042187, ...           0          0   \n",
              "3  [0.0, 0.9369826188038632, 1.6050533499450266, ...           0          0   \n",
              "4  [0.0, 0.5841854934601661, 1.3136619972835502, ...           0          0   \n",
              "\n",
              "         time  \n",
              "0  1550581637  \n",
              "1  1550581637  \n",
              "2  1550581637  \n",
              "3  1550581637  \n",
              "4  1550581637  "
            ]
          },
          "metadata": {
            "tags": []
          },
          "execution_count": 68
        }
      ]
    },
    {
      "metadata": {
        "id": "fvX-NcZd6-6u",
        "colab_type": "text"
      },
      "cell_type": "markdown",
      "source": [
        "## Predict"
      ]
    },
    {
      "metadata": {
        "id": "6WtqbZRrFIDA",
        "colab_type": "code",
        "colab": {
          "base_uri": "https://localhost:8080/",
          "height": 34
        },
        "outputId": "5a56a59f-fe60-4bb2-a1e7-8e42285de434"
      },
      "cell_type": "code",
      "source": [
        "if 'news20_randomforest_predicted' in [table.name for table in c.tables(database)]:\n",
        "  c.delete_table(database, 'news20_randomforest_predicted')\n",
        "c.create_log_table(database, 'news20_randomforest_predicted')"
      ],
      "execution_count": 69,
      "outputs": [
        {
          "output_type": "execute_result",
          "data": {
            "text/plain": [
              "True"
            ]
          },
          "metadata": {
            "tags": []
          },
          "execution_count": 69
        }
      ]
    },
    {
      "metadata": {
        "id": "VlvTXzK-Dusr",
        "colab_type": "code",
        "colab": {
          "base_uri": "https://localhost:8080/",
          "height": 136
        },
        "outputId": "3204bf2e-ba0c-475d-c08a-e274075b28f0"
      },
      "cell_type": "code",
      "source": [
        "td.read_td_query('''\n",
        "insert overwrite table news20_randomforest_predicted\n",
        "SELECT\n",
        "  article_id,\n",
        "  class,\n",
        "  target_id,\n",
        "  rf_ensemble(predicted.value, predicted.posteriori, model_weight).label as predicted\n",
        "FROM (\n",
        "  SELECT\n",
        "    t.article_id,\n",
        "    class,\n",
        "    target_id,\n",
        "    p.model_weight,\n",
        "    tree_predict(p.model_id, p.model, t.dense_features, \"-classification\") as predicted\n",
        "  FROM (\n",
        "    SELECT \n",
        "      model_id, model_weight, model\n",
        "    FROM news20_randomforest_model\n",
        "    DISTRIBUTE BY rand(1)\n",
        "  ) p\n",
        "  LEFT OUTER JOIN news20_train_data t\n",
        ") t1\n",
        "group by\n",
        "  1,2,3\n",
        "''', engine=hive)"
      ],
      "execution_count": 70,
      "outputs": [
        {
          "output_type": "display_data",
          "data": {
            "text/html": [
              "<div style=\"border-style: dashed; border-width: 1px;\">\n",
              "<div style=\"color: #888;\"># issued at 2019-02-19T13:13:15Z</div>URL: <a href=\"https://console.ybi.idcfcloud.net/jobs/57481493\" target=\"_blank\">https://console.ybi.idcfcloud.net/jobs/57481493</a><br>\n",
              "Result size: 20 bytes<br>\n",
              "Download: 20 / 20 bytes (100.00%)<br>\n",
              "<div style=\"color: #888;\"># downloaded at 2019-02-19T13:14:58Z</div></div>\n"
            ],
            "text/plain": [
              "<IPython.core.display.HTML object>"
            ]
          },
          "metadata": {
            "tags": []
          }
        },
        {
          "output_type": "execute_result",
          "data": {
            "text/html": [
              "<div>\n",
              "<style scoped>\n",
              "    .dataframe tbody tr th:only-of-type {\n",
              "        vertical-align: middle;\n",
              "    }\n",
              "\n",
              "    .dataframe tbody tr th {\n",
              "        vertical-align: top;\n",
              "    }\n",
              "\n",
              "    .dataframe thead th {\n",
              "        text-align: right;\n",
              "    }\n",
              "</style>\n",
              "<table border=\"1\" class=\"dataframe\">\n",
              "  <thead>\n",
              "    <tr style=\"text-align: right;\">\n",
              "      <th></th>\n",
              "      <th>article_id</th>\n",
              "      <th>class</th>\n",
              "      <th>target_id</th>\n",
              "      <th>predicted</th>\n",
              "    </tr>\n",
              "  </thead>\n",
              "  <tbody>\n",
              "  </tbody>\n",
              "</table>\n",
              "</div>"
            ],
            "text/plain": [
              "Empty DataFrame\n",
              "Columns: [article_id, class, target_id, predicted]\n",
              "Index: []"
            ]
          },
          "metadata": {
            "tags": []
          },
          "execution_count": 70
        }
      ]
    },
    {
      "metadata": {
        "id": "PiFhxffpta0O",
        "colab_type": "text"
      },
      "cell_type": "markdown",
      "source": [
        "Check the created table."
      ]
    },
    {
      "metadata": {
        "id": "BIw0n5uyF88U",
        "colab_type": "code",
        "outputId": "454c7c5a-9c83-480a-970d-6d49e647e338",
        "colab": {
          "base_uri": "https://localhost:8080/",
          "height": 204
        }
      },
      "cell_type": "code",
      "source": [
        "td.read_td_query('''\n",
        "select\n",
        "  *\n",
        "from\n",
        "  news20_randomforest_predicted\n",
        "limit 5\n",
        "''', engine=presto)"
      ],
      "execution_count": 71,
      "outputs": [
        {
          "output_type": "execute_result",
          "data": {
            "text/html": [
              "<div>\n",
              "<style scoped>\n",
              "    .dataframe tbody tr th:only-of-type {\n",
              "        vertical-align: middle;\n",
              "    }\n",
              "\n",
              "    .dataframe tbody tr th {\n",
              "        vertical-align: top;\n",
              "    }\n",
              "\n",
              "    .dataframe thead th {\n",
              "        text-align: right;\n",
              "    }\n",
              "</style>\n",
              "<table border=\"1\" class=\"dataframe\">\n",
              "  <thead>\n",
              "    <tr style=\"text-align: right;\">\n",
              "      <th></th>\n",
              "      <th>article_id</th>\n",
              "      <th>class</th>\n",
              "      <th>target_id</th>\n",
              "      <th>predicted</th>\n",
              "      <th>time</th>\n",
              "    </tr>\n",
              "  </thead>\n",
              "  <tbody>\n",
              "    <tr>\n",
              "      <th>0</th>\n",
              "      <td>0</td>\n",
              "      <td>train</td>\n",
              "      <td>10</td>\n",
              "      <td>10</td>\n",
              "      <td>1550581995</td>\n",
              "    </tr>\n",
              "    <tr>\n",
              "      <th>1</th>\n",
              "      <td>1</td>\n",
              "      <td>train</td>\n",
              "      <td>3</td>\n",
              "      <td>3</td>\n",
              "      <td>1550581995</td>\n",
              "    </tr>\n",
              "    <tr>\n",
              "      <th>2</th>\n",
              "      <td>2</td>\n",
              "      <td>train</td>\n",
              "      <td>17</td>\n",
              "      <td>17</td>\n",
              "      <td>1550581995</td>\n",
              "    </tr>\n",
              "    <tr>\n",
              "      <th>3</th>\n",
              "      <td>3</td>\n",
              "      <td>train</td>\n",
              "      <td>3</td>\n",
              "      <td>3</td>\n",
              "      <td>1550581995</td>\n",
              "    </tr>\n",
              "    <tr>\n",
              "      <th>4</th>\n",
              "      <td>4</td>\n",
              "      <td>train</td>\n",
              "      <td>4</td>\n",
              "      <td>4</td>\n",
              "      <td>1550581995</td>\n",
              "    </tr>\n",
              "  </tbody>\n",
              "</table>\n",
              "</div>"
            ],
            "text/plain": [
              "   article_id  class  target_id  predicted        time\n",
              "0           0  train         10         10  1550581995\n",
              "1           1  train          3          3  1550581995\n",
              "2           2  train         17         17  1550581995\n",
              "3           3  train          3          3  1550581995\n",
              "4           4  train          4          4  1550581995"
            ]
          },
          "metadata": {
            "tags": []
          },
          "execution_count": 71
        }
      ]
    },
    {
      "metadata": {
        "id": "TiIZuLfkEc1w",
        "colab_type": "text"
      },
      "cell_type": "markdown",
      "source": [
        "## Evaluate"
      ]
    },
    {
      "metadata": {
        "id": "z4mkh0DDIzd3",
        "colab_type": "text"
      },
      "cell_type": "markdown",
      "source": [
        "### Train"
      ]
    },
    {
      "metadata": {
        "id": "vm9JrL7oGFAf",
        "colab_type": "code",
        "outputId": "25a24106-8455-4432-ee28-0bd10361c233",
        "colab": {
          "base_uri": "https://localhost:8080/",
          "height": 405
        }
      },
      "cell_type": "code",
      "source": [
        "result = td.read_td_query('''\n",
        "  select\n",
        "    class\n",
        "    ,target_id\n",
        "    ,predicted\n",
        "    ,count(*) as n\n",
        "  from\n",
        "    news20_randomforest_predicted\n",
        "  where\n",
        "    class = 'train'\n",
        "  group by\n",
        "    1,2,3\n",
        "''', engine=presto).pivot(index='target_id', columns='predicted', values='n').fillna(0)\n",
        "\n",
        "# Calculate the accuracy\n",
        "n_correct = np.trace(result)\n",
        "n_total = result.sum().sum()\n",
        "print('Accuracy : {:.2%} (= {:,} / {:,})'.format(n_correct / n_total, n_correct, n_total))\n",
        "\n",
        "# Picture\n",
        "fig, ax = plt.subplots(figsize=(15,6))\n",
        "sns.heatmap(result, annot=True, ax=ax)\n",
        "plt.show()"
      ],
      "execution_count": 72,
      "outputs": [
        {
          "output_type": "stream",
          "text": [
            "Accuracy : 99.91% (= 13,182.0 / 13,194.0)\n"
          ],
          "name": "stdout"
        },
        {
          "output_type": "display_data",
          "data": {
            "image/png": "[encoded data removed]",
            "text/plain": [
              "<Figure size 1080x432 with 2 Axes>"
            ]
          },
          "metadata": {
            "tags": []
          }
        }
      ]
    },
    {
      "metadata": {
        "id": "pNy4P7MrI1c3",
        "colab_type": "text"
      },
      "cell_type": "markdown",
      "source": [
        "### Test"
      ]
    },
    {
      "metadata": {
        "id": "LlXGmL2QGazI",
        "colab_type": "code",
        "outputId": "8860106e-8dfa-4a7b-ea1a-4c39e75256f3",
        "colab": {
          "base_uri": "https://localhost:8080/",
          "height": 405
        }
      },
      "cell_type": "code",
      "source": [
        "result = td.read_td_query('''\n",
        "  select\n",
        "    class\n",
        "    ,target_id\n",
        "    ,predicted\n",
        "    ,count(*) as n\n",
        "  from\n",
        "    news20_randomforest_predicted\n",
        "  where\n",
        "    class = 'test'\n",
        "  group by\n",
        "    1,2,3\n",
        "''', engine=presto).pivot(index='target_id', columns='predicted', values='n').fillna(0)\n",
        "\n",
        "# Calculate the accuracy\n",
        "n_correct = np.trace(result)\n",
        "n_total = result.sum().sum()\n",
        "print('Accuracy : {:.2%} (= {:,} / {:,})'.format(n_correct / n_total, n_correct, n_total))\n",
        "\n",
        "# Picture\n",
        "fig, ax = plt.subplots(figsize=(15,6))\n",
        "sns.heatmap(result, annot=True, ax=ax)\n",
        "plt.show()"
      ],
      "execution_count": 73,
      "outputs": [
        {
          "output_type": "stream",
          "text": [
            "Accuracy : 50.74% (= 2,868.0 / 5,652.0)\n"
          ],
          "name": "stdout"
        },
        {
          "output_type": "display_data",
          "data": {
            "image/png": "[encoded data removed]",
            "text/plain": [
              "<Figure size 1080x432 with 2 Axes>"
            ]
          },
          "metadata": {
            "tags": []
          }
        }
      ]
    },
    {
      "metadata": {
        "id": "NdPCGlbZY6tS",
        "colab_type": "text"
      },
      "cell_type": "markdown",
      "source": [
        "## Check the variable importance\n",
        "The bigger the value is, the better it is."
      ]
    },
    {
      "metadata": {
        "id": "vOibSBJoM4wr",
        "colab_type": "code",
        "outputId": "c5569b6b-91e1-47ab-a848-27b08b1ae792",
        "colab": {
          "base_uri": "https://localhost:8080/",
          "height": 204
        }
      },
      "cell_type": "code",
      "source": [
        "td.read_td_query('''\n",
        "select\n",
        "  n as index\n",
        "  ,subarray(importances, n-1, n)[0] as importance\n",
        "from (\n",
        "  select\n",
        "    array_sum(var_importance) as importances\n",
        "  from \n",
        "    news20_randomforest_model\n",
        "  ) t\n",
        "lateral view\n",
        "  generate_series(1,1001) t as n\n",
        "limit 5\n",
        "''', engine=hive)"
      ],
      "execution_count": 74,
      "outputs": [
        {
          "output_type": "execute_result",
          "data": {
            "text/html": [
              "<div>\n",
              "<style scoped>\n",
              "    .dataframe tbody tr th:only-of-type {\n",
              "        vertical-align: middle;\n",
              "    }\n",
              "\n",
              "    .dataframe tbody tr th {\n",
              "        vertical-align: top;\n",
              "    }\n",
              "\n",
              "    .dataframe thead th {\n",
              "        text-align: right;\n",
              "    }\n",
              "</style>\n",
              "<table border=\"1\" class=\"dataframe\">\n",
              "  <thead>\n",
              "    <tr style=\"text-align: right;\">\n",
              "      <th></th>\n",
              "      <th>index</th>\n",
              "      <th>importance</th>\n",
              "    </tr>\n",
              "  </thead>\n",
              "  <tbody>\n",
              "    <tr>\n",
              "      <th>0</th>\n",
              "      <td>1</td>\n",
              "      <td>0.000000</td>\n",
              "    </tr>\n",
              "    <tr>\n",
              "      <th>1</th>\n",
              "      <td>2</td>\n",
              "      <td>46.674397</td>\n",
              "    </tr>\n",
              "    <tr>\n",
              "      <th>2</th>\n",
              "      <td>3</td>\n",
              "      <td>69.507558</td>\n",
              "    </tr>\n",
              "    <tr>\n",
              "      <th>3</th>\n",
              "      <td>4</td>\n",
              "      <td>179.077336</td>\n",
              "    </tr>\n",
              "    <tr>\n",
              "      <th>4</th>\n",
              "      <td>5</td>\n",
              "      <td>48.092973</td>\n",
              "    </tr>\n",
              "  </tbody>\n",
              "</table>\n",
              "</div>"
            ],
            "text/plain": [
              "   index  importance\n",
              "0      1    0.000000\n",
              "1      2   46.674397\n",
              "2      3   69.507558\n",
              "3      4  179.077336\n",
              "4      5   48.092973"
            ]
          },
          "metadata": {
            "tags": []
          },
          "execution_count": 74
        }
      ]
    }
  ]
}