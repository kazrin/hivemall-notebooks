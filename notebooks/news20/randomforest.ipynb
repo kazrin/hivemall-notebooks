{
  "nbformat": 4,
  "nbformat_minor": 0,
  "metadata": {
    "colab": {
      "name": "hivemall101_with_news20.ipynb",
      "version": "0.3.2",
      "provenance": [],
      "collapsed_sections": [],
      "include_colab_link": true
    },
    "kernelspec": {
      "name": "python3",
      "display_name": "Python 3"
    }
  },
  "cells": [
    {
      "cell_type": "markdown",
      "metadata": {
        "id": "view-in-github",
        "colab_type": "text"
      },
      "source": [
        "<a href=\"https://colab.research.google.com/github/td-yoshimura/hivemall-notebooks/blob/master/notebooks/news20/randomforest.ipynb\" target=\"_parent\"><img src=\"https://colab.research.google.com/assets/colab-badge.svg\" alt=\"Open In Colab\"/></a>"
      ]
    },
    {
      "metadata": {
        "id": "H5ZxIYLiAOx_",
        "colab_type": "text"
      },
      "cell_type": "markdown",
      "source": [
        "# Summary\n",
        "By this notebook, you can upload 20news datasets into your Treasure Data account briefly.  \n",
        "All you have to do is to specify some parameters below and to create the database beforehand."
      ]
    },
    {
      "metadata": {
        "id": "huiddEnjF5Ta",
        "colab_type": "code",
        "colab": {}
      },
      "cell_type": "code",
      "source": [
        "%env TD_API_KEY = YOUR_TD_API_KEY\n",
        "%env DATABASE = YOUR_DATABASE_NAME"
      ],
      "execution_count": 0,
      "outputs": []
    },
    {
      "metadata": {
        "id": "-DQLU0rKB8j2",
        "colab_type": "text"
      },
      "cell_type": "markdown",
      "source": [
        "In addition, this notebook shows how to run a machine learning task with 20news dataset."
      ]
    },
    {
      "metadata": {
        "id": "X7ryfJU1g0os",
        "colab_type": "text"
      },
      "cell_type": "markdown",
      "source": [
        "# SetUp"
      ]
    },
    {
      "metadata": {
        "id": "H3UftPxmhH-D",
        "colab_type": "text"
      },
      "cell_type": "markdown",
      "source": [
        "<font color=\"red\"><b>You will be asked to input UserName and Password of Treasure Data. Please fill them.</b></font>"
      ]
    },
    {
      "metadata": {
        "id": "nr-uNr8Fa9yk",
        "colab_type": "code",
        "colab": {}
      },
      "cell_type": "code",
      "source": [
        "!curl -L https://toolbelt.treasuredata.com/sh/install-ubuntu-trusty-td-agent2.sh | sh\n",
        "!pip install pandas-td\n",
        "!mkdir trees\n",
        "!td account -f"
      ],
      "execution_count": 0,
      "outputs": []
    },
    {
      "metadata": {
        "id": "JR4pLLbjM9fN",
        "colab_type": "text"
      },
      "cell_type": "markdown",
      "source": [
        "# Data Preparation"
      ]
    },
    {
      "metadata": {
        "id": "EdXGlZnFAoRl",
        "colab_type": "text"
      },
      "cell_type": "markdown",
      "source": [
        "## Fetch data\n",
        "It's done by using scikit-learn."
      ]
    },
    {
      "metadata": {
        "id": "fcKxk8l6HbSu",
        "colab_type": "code",
        "colab": {}
      },
      "cell_type": "code",
      "source": [
        "import os\n",
        "td_api_key = os.environ['TD_API_KEY']\n",
        "database = os.environ['DATABASE']\n",
        "table = 'news20'\n",
        "\n",
        "import numpy as np\n",
        "import pandas as pd\n",
        "from sklearn.datasets import fetch_20newsgroups\n",
        "import seaborn as sns\n",
        "\n",
        "import pandas_td as td\n",
        "con = td.connect(apikey=td_api_key)"
      ],
      "execution_count": 0,
      "outputs": []
    },
    {
      "metadata": {
        "id": "wZjlEf8gbBcR",
        "colab_type": "code",
        "colab": {}
      },
      "cell_type": "code",
      "source": [
        "data = fetch_20newsgroups(subset='all')\n",
        "targets = [data['target_names'][idx] for idx in data['target']]\n",
        "df = pd.DataFrame({'target':targets, 'text':data['data']})\n",
        "df['article_id'] = df.index"
      ],
      "execution_count": 0,
      "outputs": []
    },
    {
      "metadata": {
        "id": "ctTVorkf_k_m",
        "colab_type": "text"
      },
      "cell_type": "markdown",
      "source": [
        "## Create a table on Treasure Data"
      ]
    },
    {
      "metadata": {
        "id": "nlzqn1h0Od7a",
        "colab_type": "code",
        "colab": {}
      },
      "cell_type": "code",
      "source": [
        "td.to_td(df, '{}.{}'.format(database, table), con, if_exists='replace', index=False)"
      ],
      "execution_count": 0,
      "outputs": []
    },
    {
      "metadata": {
        "id": "Z_SWvBS3CBx8",
        "colab_type": "text"
      },
      "cell_type": "markdown",
      "source": [
        "# EDA (Explore data analysis)\n",
        "Before running machine learning tasks, you should understand your data correctly.  \n",
        "Descriptive statistics and visualization are important for this."
      ]
    },
    {
      "metadata": {
        "id": "eDKVem0_CDZt",
        "colab_type": "code",
        "colab": {}
      },
      "cell_type": "code",
      "source": [
        "%matplotlib inline\n",
        "%load_ext pandas_td.ipython\n",
        "%td_use $database\n",
        "\n",
        "import pandas as pd\n",
        "import matplotlib.pyplot as plt\n",
        "\n",
        "presto = td.create_engine('presto:{}'.format(database), con=con)\n",
        "hive = td.create_engine('hive:{}'.format(database), con=con)"
      ],
      "execution_count": 0,
      "outputs": []
    },
    {
      "metadata": {
        "id": "653K_81wDfpD",
        "colab_type": "text"
      },
      "cell_type": "markdown",
      "source": [
        "## Data Sample"
      ]
    },
    {
      "metadata": {
        "id": "P-xqiuTNDhLG",
        "colab_type": "code",
        "outputId": "b28c9bed-bae2-426a-a832-bb12b2e5cbec",
        "colab": {
          "base_uri": "https://localhost:8080/",
          "height": 235
        }
      },
      "cell_type": "code",
      "source": [
        "%%td_presto\n",
        "select\n",
        "  *\n",
        "from\n",
        "    news20\n",
        "limit 5"
      ],
      "execution_count": 0,
      "outputs": [
        {
          "output_type": "execute_result",
          "data": {
            "text/html": [
              "<div>\n",
              "<style scoped>\n",
              "    .dataframe tbody tr th:only-of-type {\n",
              "        vertical-align: middle;\n",
              "    }\n",
              "\n",
              "    .dataframe tbody tr th {\n",
              "        vertical-align: top;\n",
              "    }\n",
              "\n",
              "    .dataframe thead th {\n",
              "        text-align: right;\n",
              "    }\n",
              "</style>\n",
              "<table border=\"1\" class=\"dataframe\">\n",
              "  <thead>\n",
              "    <tr style=\"text-align: right;\">\n",
              "      <th></th>\n",
              "      <th>article_id</th>\n",
              "      <th>text</th>\n",
              "      <th>target</th>\n",
              "    </tr>\n",
              "    <tr>\n",
              "      <th>time</th>\n",
              "      <th></th>\n",
              "      <th></th>\n",
              "      <th></th>\n",
              "    </tr>\n",
              "  </thead>\n",
              "  <tbody>\n",
              "    <tr>\n",
              "      <th>2018-12-26 06:06:21</th>\n",
              "      <td>10000</td>\n",
              "      <td>From: bhaskar@orion.me.uiuc.edu (Bhaskar Manda...</td>\n",
              "      <td>rec.autos</td>\n",
              "    </tr>\n",
              "    <tr>\n",
              "      <th>2018-12-26 06:06:21</th>\n",
              "      <td>10001</td>\n",
              "      <td>From: Eric.Choi@p5.f175.n2240.z1.fidonet.org (...</td>\n",
              "      <td>comp.sys.mac.hardware</td>\n",
              "    </tr>\n",
              "    <tr>\n",
              "      <th>2018-12-26 06:06:21</th>\n",
              "      <td>10002</td>\n",
              "      <td>From: henry@zoo.toronto.edu (Henry Spencer)\\nS...</td>\n",
              "      <td>sci.electronics</td>\n",
              "    </tr>\n",
              "    <tr>\n",
              "      <th>2018-12-26 06:06:21</th>\n",
              "      <td>10003</td>\n",
              "      <td>From: whitsebd@nextwork.rose-hulman.edu (Bryan...</td>\n",
              "      <td>soc.religion.christian</td>\n",
              "    </tr>\n",
              "    <tr>\n",
              "      <th>2018-12-26 06:06:21</th>\n",
              "      <td>10004</td>\n",
              "      <td>From: mjones@watson.ibm.com (Mike Jones)\\nSubj...</td>\n",
              "      <td>rec.sport.baseball</td>\n",
              "    </tr>\n",
              "  </tbody>\n",
              "</table>\n",
              "</div>"
            ],
            "text/plain": [
              "                     article_id  \\\n",
              "time                              \n",
              "2018-12-26 06:06:21       10000   \n",
              "2018-12-26 06:06:21       10001   \n",
              "2018-12-26 06:06:21       10002   \n",
              "2018-12-26 06:06:21       10003   \n",
              "2018-12-26 06:06:21       10004   \n",
              "\n",
              "                                                                  text  \\\n",
              "time                                                                     \n",
              "2018-12-26 06:06:21  From: bhaskar@orion.me.uiuc.edu (Bhaskar Manda...   \n",
              "2018-12-26 06:06:21  From: Eric.Choi@p5.f175.n2240.z1.fidonet.org (...   \n",
              "2018-12-26 06:06:21  From: henry@zoo.toronto.edu (Henry Spencer)\\nS...   \n",
              "2018-12-26 06:06:21  From: whitsebd@nextwork.rose-hulman.edu (Bryan...   \n",
              "2018-12-26 06:06:21  From: mjones@watson.ibm.com (Mike Jones)\\nSubj...   \n",
              "\n",
              "                                     target  \n",
              "time                                         \n",
              "2018-12-26 06:06:21               rec.autos  \n",
              "2018-12-26 06:06:21   comp.sys.mac.hardware  \n",
              "2018-12-26 06:06:21         sci.electronics  \n",
              "2018-12-26 06:06:21  soc.religion.christian  \n",
              "2018-12-26 06:06:21      rec.sport.baseball  "
            ]
          },
          "metadata": {
            "tags": []
          },
          "execution_count": 86
        }
      ]
    },
    {
      "metadata": {
        "id": "sp4EWkATEIUH",
        "colab_type": "text"
      },
      "cell_type": "markdown",
      "source": [
        "## Data size"
      ]
    },
    {
      "metadata": {
        "id": "k2TxtnIEEMDj",
        "colab_type": "code",
        "outputId": "211a6ca6-572b-46e9-d571-00e8baf0a4ea",
        "colab": {
          "base_uri": "https://localhost:8080/",
          "height": 80
        }
      },
      "cell_type": "code",
      "source": [
        "%%td_presto\n",
        "select \n",
        "  count(*) as n_article\n",
        "  ,count(distinct target) as n_class \n",
        "from \n",
        "  news20"
      ],
      "execution_count": 0,
      "outputs": [
        {
          "output_type": "execute_result",
          "data": {
            "text/html": [
              "<div>\n",
              "<style scoped>\n",
              "    .dataframe tbody tr th:only-of-type {\n",
              "        vertical-align: middle;\n",
              "    }\n",
              "\n",
              "    .dataframe tbody tr th {\n",
              "        vertical-align: top;\n",
              "    }\n",
              "\n",
              "    .dataframe thead th {\n",
              "        text-align: right;\n",
              "    }\n",
              "</style>\n",
              "<table border=\"1\" class=\"dataframe\">\n",
              "  <thead>\n",
              "    <tr style=\"text-align: right;\">\n",
              "      <th></th>\n",
              "      <th>n_article</th>\n",
              "      <th>n_class</th>\n",
              "    </tr>\n",
              "  </thead>\n",
              "  <tbody>\n",
              "    <tr>\n",
              "      <th>0</th>\n",
              "      <td>18846</td>\n",
              "      <td>20</td>\n",
              "    </tr>\n",
              "  </tbody>\n",
              "</table>\n",
              "</div>"
            ],
            "text/plain": [
              "   n_article  n_class\n",
              "0      18846       20"
            ]
          },
          "metadata": {
            "tags": []
          },
          "execution_count": 87
        }
      ]
    },
    {
      "metadata": {
        "id": "kJeiH5iyCtMY",
        "colab_type": "text"
      },
      "cell_type": "markdown",
      "source": [
        "## Target"
      ]
    },
    {
      "metadata": {
        "id": "Gr9b6YWwCq7w",
        "colab_type": "code",
        "outputId": "6944548b-2c3a-4178-a037-7ed4185638bf",
        "colab": {
          "base_uri": "https://localhost:8080/",
          "height": 405
        }
      },
      "cell_type": "code",
      "source": [
        "td.read_td_query('''\n",
        "  select\n",
        "    target\n",
        "    ,count(*) as n\n",
        "  from\n",
        "    news20\n",
        "  group by\n",
        "    1\n",
        "  order by\n",
        "    target\n",
        "'''.format(table=table), engine=presto, index_col='target')['n'].plot.bar()"
      ],
      "execution_count": 0,
      "outputs": [
        {
          "output_type": "execute_result",
          "data": {
            "text/plain": [
              "<matplotlib.axes._subplots.AxesSubplot at 0x7f3d36690860>"
            ]
          },
          "metadata": {
            "tags": []
          },
          "execution_count": 131
        },
        {
          "output_type": "display_data",
          "data": {
            "image/png": "[encoded data removed]",
            "text/plain": [
              "<matplotlib.figure.Figure at 0x7f3d3f853b00>"
            ]
          },
          "metadata": {
            "tags": []
          }
        }
      ]
    },
    {
      "metadata": {
        "id": "nglY9KEqE_8Z",
        "colab_type": "text"
      },
      "cell_type": "markdown",
      "source": [
        "## The number of word for each article"
      ]
    },
    {
      "metadata": {
        "id": "RkRe5SSoFGAy",
        "colab_type": "text"
      },
      "cell_type": "markdown",
      "source": [
        "### Preprocess\n",
        "`tokenize` function splits a text into words.  \n",
        "https://hivemall.incubator.apache.org/userguide/misc/tokenizer.html"
      ]
    },
    {
      "metadata": {
        "id": "TaxWXPA0KPlh",
        "colab_type": "code",
        "outputId": "db84e07e-39ac-4044-fa65-3e75a0b9d0d9",
        "colab": {
          "base_uri": "https://localhost:8080/",
          "height": 204
        }
      },
      "cell_type": "code",
      "source": [
        "%%td_hive\n",
        "select\n",
        "  target\n",
        "  ,text\n",
        "  ,tokenize(text, true) as tokenized\n",
        "  ,size(tokenize(text, true)) as n_word\n",
        "from\n",
        "  news20\n",
        "limit 5"
      ],
      "execution_count": 0,
      "outputs": [
        {
          "output_type": "execute_result",
          "data": {
            "text/html": [
              "<div>\n",
              "<style scoped>\n",
              "    .dataframe tbody tr th:only-of-type {\n",
              "        vertical-align: middle;\n",
              "    }\n",
              "\n",
              "    .dataframe tbody tr th {\n",
              "        vertical-align: top;\n",
              "    }\n",
              "\n",
              "    .dataframe thead th {\n",
              "        text-align: right;\n",
              "    }\n",
              "</style>\n",
              "<table border=\"1\" class=\"dataframe\">\n",
              "  <thead>\n",
              "    <tr style=\"text-align: right;\">\n",
              "      <th></th>\n",
              "      <th>target</th>\n",
              "      <th>text</th>\n",
              "      <th>tokenized</th>\n",
              "      <th>n_word</th>\n",
              "    </tr>\n",
              "  </thead>\n",
              "  <tbody>\n",
              "    <tr>\n",
              "      <th>0</th>\n",
              "      <td>rec.autos</td>\n",
              "      <td>From: bhaskar@orion.me.uiuc.edu (Bhaskar Manda...</td>\n",
              "      <td>[from, bhaskar@orion, me, uiuc, edu, bhaskar, ...</td>\n",
              "      <td>260</td>\n",
              "    </tr>\n",
              "    <tr>\n",
              "      <th>1</th>\n",
              "      <td>comp.sys.mac.hardware</td>\n",
              "      <td>From: Eric.Choi@p5.f175.n2240.z1.fidonet.org (...</td>\n",
              "      <td>[from, eric, choi@p5, f175, n2240, z1, fidonet...</td>\n",
              "      <td>93</td>\n",
              "    </tr>\n",
              "    <tr>\n",
              "      <th>2</th>\n",
              "      <td>sci.electronics</td>\n",
              "      <td>From: henry@zoo.toronto.edu (Henry Spencer)\\nS...</td>\n",
              "      <td>[from, henry@zoo, toronto, edu, henry, spencer...</td>\n",
              "      <td>178</td>\n",
              "    </tr>\n",
              "    <tr>\n",
              "      <th>3</th>\n",
              "      <td>soc.religion.christian</td>\n",
              "      <td>From: whitsebd@nextwork.rose-hulman.edu (Bryan...</td>\n",
              "      <td>[from, whitsebd@nextwork, rose-hulman, edu, br...</td>\n",
              "      <td>95</td>\n",
              "    </tr>\n",
              "    <tr>\n",
              "      <th>4</th>\n",
              "      <td>rec.sport.baseball</td>\n",
              "      <td>From: mjones@watson.ibm.com (Mike Jones)\\nSubj...</td>\n",
              "      <td>[from, mjones@watson, ibm, com, mike, jones, s...</td>\n",
              "      <td>640</td>\n",
              "    </tr>\n",
              "  </tbody>\n",
              "</table>\n",
              "</div>"
            ],
            "text/plain": [
              "                   target                                               text                                          tokenized  n_word\n",
              "0               rec.autos  From: bhaskar@orion.me.uiuc.edu (Bhaskar Manda...  [from, bhaskar@orion, me, uiuc, edu, bhaskar, ...     260\n",
              "1   comp.sys.mac.hardware  From: Eric.Choi@p5.f175.n2240.z1.fidonet.org (...  [from, eric, choi@p5, f175, n2240, z1, fidonet...      93\n",
              "2         sci.electronics  From: henry@zoo.toronto.edu (Henry Spencer)\\nS...  [from, henry@zoo, toronto, edu, henry, spencer...     178\n",
              "3  soc.religion.christian  From: whitsebd@nextwork.rose-hulman.edu (Bryan...  [from, whitsebd@nextwork, rose-hulman, edu, br...      95\n",
              "4      rec.sport.baseball  From: mjones@watson.ibm.com (Mike Jones)\\nSubj...  [from, mjones@watson, ibm, com, mike, jones, s...     640"
            ]
          },
          "metadata": {
            "tags": []
          },
          "execution_count": 96
        }
      ]
    },
    {
      "metadata": {
        "id": "IAl2fNlSTp8A",
        "colab_type": "text"
      },
      "cell_type": "markdown",
      "source": [
        "### View data"
      ]
    },
    {
      "metadata": {
        "id": "m8_DlKJ0Lc8N",
        "colab_type": "code",
        "outputId": "cbc2bcc3-cf41-463e-ae27-32fad2019ce3",
        "colab": {
          "base_uri": "https://localhost:8080/",
          "height": 297
        }
      },
      "cell_type": "code",
      "source": [
        "td.read_td_query('''\n",
        "  select\n",
        "    size(tokenize(text, true)) as n_word\n",
        "  from\n",
        "    news20\n",
        "''', engine=hive).describe()"
      ],
      "execution_count": 0,
      "outputs": [
        {
          "output_type": "execute_result",
          "data": {
            "text/html": [
              "<div>\n",
              "<style scoped>\n",
              "    .dataframe tbody tr th:only-of-type {\n",
              "        vertical-align: middle;\n",
              "    }\n",
              "\n",
              "    .dataframe tbody tr th {\n",
              "        vertical-align: top;\n",
              "    }\n",
              "\n",
              "    .dataframe thead th {\n",
              "        text-align: right;\n",
              "    }\n",
              "</style>\n",
              "<table border=\"1\" class=\"dataframe\">\n",
              "  <thead>\n",
              "    <tr style=\"text-align: right;\">\n",
              "      <th></th>\n",
              "      <th>n_word</th>\n",
              "    </tr>\n",
              "  </thead>\n",
              "  <tbody>\n",
              "    <tr>\n",
              "      <th>count</th>\n",
              "      <td>18846.000000</td>\n",
              "    </tr>\n",
              "    <tr>\n",
              "      <th>mean</th>\n",
              "      <td>310.510665</td>\n",
              "    </tr>\n",
              "    <tr>\n",
              "      <th>std</th>\n",
              "      <td>690.912549</td>\n",
              "    </tr>\n",
              "    <tr>\n",
              "      <th>min</th>\n",
              "      <td>15.000000</td>\n",
              "    </tr>\n",
              "    <tr>\n",
              "      <th>25%</th>\n",
              "      <td>117.000000</td>\n",
              "    </tr>\n",
              "    <tr>\n",
              "      <th>50%</th>\n",
              "      <td>187.000000</td>\n",
              "    </tr>\n",
              "    <tr>\n",
              "      <th>75%</th>\n",
              "      <td>307.000000</td>\n",
              "    </tr>\n",
              "    <tr>\n",
              "      <th>max</th>\n",
              "      <td>31621.000000</td>\n",
              "    </tr>\n",
              "  </tbody>\n",
              "</table>\n",
              "</div>"
            ],
            "text/plain": [
              "             n_word\n",
              "count  18846.000000\n",
              "mean     310.510665\n",
              "std      690.912549\n",
              "min       15.000000\n",
              "25%      117.000000\n",
              "50%      187.000000\n",
              "75%      307.000000\n",
              "max    31621.000000"
            ]
          },
          "metadata": {
            "tags": []
          },
          "execution_count": 118
        }
      ]
    },
    {
      "metadata": {
        "id": "-NzGjoULL5Hi",
        "colab_type": "code",
        "outputId": "f290738f-b4c2-44a0-9980-c25ced620772",
        "colab": {
          "base_uri": "https://localhost:8080/",
          "height": 314
        }
      },
      "cell_type": "code",
      "source": [
        "td.read_td_query('''\n",
        "  select\n",
        "    size(tokenize(text, true)) as n_word\n",
        "  from\n",
        "    news20\n",
        "''', engine=hive).hist(range=(0,500), bins=50)"
      ],
      "execution_count": 0,
      "outputs": [
        {
          "output_type": "execute_result",
          "data": {
            "text/plain": [
              "array([[<matplotlib.axes._subplots.AxesSubplot object at 0x7f3d3fe2f6a0>]],\n",
              "      dtype=object)"
            ]
          },
          "metadata": {
            "tags": []
          },
          "execution_count": 106
        },
        {
          "output_type": "display_data",
          "data": {
            "image/png": "[encoded data removed]",
            "text/plain": [
              "<matplotlib.figure.Figure at 0x7f3d3fe773c8>"
            ]
          },
          "metadata": {
            "tags": []
          }
        }
      ]
    },
    {
      "metadata": {
        "id": "uHx7bcsnL8k8",
        "colab_type": "code",
        "colab": {}
      },
      "cell_type": "code",
      "source": [
        "data = td.read_td_query('''\n",
        "  select\n",
        "    target\n",
        "    ,avg(size(tokenize(text, true))) as average\n",
        "    ,variance(size(tokenize(text, true))) as variance\n",
        "  from\n",
        "    news20\n",
        "  group by\n",
        "    1\n",
        "  order by\n",
        "    1\n",
        "''', engine=hive, index_col='target')"
      ],
      "execution_count": 0,
      "outputs": []
    },
    {
      "metadata": {
        "id": "TRA5ud7bOfUw",
        "colab_type": "code",
        "outputId": "d2eb92b4-a547-499b-f2a0-4aaa843610cb",
        "colab": {
          "base_uri": "https://localhost:8080/",
          "height": 405
        }
      },
      "cell_type": "code",
      "source": [
        "data['average'].plot.bar()"
      ],
      "execution_count": 0,
      "outputs": [
        {
          "output_type": "execute_result",
          "data": {
            "text/plain": [
              "<matplotlib.axes._subplots.AxesSubplot at 0x7f3d3f9486a0>"
            ]
          },
          "metadata": {
            "tags": []
          },
          "execution_count": 116
        },
        {
          "output_type": "display_data",
          "data": {
            "image/png": "[encoded data removed]",
            "text/plain": [
              "<matplotlib.figure.Figure at 0x7f3d400fd7f0>"
            ]
          },
          "metadata": {
            "tags": []
          }
        }
      ]
    },
    {
      "metadata": {
        "id": "IdtJODMyaleN",
        "colab_type": "text"
      },
      "cell_type": "markdown",
      "source": [
        "# Run machine learning task"
      ]
    },
    {
      "metadata": {
        "id": "_ansLQKXgO1k",
        "colab_type": "text"
      },
      "cell_type": "markdown",
      "source": [
        "## Tokenize text"
      ]
    },
    {
      "metadata": {
        "id": "SA8l4sncckSQ",
        "colab_type": "code",
        "colab": {}
      },
      "cell_type": "code",
      "source": [
        "!td table:delete $DATABASE news20_text_parsed\n",
        "!td table:create $DATABASE news20_text_parsed"
      ],
      "execution_count": 0,
      "outputs": []
    },
    {
      "metadata": {
        "id": "bPKlEyR60D8l",
        "colab_type": "text"
      },
      "cell_type": "markdown",
      "source": [
        "This query will take a long time (about 20 min)"
      ]
    },
    {
      "metadata": {
        "id": "0UJSu09ic7MA",
        "colab_type": "code",
        "colab": {}
      },
      "cell_type": "code",
      "source": [
        "%%td_hive\n",
        "insert overwrite table news20_text_parsed\n",
        "select\n",
        "  article_id\n",
        "  ,target\n",
        "  ,text\n",
        "  ,word\n",
        "  ,count(*) as n\n",
        "from\n",
        "  news20  \n",
        "lateral view\n",
        "  explode(tokenize(text, true)) t as word\n",
        "group by\n",
        "  1,2,3,4"
      ],
      "execution_count": 0,
      "outputs": []
    },
    {
      "metadata": {
        "id": "bih-TGgQLPTp",
        "colab_type": "text"
      },
      "cell_type": "markdown",
      "source": [
        "The table created is below."
      ]
    },
    {
      "metadata": {
        "id": "QIzf73kSnunq",
        "colab_type": "code",
        "outputId": "ea8674d6-23d7-4e09-f781-ca92f009c74b",
        "colab": {
          "base_uri": "https://localhost:8080/",
          "height": 235
        }
      },
      "cell_type": "code",
      "source": [
        "%%td_presto\n",
        "select\n",
        "  *\n",
        "from\n",
        "  news20_preprocessed\n",
        "limit 5"
      ],
      "execution_count": 0,
      "outputs": [
        {
          "output_type": "execute_result",
          "data": {
            "text/html": [
              "<div>\n",
              "<style scoped>\n",
              "    .dataframe tbody tr th:only-of-type {\n",
              "        vertical-align: middle;\n",
              "    }\n",
              "\n",
              "    .dataframe tbody tr th {\n",
              "        vertical-align: top;\n",
              "    }\n",
              "\n",
              "    .dataframe thead th {\n",
              "        text-align: right;\n",
              "    }\n",
              "</style>\n",
              "<table border=\"1\" class=\"dataframe\">\n",
              "  <thead>\n",
              "    <tr style=\"text-align: right;\">\n",
              "      <th></th>\n",
              "      <th>article_id</th>\n",
              "      <th>target</th>\n",
              "      <th>text</th>\n",
              "      <th>word</th>\n",
              "      <th>n</th>\n",
              "    </tr>\n",
              "    <tr>\n",
              "      <th>time</th>\n",
              "      <th></th>\n",
              "      <th></th>\n",
              "      <th></th>\n",
              "      <th></th>\n",
              "      <th></th>\n",
              "    </tr>\n",
              "  </thead>\n",
              "  <tbody>\n",
              "    <tr>\n",
              "      <th>2018-12-26 07:53:09</th>\n",
              "      <td>18321</td>\n",
              "      <td>comp.os.ms-windows.misc</td>\n",
              "      <td>From: mitchell@nodecg.ncc.telecomwa.oz.au (Cli...</td>\n",
              "      <td>v-</td>\n",
              "      <td>2</td>\n",
              "    </tr>\n",
              "    <tr>\n",
              "      <th>2018-12-26 07:53:09</th>\n",
              "      <td>18321</td>\n",
              "      <td>comp.os.ms-windows.misc</td>\n",
              "      <td>From: mitchell@nodecg.ncc.telecomwa.oz.au (Cli...</td>\n",
              "      <td>v-/8</td>\n",
              "      <td>1</td>\n",
              "    </tr>\n",
              "    <tr>\n",
              "      <th>2018-12-26 07:53:09</th>\n",
              "      <td>18321</td>\n",
              "      <td>comp.os.ms-windows.misc</td>\n",
              "      <td>From: mitchell@nodecg.ncc.telecomwa.oz.au (Cli...</td>\n",
              "      <td>v/</td>\n",
              "      <td>1</td>\n",
              "    </tr>\n",
              "    <tr>\n",
              "      <th>2018-12-26 07:53:09</th>\n",
              "      <td>18321</td>\n",
              "      <td>comp.os.ms-windows.misc</td>\n",
              "      <td>From: mitchell@nodecg.ncc.telecomwa.oz.au (Cli...</td>\n",
              "      <td>v/i</td>\n",
              "      <td>1</td>\n",
              "    </tr>\n",
              "    <tr>\n",
              "      <th>2018-12-26 07:53:09</th>\n",
              "      <td>18321</td>\n",
              "      <td>comp.os.ms-windows.misc</td>\n",
              "      <td>From: mitchell@nodecg.ncc.telecomwa.oz.au (Cli...</td>\n",
              "      <td>v0</td>\n",
              "      <td>1</td>\n",
              "    </tr>\n",
              "  </tbody>\n",
              "</table>\n",
              "</div>"
            ],
            "text/plain": [
              "                     article_id                   target  \\\n",
              "time                                                       \n",
              "2018-12-26 07:53:09       18321  comp.os.ms-windows.misc   \n",
              "2018-12-26 07:53:09       18321  comp.os.ms-windows.misc   \n",
              "2018-12-26 07:53:09       18321  comp.os.ms-windows.misc   \n",
              "2018-12-26 07:53:09       18321  comp.os.ms-windows.misc   \n",
              "2018-12-26 07:53:09       18321  comp.os.ms-windows.misc   \n",
              "\n",
              "                                                                  text  word  \\\n",
              "time                                                                           \n",
              "2018-12-26 07:53:09  From: mitchell@nodecg.ncc.telecomwa.oz.au (Cli...    v-   \n",
              "2018-12-26 07:53:09  From: mitchell@nodecg.ncc.telecomwa.oz.au (Cli...  v-/8   \n",
              "2018-12-26 07:53:09  From: mitchell@nodecg.ncc.telecomwa.oz.au (Cli...    v/   \n",
              "2018-12-26 07:53:09  From: mitchell@nodecg.ncc.telecomwa.oz.au (Cli...   v/i   \n",
              "2018-12-26 07:53:09  From: mitchell@nodecg.ncc.telecomwa.oz.au (Cli...    v0   \n",
              "\n",
              "                     n  \n",
              "time                    \n",
              "2018-12-26 07:53:09  2  \n",
              "2018-12-26 07:53:09  1  \n",
              "2018-12-26 07:53:09  1  \n",
              "2018-12-26 07:53:09  1  \n",
              "2018-12-26 07:53:09  1  "
            ]
          },
          "metadata": {
            "tags": []
          },
          "execution_count": 143
        }
      ]
    },
    {
      "metadata": {
        "id": "-NKhX6MMnyY6",
        "colab_type": "text"
      },
      "cell_type": "markdown",
      "source": [
        "## Add weight with td-idf\n",
        "You can use `n` as weight of each word, but there is a better way.  \n",
        "TD-IDF is a value representing the importance of word in each texts.  \n",
        "[Wikipedia of tf-idf in English](https://en.wikipedia.org/wiki/Tf%E2%80%93idf)  \n",
        "[Wikipedia of tf-idf in Japanese](https://ja.wikipedia.org/wiki/Tf-idf)\n"
      ]
    },
    {
      "metadata": {
        "id": "GQwGdwWLrXh_",
        "colab_type": "code",
        "colab": {}
      },
      "cell_type": "code",
      "source": [
        "!td table:delete -f $DATABASE news20_tfidf_added\n",
        "!td table:create $DATABASE news20_tfidf_added"
      ],
      "execution_count": 0,
      "outputs": []
    },
    {
      "metadata": {
        "id": "HOKzFBJX0MyW",
        "colab_type": "text"
      },
      "cell_type": "markdown",
      "source": [
        "This query will take a long time (about 20 min)"
      ]
    },
    {
      "metadata": {
        "id": "VU-tTUgKoRhl",
        "colab_type": "code",
        "outputId": "b46c510b-a73e-435f-f6c4-b3c1c01e7afd",
        "colab": {
          "base_uri": "https://localhost:8080/",
          "height": 80
        }
      },
      "cell_type": "code",
      "source": [
        "%%td_presto\n",
        "insert into news20_tfidf_added \n",
        "with tf as (\n",
        "  select\n",
        "    article_id\n",
        "    ,word\n",
        "    ,cast(count(*) as double) / sum(count(*)) over(partition by article_id) as tf\n",
        "  from\n",
        "    news20_text_parsed\n",
        "  group by\n",
        "    1,2\n",
        ")\n",
        "\n",
        ",df as (\n",
        "  select\n",
        "    word\n",
        "    ,cast(count(distinct article_id) as double) / (select count(distinct article_id) from news20_text_parsed) as df\n",
        "  from\n",
        "    news20_text_parsed\n",
        "  group by\n",
        "    1\n",
        ")\n",
        "\n",
        "select\n",
        "  t.article_id\n",
        "  ,t.target\n",
        "  ,t.text\n",
        "  ,replace(t.word, ':|#', '') as word -- remove \":\" and \"#\"\n",
        "  ,t.n\n",
        "  ,tf.tf * ln(power(df.df, -1)) as tfidf\n",
        "from\n",
        "  news20_text_parsed t\n",
        "  inner join\n",
        "  tf\n",
        "  on\n",
        "    t.article_id = tf.article_id\n",
        "    and\n",
        "    t.word = tf.word\n",
        "  inner join\n",
        "  df\n",
        "  on\n",
        "    t.word = df.word;"
      ],
      "execution_count": 0,
      "outputs": [
        {
          "output_type": "execute_result",
          "data": {
            "text/html": [
              "<div>\n",
              "<style scoped>\n",
              "    .dataframe tbody tr th:only-of-type {\n",
              "        vertical-align: middle;\n",
              "    }\n",
              "\n",
              "    .dataframe tbody tr th {\n",
              "        vertical-align: top;\n",
              "    }\n",
              "\n",
              "    .dataframe thead th {\n",
              "        text-align: right;\n",
              "    }\n",
              "</style>\n",
              "<table border=\"1\" class=\"dataframe\">\n",
              "  <thead>\n",
              "    <tr style=\"text-align: right;\">\n",
              "      <th></th>\n",
              "      <th>rows</th>\n",
              "    </tr>\n",
              "  </thead>\n",
              "  <tbody>\n",
              "    <tr>\n",
              "      <th>0</th>\n",
              "      <td>3094185</td>\n",
              "    </tr>\n",
              "  </tbody>\n",
              "</table>\n",
              "</div>"
            ],
            "text/plain": [
              "      rows\n",
              "0  3094185"
            ]
          },
          "metadata": {
            "tags": []
          },
          "execution_count": 172
        }
      ]
    },
    {
      "metadata": {
        "id": "d8fXyCTULVyf",
        "colab_type": "text"
      },
      "cell_type": "markdown",
      "source": [
        "The table created is below."
      ]
    },
    {
      "metadata": {
        "id": "cGmZGRPh4jNX",
        "colab_type": "code",
        "outputId": "07d6400f-9bfc-46ce-9a4d-8e5a48da7255",
        "colab": {
          "base_uri": "https://localhost:8080/",
          "height": 235
        }
      },
      "cell_type": "code",
      "source": [
        "%%td_presto\n",
        "select\n",
        "  *\n",
        "from\n",
        "  news20_tfidf_added\n",
        "order by\n",
        "  tfidf desc\n",
        "limit 5"
      ],
      "execution_count": 0,
      "outputs": [
        {
          "output_type": "execute_result",
          "data": {
            "text/html": [
              "<div>\n",
              "<style scoped>\n",
              "    .dataframe tbody tr th:only-of-type {\n",
              "        vertical-align: middle;\n",
              "    }\n",
              "\n",
              "    .dataframe tbody tr th {\n",
              "        vertical-align: top;\n",
              "    }\n",
              "\n",
              "    .dataframe thead th {\n",
              "        text-align: right;\n",
              "    }\n",
              "</style>\n",
              "<table border=\"1\" class=\"dataframe\">\n",
              "  <thead>\n",
              "    <tr style=\"text-align: right;\">\n",
              "      <th></th>\n",
              "      <th>article_id</th>\n",
              "      <th>target</th>\n",
              "      <th>text</th>\n",
              "      <th>word</th>\n",
              "      <th>n</th>\n",
              "      <th>tfidf</th>\n",
              "    </tr>\n",
              "    <tr>\n",
              "      <th>time</th>\n",
              "      <th></th>\n",
              "      <th></th>\n",
              "      <th></th>\n",
              "      <th></th>\n",
              "      <th></th>\n",
              "      <th></th>\n",
              "    </tr>\n",
              "  </thead>\n",
              "  <tbody>\n",
              "    <tr>\n",
              "      <th>2018-12-26 09:00:49</th>\n",
              "      <td>16653</td>\n",
              "      <td>alt.atheism</td>\n",
              "      <td>From: Edwin Gans\\nSubject: Atheism\\nNntp-Posti...</td>\n",
              "      <td>gans</td>\n",
              "      <td>1</td>\n",
              "      <td>0.656270</td>\n",
              "    </tr>\n",
              "    <tr>\n",
              "      <th>2018-12-26 09:00:49</th>\n",
              "      <td>6426</td>\n",
              "      <td>comp.windows.x</td>\n",
              "      <td>From: skji@eve.kaist.ac.KR (Ji SoonKi)\\nSubjec...</td>\n",
              "      <td>skji@eve</td>\n",
              "      <td>2</td>\n",
              "      <td>0.615253</td>\n",
              "    </tr>\n",
              "    <tr>\n",
              "      <th>2018-12-26 09:00:49</th>\n",
              "      <td>6426</td>\n",
              "      <td>comp.windows.x</td>\n",
              "      <td>From: skji@eve.kaist.ac.KR (Ji SoonKi)\\nSubjec...</td>\n",
              "      <td>soonki</td>\n",
              "      <td>1</td>\n",
              "      <td>0.615253</td>\n",
              "    </tr>\n",
              "    <tr>\n",
              "      <th>2018-12-26 09:00:49</th>\n",
              "      <td>10877</td>\n",
              "      <td>comp.graphics</td>\n",
              "      <td>From: hl7204@eehp22 (H L)\\nSubject: Re: Graphi...</td>\n",
              "      <td>hl7204@eehp22</td>\n",
              "      <td>1</td>\n",
              "      <td>0.579062</td>\n",
              "    </tr>\n",
              "    <tr>\n",
              "      <th>2018-12-26 09:00:49</th>\n",
              "      <td>14924</td>\n",
              "      <td>comp.windows.x</td>\n",
              "      <td>From: gtkurdy@access.digex.net (GodTom)\\nSubje...</td>\n",
              "      <td>tommyvision</td>\n",
              "      <td>1</td>\n",
              "      <td>0.579062</td>\n",
              "    </tr>\n",
              "  </tbody>\n",
              "</table>\n",
              "</div>"
            ],
            "text/plain": [
              "                     article_id          target  \\\n",
              "time                                              \n",
              "2018-12-26 09:00:49       16653     alt.atheism   \n",
              "2018-12-26 09:00:49        6426  comp.windows.x   \n",
              "2018-12-26 09:00:49        6426  comp.windows.x   \n",
              "2018-12-26 09:00:49       10877   comp.graphics   \n",
              "2018-12-26 09:00:49       14924  comp.windows.x   \n",
              "\n",
              "                                                                  text  \\\n",
              "time                                                                     \n",
              "2018-12-26 09:00:49  From: Edwin Gans\\nSubject: Atheism\\nNntp-Posti...   \n",
              "2018-12-26 09:00:49  From: skji@eve.kaist.ac.KR (Ji SoonKi)\\nSubjec...   \n",
              "2018-12-26 09:00:49  From: skji@eve.kaist.ac.KR (Ji SoonKi)\\nSubjec...   \n",
              "2018-12-26 09:00:49  From: hl7204@eehp22 (H L)\\nSubject: Re: Graphi...   \n",
              "2018-12-26 09:00:49  From: gtkurdy@access.digex.net (GodTom)\\nSubje...   \n",
              "\n",
              "                              word  n     tfidf  \n",
              "time                                             \n",
              "2018-12-26 09:00:49           gans  1  0.656270  \n",
              "2018-12-26 09:00:49       skji@eve  2  0.615253  \n",
              "2018-12-26 09:00:49         soonki  1  0.615253  \n",
              "2018-12-26 09:00:49  hl7204@eehp22  1  0.579062  \n",
              "2018-12-26 09:00:49    tommyvision  1  0.579062  "
            ]
          },
          "metadata": {
            "tags": []
          },
          "execution_count": 104
        }
      ]
    },
    {
      "metadata": {
        "id": "FWvT90Jgswq3",
        "colab_type": "text"
      },
      "cell_type": "markdown",
      "source": [
        "## Aggregate data and split into training data and test data\n",
        "The data is splitted into training data and test data.  \n",
        "Articles whose article_id's ones place in 7 or 8 or 9 are assigned to test data,  \n",
        "others are assigned to training data.  \n",
        "Machine learning model is created by training data, and it's evaluated by test data.\n",
        "\n",
        "Also, data is aggregated so as to 1 record / 1 article."
      ]
    },
    {
      "metadata": {
        "id": "8OBA58Ul0XXQ",
        "colab_type": "code",
        "colab": {}
      },
      "cell_type": "code",
      "source": [
        "!td table:delete -f $DATABASE news20_aggregate\n",
        "!td table:create $DATABASE news20_aggregate"
      ],
      "execution_count": 0,
      "outputs": []
    },
    {
      "metadata": {
        "id": "TFbT4PgQxT7d",
        "colab_type": "code",
        "colab": {}
      },
      "cell_type": "code",
      "source": [
        "%%td_hive\n",
        "insert overwrite table news20_aggregate\n",
        "select\n",
        "  article_id\n",
        "  ,target\n",
        "  ,case when article_id % 10 in (7,8,9) then 'test' else 'train' end as class\n",
        "  ,collect_set(feature(word, tfidf)) as word_with_weight\n",
        "  ,sum(n) as n_word\n",
        "from\n",
        "  news20_tfidf_added\n",
        "group by\n",
        "  1,2"
      ],
      "execution_count": 0,
      "outputs": []
    },
    {
      "metadata": {
        "id": "AQ-r22QWLk8S",
        "colab_type": "text"
      },
      "cell_type": "markdown",
      "source": [
        "The table created is below."
      ]
    },
    {
      "metadata": {
        "id": "cBSlvMFV4cbX",
        "colab_type": "code",
        "outputId": "d00f5c22-692f-4b6a-9105-026cff9c1458",
        "colab": {
          "base_uri": "https://localhost:8080/",
          "height": 235
        }
      },
      "cell_type": "code",
      "source": [
        "%%td_presto\n",
        "select\n",
        "  *\n",
        "from\n",
        "  news20_aggregate\n",
        "limit 5"
      ],
      "execution_count": 0,
      "outputs": [
        {
          "output_type": "execute_result",
          "data": {
            "text/html": [
              "<div>\n",
              "<style scoped>\n",
              "    .dataframe tbody tr th:only-of-type {\n",
              "        vertical-align: middle;\n",
              "    }\n",
              "\n",
              "    .dataframe tbody tr th {\n",
              "        vertical-align: top;\n",
              "    }\n",
              "\n",
              "    .dataframe thead th {\n",
              "        text-align: right;\n",
              "    }\n",
              "</style>\n",
              "<table border=\"1\" class=\"dataframe\">\n",
              "  <thead>\n",
              "    <tr style=\"text-align: right;\">\n",
              "      <th></th>\n",
              "      <th>article_id</th>\n",
              "      <th>target</th>\n",
              "      <th>class</th>\n",
              "      <th>word_with_weight</th>\n",
              "      <th>n_word</th>\n",
              "    </tr>\n",
              "    <tr>\n",
              "      <th>time</th>\n",
              "      <th></th>\n",
              "      <th></th>\n",
              "      <th></th>\n",
              "      <th></th>\n",
              "      <th></th>\n",
              "    </tr>\n",
              "  </thead>\n",
              "  <tbody>\n",
              "    <tr>\n",
              "      <th>2018-12-26 09:28:00</th>\n",
              "      <td>14</td>\n",
              "      <td>alt.atheism</td>\n",
              "      <td>train</td>\n",
              "      <td>[bucaille:0.10293272570415753, learning:0.0620...</td>\n",
              "      <td>111</td>\n",
              "    </tr>\n",
              "    <tr>\n",
              "      <th>2018-12-26 09:28:00</th>\n",
              "      <td>19</td>\n",
              "      <td>rec.motorcycles</td>\n",
              "      <td>test</td>\n",
              "      <td>[lies:0.02242048701027554, anglia:0.0345954438...</td>\n",
              "      <td>360</td>\n",
              "    </tr>\n",
              "    <tr>\n",
              "      <th>2018-12-26 09:28:00</th>\n",
              "      <td>33</td>\n",
              "      <td>rec.sport.baseball</td>\n",
              "      <td>train</td>\n",
              "      <td>[going:0.022690651426093777, was:0.00930888342...</td>\n",
              "      <td>136</td>\n",
              "    </tr>\n",
              "    <tr>\n",
              "      <th>2018-12-26 09:28:00</th>\n",
              "      <td>43</td>\n",
              "      <td>rec.autos</td>\n",
              "      <td>train</td>\n",
              "      <td>[the:0.0010707027994893944, a:0.00207977309413...</td>\n",
              "      <td>88</td>\n",
              "    </tr>\n",
              "    <tr>\n",
              "      <th>2018-12-26 09:28:00</th>\n",
              "      <td>49</td>\n",
              "      <td>comp.os.ms-windows.misc</td>\n",
              "      <td>test</td>\n",
              "      <td>[want:0.026274898057078548, wl-1:0.11436969522...</td>\n",
              "      <td>107</td>\n",
              "    </tr>\n",
              "  </tbody>\n",
              "</table>\n",
              "</div>"
            ],
            "text/plain": [
              "                     article_id                   target  class  \\\n",
              "time                                                              \n",
              "2018-12-26 09:28:00          14              alt.atheism  train   \n",
              "2018-12-26 09:28:00          19          rec.motorcycles   test   \n",
              "2018-12-26 09:28:00          33       rec.sport.baseball  train   \n",
              "2018-12-26 09:28:00          43                rec.autos  train   \n",
              "2018-12-26 09:28:00          49  comp.os.ms-windows.misc   test   \n",
              "\n",
              "                                                      word_with_weight  n_word  \n",
              "time                                                                            \n",
              "2018-12-26 09:28:00  [bucaille:0.10293272570415753, learning:0.0620...     111  \n",
              "2018-12-26 09:28:00  [lies:0.02242048701027554, anglia:0.0345954438...     360  \n",
              "2018-12-26 09:28:00  [going:0.022690651426093777, was:0.00930888342...     136  \n",
              "2018-12-26 09:28:00  [the:0.0010707027994893944, a:0.00207977309413...      88  \n",
              "2018-12-26 09:28:00  [want:0.026274898057078548, wl-1:0.11436969522...     107  "
            ]
          },
          "metadata": {
            "tags": []
          },
          "execution_count": 105
        }
      ]
    },
    {
      "metadata": {
        "id": "ead3qFUr4OFh",
        "colab_type": "text"
      },
      "cell_type": "markdown",
      "source": [
        "## Convert data into Hivemall input format"
      ]
    },
    {
      "metadata": {
        "id": "PMRByP5Y33Wt",
        "colab_type": "code",
        "colab": {}
      },
      "cell_type": "code",
      "source": [
        "!td table:delete -f $DATABASE news20_train_data\n",
        "!td table:create $DATABASE news20_train_data"
      ],
      "execution_count": 0,
      "outputs": []
    },
    {
      "metadata": {
        "id": "FEgVckxa19OZ",
        "colab_type": "code",
        "colab": {}
      },
      "cell_type": "code",
      "source": [
        "%%td_hive\n",
        "insert overwrite table news20_train_data\n",
        "select\n",
        "  article_id\n",
        "  ,target\n",
        "  ,(dense_rank() over(order by target)) - 1 as target_id\n",
        "  ,class\n",
        "  ,word_with_weight\n",
        "  ,n_word\n",
        "  ,array_concat(feature_hashing(word_with_weight, '-features 1000'), array(feature(1001, n_word))) as sparse_features \n",
        "  ,to_dense_features(array_concat(feature_hashing(word_with_weight, '-features 1000'), array(feature(1001, n_word))), 1001) as dense_features \n",
        "from\n",
        "  news20_aggregate"
      ],
      "execution_count": 0,
      "outputs": []
    },
    {
      "metadata": {
        "id": "cub4QVV-LnFv",
        "colab_type": "text"
      },
      "cell_type": "markdown",
      "source": [
        "The table created is below."
      ]
    },
    {
      "metadata": {
        "id": "WxMWDwxE38C9",
        "colab_type": "code",
        "outputId": "303efcde-ec4d-470a-8acd-3fb3cee0d867",
        "colab": {
          "base_uri": "https://localhost:8080/",
          "height": 320
        }
      },
      "cell_type": "code",
      "source": [
        "%%td_presto\n",
        "select\n",
        "  *\n",
        "from\n",
        "  news20_train_data\n",
        "limit 5"
      ],
      "execution_count": 0,
      "outputs": [
        {
          "output_type": "execute_result",
          "data": {
            "text/html": [
              "<div>\n",
              "<style scoped>\n",
              "    .dataframe tbody tr th:only-of-type {\n",
              "        vertical-align: middle;\n",
              "    }\n",
              "\n",
              "    .dataframe tbody tr th {\n",
              "        vertical-align: top;\n",
              "    }\n",
              "\n",
              "    .dataframe thead th {\n",
              "        text-align: right;\n",
              "    }\n",
              "</style>\n",
              "<table border=\"1\" class=\"dataframe\">\n",
              "  <thead>\n",
              "    <tr style=\"text-align: right;\">\n",
              "      <th></th>\n",
              "      <th>article_id</th>\n",
              "      <th>target</th>\n",
              "      <th>target_id</th>\n",
              "      <th>class</th>\n",
              "      <th>word_with_weight</th>\n",
              "      <th>n_word</th>\n",
              "      <th>sparse_features</th>\n",
              "      <th>dense_features</th>\n",
              "    </tr>\n",
              "    <tr>\n",
              "      <th>time</th>\n",
              "      <th></th>\n",
              "      <th></th>\n",
              "      <th></th>\n",
              "      <th></th>\n",
              "      <th></th>\n",
              "      <th></th>\n",
              "      <th></th>\n",
              "      <th></th>\n",
              "    </tr>\n",
              "  </thead>\n",
              "  <tbody>\n",
              "    <tr>\n",
              "      <th>2018-12-26 10:01:50</th>\n",
              "      <td>9603</td>\n",
              "      <td>alt.atheism</td>\n",
              "      <td>0</td>\n",
              "      <td>train</td>\n",
              "      <td>[wrote:0.020293138749969377, united:0.03071855...</td>\n",
              "      <td>198</td>\n",
              "      <td>[39:0.020293138749969377, 718:0.03071855585543...</td>\n",
              "      <td>[None, None, None, None, None, None, None, Non...</td>\n",
              "    </tr>\n",
              "    <tr>\n",
              "      <th>2018-12-26 10:01:50</th>\n",
              "      <td>9645</td>\n",
              "      <td>alt.atheism</td>\n",
              "      <td>0</td>\n",
              "      <td>train</td>\n",
              "      <td>[anecdote:0.03834577992242249, on:0.0030592858...</td>\n",
              "      <td>285</td>\n",
              "      <td>[679:0.03834577992242249, 878:0.00305928589836...</td>\n",
              "      <td>[None, None, None, 0.01308276318013668, None, ...</td>\n",
              "    </tr>\n",
              "    <tr>\n",
              "      <th>2018-12-26 10:01:50</th>\n",
              "      <td>9729</td>\n",
              "      <td>alt.atheism</td>\n",
              "      <td>0</td>\n",
              "      <td>test</td>\n",
              "      <td>[essential:0.036825232130209745, suffering:0.0...</td>\n",
              "      <td>207</td>\n",
              "      <td>[31:0.036825232130209745, 398:0.03411780820084...</td>\n",
              "      <td>[None, None, None, None, None, None, None, Non...</td>\n",
              "    </tr>\n",
              "    <tr>\n",
              "      <th>2018-12-26 10:01:50</th>\n",
              "      <td>10023</td>\n",
              "      <td>alt.atheism</td>\n",
              "      <td>0</td>\n",
              "      <td>train</td>\n",
              "      <td>[case:0.01084380680464114, car:0.0143130763683...</td>\n",
              "      <td>577</td>\n",
              "      <td>[850:0.01084380680464114, 850:0.01431307636836...</td>\n",
              "      <td>[None, None, None, None, None, None, None, Non...</td>\n",
              "    </tr>\n",
              "    <tr>\n",
              "      <th>2018-12-26 10:01:50</th>\n",
              "      <td>10030</td>\n",
              "      <td>alt.atheism</td>\n",
              "      <td>0</td>\n",
              "      <td>train</td>\n",
              "      <td>[and:0.001997482549206443, 1:0.014105130536907...</td>\n",
              "      <td>112</td>\n",
              "      <td>[528:0.001997482549206443, 687:0.0141051305369...</td>\n",
              "      <td>[None, None, None, None, None, None, None, Non...</td>\n",
              "    </tr>\n",
              "  </tbody>\n",
              "</table>\n",
              "</div>"
            ],
            "text/plain": [
              "                     article_id       target  target_id  class  \\\n",
              "time                                                             \n",
              "2018-12-26 10:01:50        9603  alt.atheism          0  train   \n",
              "2018-12-26 10:01:50        9645  alt.atheism          0  train   \n",
              "2018-12-26 10:01:50        9729  alt.atheism          0   test   \n",
              "2018-12-26 10:01:50       10023  alt.atheism          0  train   \n",
              "2018-12-26 10:01:50       10030  alt.atheism          0  train   \n",
              "\n",
              "                                                      word_with_weight  \\\n",
              "time                                                                     \n",
              "2018-12-26 10:01:50  [wrote:0.020293138749969377, united:0.03071855...   \n",
              "2018-12-26 10:01:50  [anecdote:0.03834577992242249, on:0.0030592858...   \n",
              "2018-12-26 10:01:50  [essential:0.036825232130209745, suffering:0.0...   \n",
              "2018-12-26 10:01:50  [case:0.01084380680464114, car:0.0143130763683...   \n",
              "2018-12-26 10:01:50  [and:0.001997482549206443, 1:0.014105130536907...   \n",
              "\n",
              "                     n_word  \\\n",
              "time                          \n",
              "2018-12-26 10:01:50     198   \n",
              "2018-12-26 10:01:50     285   \n",
              "2018-12-26 10:01:50     207   \n",
              "2018-12-26 10:01:50     577   \n",
              "2018-12-26 10:01:50     112   \n",
              "\n",
              "                                                       sparse_features  \\\n",
              "time                                                                     \n",
              "2018-12-26 10:01:50  [39:0.020293138749969377, 718:0.03071855585543...   \n",
              "2018-12-26 10:01:50  [679:0.03834577992242249, 878:0.00305928589836...   \n",
              "2018-12-26 10:01:50  [31:0.036825232130209745, 398:0.03411780820084...   \n",
              "2018-12-26 10:01:50  [850:0.01084380680464114, 850:0.01431307636836...   \n",
              "2018-12-26 10:01:50  [528:0.001997482549206443, 687:0.0141051305369...   \n",
              "\n",
              "                                                        dense_features  \n",
              "time                                                                    \n",
              "2018-12-26 10:01:50  [None, None, None, None, None, None, None, Non...  \n",
              "2018-12-26 10:01:50  [None, None, None, 0.01308276318013668, None, ...  \n",
              "2018-12-26 10:01:50  [None, None, None, None, None, None, None, Non...  \n",
              "2018-12-26 10:01:50  [None, None, None, None, None, None, None, Non...  \n",
              "2018-12-26 10:01:50  [None, None, None, None, None, None, None, Non...  "
            ]
          },
          "metadata": {
            "tags": []
          },
          "execution_count": 94
        }
      ]
    },
    {
      "metadata": {
        "id": "SA_WxCAL5Cv6",
        "colab_type": "text"
      },
      "cell_type": "markdown",
      "source": [
        "## Build a model with Random Forest Classifier\n",
        "[wikipdia of RandomForest in English](https://en.wikipedia.org/wiki/Random_forest)  \n",
        "[wikipdia of RandomForest in Japanese](https://ja.wikipedia.org/wiki/%E3%83%A9%E3%83%B3%E3%83%80%E3%83%A0%E3%83%95%E3%82%A9%E3%83%AC%E3%82%B9%E3%83%88)"
      ]
    },
    {
      "metadata": {
        "id": "419DOVgY6QwE",
        "colab_type": "code",
        "colab": {}
      },
      "cell_type": "code",
      "source": [
        "!td table:delete -f $DATABASE news20_randomforest_model\n",
        "!td table:create $DATABASE news20_randomforest_model"
      ],
      "execution_count": 0,
      "outputs": []
    },
    {
      "metadata": {
        "id": "oJCqzEpJ41k8",
        "colab_type": "code",
        "colab": {}
      },
      "cell_type": "code",
      "source": [
        "%%td_hive\n",
        "insert overwrite table news20_randomforest_model\n",
        "select\n",
        "  train_randomforest_classifier(dense_features, target_id, '-trees 50')\n",
        "  -- train_randomforest_classifier(dense_features, target_id, '-trees 50 -splits 10 -leafs 1 -depth 1000')\n",
        "from\n",
        "  news20_train_data\n",
        "where\n",
        "  class = 'train'"
      ],
      "execution_count": 0,
      "outputs": []
    },
    {
      "metadata": {
        "id": "swPG69eqLqra",
        "colab_type": "text"
      },
      "cell_type": "markdown",
      "source": [
        "The table created is below."
      ]
    },
    {
      "metadata": {
        "id": "IL7m5nD65wfN",
        "colab_type": "code",
        "outputId": "4be9b32e-8705-4529-e4b0-d0e5d5a69726",
        "colab": {
          "base_uri": "https://localhost:8080/",
          "height": 320
        }
      },
      "cell_type": "code",
      "source": [
        "%%td_presto\n",
        "select\n",
        "  *\n",
        "from\n",
        "  news20_randomforest_model\n",
        "limit 5"
      ],
      "execution_count": 0,
      "outputs": [
        {
          "output_type": "execute_result",
          "data": {
            "text/html": [
              "<div>\n",
              "<style scoped>\n",
              "    .dataframe tbody tr th:only-of-type {\n",
              "        vertical-align: middle;\n",
              "    }\n",
              "\n",
              "    .dataframe tbody tr th {\n",
              "        vertical-align: top;\n",
              "    }\n",
              "\n",
              "    .dataframe thead th {\n",
              "        text-align: right;\n",
              "    }\n",
              "</style>\n",
              "<table border=\"1\" class=\"dataframe\">\n",
              "  <thead>\n",
              "    <tr style=\"text-align: right;\">\n",
              "      <th></th>\n",
              "      <th>model_id</th>\n",
              "      <th>model_weight</th>\n",
              "      <th>model</th>\n",
              "      <th>var_importance</th>\n",
              "      <th>oob_errors</th>\n",
              "      <th>oob_tests</th>\n",
              "    </tr>\n",
              "    <tr>\n",
              "      <th>time</th>\n",
              "      <th></th>\n",
              "      <th></th>\n",
              "      <th></th>\n",
              "      <th></th>\n",
              "      <th></th>\n",
              "      <th></th>\n",
              "    </tr>\n",
              "  </thead>\n",
              "  <tbody>\n",
              "    <tr>\n",
              "      <th>2018-12-27 03:27:56</th>\n",
              "      <td>3c72729e-39b6-4c41-9c99-d3b641accea3</td>\n",
              "      <td>0.192395</td>\n",
              "      <td>I?brQF6a3iZW;%gYKOAGKz_A)HR5)O0/2H-JzNtPa6K{N(...</td>\n",
              "      <td>[0.0, 1.248896028873176, 0.4887595271265346, 4...</td>\n",
              "      <td>0</td>\n",
              "      <td>0</td>\n",
              "    </tr>\n",
              "    <tr>\n",
              "      <th>2018-12-27 03:27:56</th>\n",
              "      <td>fa3f538f-eba4-4689-93c7-0c36238709dd</td>\n",
              "      <td>0.185353</td>\n",
              "      <td>I?brQF&lt;ZO5gr&gt;%p,g*v{$:^)HHF~(/fx!G.tQ7aD_XIUXQ...</td>\n",
              "      <td>[0.0, 0.1763085399449037, 2.05214300902384, 4....</td>\n",
              "      <td>0</td>\n",
              "      <td>0</td>\n",
              "    </tr>\n",
              "    <tr>\n",
              "      <th>2018-12-27 03:27:56</th>\n",
              "      <td>7823f57e-dd61-4b47-b817-931b11251ef1</td>\n",
              "      <td>0.172129</td>\n",
              "      <td>I?brQF_Z4&gt;pW^%=W+O|W!iF8uO=4}t]_lYAD(.`BFEXh|_...</td>\n",
              "      <td>[0.0, 1.5532025990050413, 1.1958397509513885, ...</td>\n",
              "      <td>0</td>\n",
              "      <td>0</td>\n",
              "    </tr>\n",
              "    <tr>\n",
              "      <th>2018-12-27 03:27:56</th>\n",
              "      <td>3a2de7e9-cc14-4dd1-b527-251dece3e2d1</td>\n",
              "      <td>0.176458</td>\n",
              "      <td>I?brQF&lt;ZO5gr&gt;%NH~Cuc&amp;q7Wp4)B%W#f)FPcO~:t|FZag?...</td>\n",
              "      <td>[0.0, 0.8163140869917167, 0.9540537783864685, ...</td>\n",
              "      <td>0</td>\n",
              "      <td>0</td>\n",
              "    </tr>\n",
              "    <tr>\n",
              "      <th>2018-12-27 03:27:56</th>\n",
              "      <td>a564e3d8-9ab7-41a6-9356-cfa6ca65be9c</td>\n",
              "      <td>0.180277</td>\n",
              "      <td>I?brQF&lt;ZO5gr&gt;%*BBW8FAD!0PHu1b&gt;&gt;cnMYYaYHOwYnB;I...</td>\n",
              "      <td>[0.0, 0.6429974603067193, 1.8194567738607963, ...</td>\n",
              "      <td>0</td>\n",
              "      <td>0</td>\n",
              "    </tr>\n",
              "  </tbody>\n",
              "</table>\n",
              "</div>"
            ],
            "text/plain": [
              "                                                 model_id  model_weight  \\\n",
              "time                                                                      \n",
              "2018-12-27 03:27:56  3c72729e-39b6-4c41-9c99-d3b641accea3      0.192395   \n",
              "2018-12-27 03:27:56  fa3f538f-eba4-4689-93c7-0c36238709dd      0.185353   \n",
              "2018-12-27 03:27:56  7823f57e-dd61-4b47-b817-931b11251ef1      0.172129   \n",
              "2018-12-27 03:27:56  3a2de7e9-cc14-4dd1-b527-251dece3e2d1      0.176458   \n",
              "2018-12-27 03:27:56  a564e3d8-9ab7-41a6-9356-cfa6ca65be9c      0.180277   \n",
              "\n",
              "                                                                 model  \\\n",
              "time                                                                     \n",
              "2018-12-27 03:27:56  I?brQF6a3iZW;%gYKOAGKz_A)HR5)O0/2H-JzNtPa6K{N(...   \n",
              "2018-12-27 03:27:56  I?brQF<ZO5gr>%p,g*v{$:^)HHF~(/fx!G.tQ7aD_XIUXQ...   \n",
              "2018-12-27 03:27:56  I?brQF_Z4>pW^%=W+O|W!iF8uO=4}t]_lYAD(.`BFEXh|_...   \n",
              "2018-12-27 03:27:56  I?brQF<ZO5gr>%NH~Cuc&q7Wp4)B%W#f)FPcO~:t|FZag?...   \n",
              "2018-12-27 03:27:56  I?brQF<ZO5gr>%*BBW8FAD!0PHu1b>>cnMYYaYHOwYnB;I...   \n",
              "\n",
              "                                                        var_importance  \\\n",
              "time                                                                     \n",
              "2018-12-27 03:27:56  [0.0, 1.248896028873176, 0.4887595271265346, 4...   \n",
              "2018-12-27 03:27:56  [0.0, 0.1763085399449037, 2.05214300902384, 4....   \n",
              "2018-12-27 03:27:56  [0.0, 1.5532025990050413, 1.1958397509513885, ...   \n",
              "2018-12-27 03:27:56  [0.0, 0.8163140869917167, 0.9540537783864685, ...   \n",
              "2018-12-27 03:27:56  [0.0, 0.6429974603067193, 1.8194567738607963, ...   \n",
              "\n",
              "                     oob_errors  oob_tests  \n",
              "time                                        \n",
              "2018-12-27 03:27:56           0          0  \n",
              "2018-12-27 03:27:56           0          0  \n",
              "2018-12-27 03:27:56           0          0  \n",
              "2018-12-27 03:27:56           0          0  \n",
              "2018-12-27 03:27:56           0          0  "
            ]
          },
          "metadata": {
            "tags": []
          },
          "execution_count": 129
        }
      ]
    },
    {
      "metadata": {
        "id": "fvX-NcZd6-6u",
        "colab_type": "text"
      },
      "cell_type": "markdown",
      "source": [
        "## Predict"
      ]
    },
    {
      "metadata": {
        "id": "6WtqbZRrFIDA",
        "colab_type": "code",
        "colab": {}
      },
      "cell_type": "code",
      "source": [
        "!td table:delete -f $DATABASE news20_randomforest_predicted\n",
        "!td table:create $DATABASE news20_randomforest_predicted"
      ],
      "execution_count": 0,
      "outputs": []
    },
    {
      "metadata": {
        "id": "VlvTXzK-Dusr",
        "colab_type": "code",
        "colab": {}
      },
      "cell_type": "code",
      "source": [
        "%%td_hive\n",
        "insert overwrite table news20_randomforest_predicted\n",
        "SELECT\n",
        "  article_id,\n",
        "  class,\n",
        "  target_id,\n",
        "  rf_ensemble(predicted.value, predicted.posteriori, model_weight).label as predicted\n",
        "FROM (\n",
        "  SELECT\n",
        "    t.article_id,\n",
        "    class,\n",
        "    target_id,\n",
        "    p.model_weight,\n",
        "    tree_predict(p.model_id, p.model, t.dense_features, \"-classification\") as predicted\n",
        "  FROM (\n",
        "    SELECT \n",
        "      model_id, model_weight, model\n",
        "    FROM news20_randomforest_model\n",
        "    DISTRIBUTE BY rand(1)\n",
        "  ) p\n",
        "  LEFT OUTER JOIN news20_train_data t\n",
        ") t1\n",
        "group by\n",
        "  1,2,3"
      ],
      "execution_count": 0,
      "outputs": []
    },
    {
      "metadata": {
        "id": "BIw0n5uyF88U",
        "colab_type": "code",
        "outputId": "8be74318-af2c-4bad-f07b-438bfebc5841",
        "colab": {
          "base_uri": "https://localhost:8080/",
          "height": 235
        }
      },
      "cell_type": "code",
      "source": [
        "%%td_presto\n",
        "select\n",
        "  *\n",
        "from\n",
        "  news20_randomforest_predicted\n",
        "limit 5"
      ],
      "execution_count": 0,
      "outputs": [
        {
          "output_type": "execute_result",
          "data": {
            "text/html": [
              "<div>\n",
              "<style scoped>\n",
              "    .dataframe tbody tr th:only-of-type {\n",
              "        vertical-align: middle;\n",
              "    }\n",
              "\n",
              "    .dataframe tbody tr th {\n",
              "        vertical-align: top;\n",
              "    }\n",
              "\n",
              "    .dataframe thead th {\n",
              "        text-align: right;\n",
              "    }\n",
              "</style>\n",
              "<table border=\"1\" class=\"dataframe\">\n",
              "  <thead>\n",
              "    <tr style=\"text-align: right;\">\n",
              "      <th></th>\n",
              "      <th>article_id</th>\n",
              "      <th>class</th>\n",
              "      <th>target_id</th>\n",
              "      <th>predicted</th>\n",
              "    </tr>\n",
              "    <tr>\n",
              "      <th>time</th>\n",
              "      <th></th>\n",
              "      <th></th>\n",
              "      <th></th>\n",
              "      <th></th>\n",
              "    </tr>\n",
              "  </thead>\n",
              "  <tbody>\n",
              "    <tr>\n",
              "      <th>2018-12-27 03:33:27</th>\n",
              "      <td>0</td>\n",
              "      <td>train</td>\n",
              "      <td>10</td>\n",
              "      <td>10</td>\n",
              "    </tr>\n",
              "    <tr>\n",
              "      <th>2018-12-27 03:33:27</th>\n",
              "      <td>1</td>\n",
              "      <td>train</td>\n",
              "      <td>3</td>\n",
              "      <td>3</td>\n",
              "    </tr>\n",
              "    <tr>\n",
              "      <th>2018-12-27 03:33:27</th>\n",
              "      <td>2</td>\n",
              "      <td>train</td>\n",
              "      <td>17</td>\n",
              "      <td>17</td>\n",
              "    </tr>\n",
              "    <tr>\n",
              "      <th>2018-12-27 03:33:27</th>\n",
              "      <td>3</td>\n",
              "      <td>train</td>\n",
              "      <td>3</td>\n",
              "      <td>3</td>\n",
              "    </tr>\n",
              "    <tr>\n",
              "      <th>2018-12-27 03:33:27</th>\n",
              "      <td>4</td>\n",
              "      <td>train</td>\n",
              "      <td>4</td>\n",
              "      <td>4</td>\n",
              "    </tr>\n",
              "  </tbody>\n",
              "</table>\n",
              "</div>"
            ],
            "text/plain": [
              "                     article_id  class  target_id  predicted\n",
              "time                                                        \n",
              "2018-12-27 03:33:27           0  train         10         10\n",
              "2018-12-27 03:33:27           1  train          3          3\n",
              "2018-12-27 03:33:27           2  train         17         17\n",
              "2018-12-27 03:33:27           3  train          3          3\n",
              "2018-12-27 03:33:27           4  train          4          4"
            ]
          },
          "metadata": {
            "tags": []
          },
          "execution_count": 132
        }
      ]
    },
    {
      "metadata": {
        "id": "TiIZuLfkEc1w",
        "colab_type": "text"
      },
      "cell_type": "markdown",
      "source": [
        "## Evaluate"
      ]
    },
    {
      "metadata": {
        "id": "z4mkh0DDIzd3",
        "colab_type": "text"
      },
      "cell_type": "markdown",
      "source": [
        "### Train"
      ]
    },
    {
      "metadata": {
        "id": "vm9JrL7oGFAf",
        "colab_type": "code",
        "outputId": "df8e097e-285f-417f-8ff5-fa30453b9491",
        "colab": {
          "base_uri": "https://localhost:8080/",
          "height": 405
        }
      },
      "cell_type": "code",
      "source": [
        "result = td.read_td_query('''\n",
        "  select\n",
        "    class\n",
        "    ,target_id\n",
        "    ,predicted\n",
        "    ,count(*) as n\n",
        "  from\n",
        "    news20_randomforest_predicted\n",
        "  where\n",
        "    class = 'train'\n",
        "  group by\n",
        "    1,2,3\n",
        "''', engine=presto).pivot(index='target_id', columns='predicted', values='n').fillna(0)\n",
        "\n",
        "# Calculate the accuracy\n",
        "n_correct = np.trace(result)\n",
        "n_total = result.sum().sum()\n",
        "print('Accuracy : {:.2%} (= {:,} / {:,})'.format(n_correct / n_total, n_correct, n_total))\n",
        "\n",
        "# Picture\n",
        "fig, ax = plt.subplots(figsize=(15,6))\n",
        "sns.heatmap(result, annot=True, ax=ax)\n",
        "plt.show()"
      ],
      "execution_count": 0,
      "outputs": [
        {
          "output_type": "stream",
          "text": [
            "Accuracy : 99.95% (= 13,187.0 / 13,194.0)\n"
          ],
          "name": "stdout"
        },
        {
          "output_type": "display_data",
          "data": {
            "image/png": "[encoded data removed]",
            "text/plain": [
              "<matplotlib.figure.Figure at 0x7f08e9caf400>"
            ]
          },
          "metadata": {
            "tags": []
          }
        }
      ]
    },
    {
      "metadata": {
        "id": "pNy4P7MrI1c3",
        "colab_type": "text"
      },
      "cell_type": "markdown",
      "source": [
        "### Test"
      ]
    },
    {
      "metadata": {
        "id": "LlXGmL2QGazI",
        "colab_type": "code",
        "outputId": "ad81f959-33df-4954-f6df-d7e9d0cce7f8",
        "colab": {
          "base_uri": "https://localhost:8080/",
          "height": 405
        }
      },
      "cell_type": "code",
      "source": [
        "result = td.read_td_query('''\n",
        "  select\n",
        "    class\n",
        "    ,target_id\n",
        "    ,predicted\n",
        "    ,count(*) as n\n",
        "  from\n",
        "    news20_randomforest_predicted\n",
        "  where\n",
        "    class = 'test'\n",
        "  group by\n",
        "    1,2,3\n",
        "''', engine=presto).pivot(index='target_id', columns='predicted', values='n').fillna(0)\n",
        "\n",
        "# Calculate the accuracy\n",
        "n_correct = np.trace(result)\n",
        "n_total = result.sum().sum()\n",
        "print('Accuracy : {:.2%} (= {:,} / {:,})'.format(n_correct / n_total, n_correct, n_total))\n",
        "\n",
        "# Picture\n",
        "fig, ax = plt.subplots(figsize=(15,6))\n",
        "sns.heatmap(result, annot=True, ax=ax)\n",
        "plt.show()"
      ],
      "execution_count": 0,
      "outputs": [
        {
          "output_type": "stream",
          "text": [
            "Accuracy : 51.34% (= 2,902.0 / 5,652.0)\n"
          ],
          "name": "stdout"
        },
        {
          "output_type": "display_data",
          "data": {
            "image/png": "[encoded data removed]",
            "text/plain": [
              "<matplotlib.figure.Figure at 0x7f08ea14b588>"
            ]
          },
          "metadata": {
            "tags": []
          }
        }
      ]
    },
    {
      "metadata": {
        "id": "NdPCGlbZY6tS",
        "colab_type": "text"
      },
      "cell_type": "markdown",
      "source": [
        "## Check the variable importance\n",
        "The bigger the value is, the better it is."
      ]
    },
    {
      "metadata": {
        "id": "vOibSBJoM4wr",
        "colab_type": "code",
        "outputId": "1b79dfee-b921-426a-8af8-d47b0661e3f6",
        "colab": {
          "base_uri": "https://localhost:8080/",
          "height": 204
        }
      },
      "cell_type": "code",
      "source": [
        "%%td_hive\n",
        "select\n",
        "  n as index\n",
        "  ,subarray(importances, n-1, n)[0] as importance\n",
        "from (\n",
        "  select\n",
        "    array_sum(var_importance) as importances\n",
        "  from \n",
        "    news20_randomforest_model\n",
        "  ) t\n",
        "lateral view\n",
        "  generate_series(1,1001) t as n\n",
        "limit 5"
      ],
      "execution_count": 0,
      "outputs": [
        {
          "output_type": "execute_result",
          "data": {
            "text/html": [
              "<div>\n",
              "<style scoped>\n",
              "    .dataframe tbody tr th:only-of-type {\n",
              "        vertical-align: middle;\n",
              "    }\n",
              "\n",
              "    .dataframe tbody tr th {\n",
              "        vertical-align: top;\n",
              "    }\n",
              "\n",
              "    .dataframe thead th {\n",
              "        text-align: right;\n",
              "    }\n",
              "</style>\n",
              "<table border=\"1\" class=\"dataframe\">\n",
              "  <thead>\n",
              "    <tr style=\"text-align: right;\">\n",
              "      <th></th>\n",
              "      <th>index</th>\n",
              "      <th>importance</th>\n",
              "    </tr>\n",
              "  </thead>\n",
              "  <tbody>\n",
              "    <tr>\n",
              "      <th>0</th>\n",
              "      <td>1</td>\n",
              "      <td>0.000000</td>\n",
              "    </tr>\n",
              "    <tr>\n",
              "      <th>1</th>\n",
              "      <td>2</td>\n",
              "      <td>41.855683</td>\n",
              "    </tr>\n",
              "    <tr>\n",
              "      <th>2</th>\n",
              "      <td>3</td>\n",
              "      <td>79.576376</td>\n",
              "    </tr>\n",
              "    <tr>\n",
              "      <th>3</th>\n",
              "      <td>4</td>\n",
              "      <td>191.021420</td>\n",
              "    </tr>\n",
              "    <tr>\n",
              "      <th>4</th>\n",
              "      <td>5</td>\n",
              "      <td>34.466099</td>\n",
              "    </tr>\n",
              "  </tbody>\n",
              "</table>\n",
              "</div>"
            ],
            "text/plain": [
              "   index  importance\n",
              "0      1    0.000000\n",
              "1      2   41.855683\n",
              "2      3   79.576376\n",
              "3      4  191.021420\n",
              "4      5   34.466099"
            ]
          },
          "metadata": {
            "tags": []
          },
          "execution_count": 135
        }
      ]
    }
  ]
}